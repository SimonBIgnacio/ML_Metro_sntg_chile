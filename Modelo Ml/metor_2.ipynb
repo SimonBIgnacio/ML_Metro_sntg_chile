{
 "cells": [
  {
   "cell_type": "code",
   "execution_count": 23,
   "metadata": {},
   "outputs": [],
   "source": [
    "import pandas as pd\n",
    "import math\n",
    "import numpy as np\n",
    "import matplotlib.pyplot as plt\n",
    "from sklearn.linear_model import LogisticRegression\n",
    "from sklearn.ensemble import RandomForestClassifier\n",
    "from sklearn.tree import DecisionTreeClassifier\n",
    "from tensorflow.keras.callbacks import EarlyStopping\n",
    "from matplotlib.ticker import ScalarFormatter\n",
    "from matplotlib.ticker import FuncFormatter\n",
    "from sklearn.preprocessing import MinMaxScaler\n",
    "from tensorflow.keras.preprocessing.sequence import TimeseriesGenerator\n",
    "from tensorflow.keras.models import Sequential\n",
    "from tensorflow.keras.layers import Dense, LSTM, GRU\n",
    "from tensorflow.keras.regularizers import l2\n",
    "import plotly.express as px\n",
    "import plotly.graph_objects as go\n",
    "import plotly.express as px\n",
    "from IPython.display import display\n",
    "from ipywidgets import interactive\n",
    "import statsmodels.api as sm\n",
    "from prophet.plot import plot_plotly, plot_components_plotly\n",
    "from prophet import Prophet\n",
    "from statsmodels.graphics.tsaplots import plot_acf, plot_pacf\n",
    "from statsmodels.tsa.stattools import adfuller\n",
    "import statsmodels.api as sm\n",
    "\n",
    "\n",
    "\n",
    "filename = \"C:\\\\Users\\\\simon\\\\OneDrive\\\\Escritorio\\\\Coding_dojo\\\\Datos\\\\Datos personales\\\\Metro estudio.xlsx\"\n",
    "\n",
    "df = pd.read_excel(filename)"
   ]
  },
  {
   "cell_type": "code",
   "execution_count": 24,
   "metadata": {},
   "outputs": [
    {
     "data": {
      "text/html": [
       "<div>\n",
       "<style scoped>\n",
       "    .dataframe tbody tr th:only-of-type {\n",
       "        vertical-align: middle;\n",
       "    }\n",
       "\n",
       "    .dataframe tbody tr th {\n",
       "        vertical-align: top;\n",
       "    }\n",
       "\n",
       "    .dataframe thead th {\n",
       "        text-align: right;\n",
       "    }\n",
       "</style>\n",
       "<table border=\"1\" class=\"dataframe\">\n",
       "  <thead>\n",
       "    <tr style=\"text-align: right;\">\n",
       "      <th></th>\n",
       "      <th>Mes y año</th>\n",
       "      <th>Total Red</th>\n",
       "      <th>Pasajeros comunes</th>\n",
       "      <th>Escolares total</th>\n",
       "      <th>Escolares Pagados</th>\n",
       "      <th>Escolares Básicos (Gratuitos)</th>\n",
       "      <th>Total Linea 1</th>\n",
       "      <th>Pasajeros comunes 1</th>\n",
       "      <th>Escolares Total  1</th>\n",
       "      <th>Escolares Pagados 1</th>\n",
       "      <th>...</th>\n",
       "      <th>Total Linea 6</th>\n",
       "      <th>Pasajeros comunes 6</th>\n",
       "      <th>Escolares Total  6</th>\n",
       "      <th>Escolares Pagados 6</th>\n",
       "      <th>Escolares Básicos (Gratuitos) 6</th>\n",
       "      <th>Total Linea 3</th>\n",
       "      <th>Pasajeros comunes 3</th>\n",
       "      <th>Escolares Total  3</th>\n",
       "      <th>Escolares Pagados 3</th>\n",
       "      <th>Escolares Básicos (Gratuitos) 3</th>\n",
       "    </tr>\n",
       "  </thead>\n",
       "  <tbody>\n",
       "    <tr>\n",
       "      <th>0</th>\n",
       "      <td>2010-01-01</td>\n",
       "      <td>45448230</td>\n",
       "      <td>35876494</td>\n",
       "      <td>9571736</td>\n",
       "      <td>8995586</td>\n",
       "      <td>576150</td>\n",
       "      <td>19096868</td>\n",
       "      <td>15320325</td>\n",
       "      <td>3776543</td>\n",
       "      <td>3589795</td>\n",
       "      <td>...</td>\n",
       "      <td>NaN</td>\n",
       "      <td>NaN</td>\n",
       "      <td>NaN</td>\n",
       "      <td>NaN</td>\n",
       "      <td>NaN</td>\n",
       "      <td>NaN</td>\n",
       "      <td>NaN</td>\n",
       "      <td>NaN</td>\n",
       "      <td>NaN</td>\n",
       "      <td>NaN</td>\n",
       "    </tr>\n",
       "    <tr>\n",
       "      <th>1</th>\n",
       "      <td>2010-02-01</td>\n",
       "      <td>35380504</td>\n",
       "      <td>30168805</td>\n",
       "      <td>5211699</td>\n",
       "      <td>5074189</td>\n",
       "      <td>137510</td>\n",
       "      <td>14672104</td>\n",
       "      <td>12648074</td>\n",
       "      <td>2024030</td>\n",
       "      <td>1978204</td>\n",
       "      <td>...</td>\n",
       "      <td>NaN</td>\n",
       "      <td>NaN</td>\n",
       "      <td>NaN</td>\n",
       "      <td>NaN</td>\n",
       "      <td>NaN</td>\n",
       "      <td>NaN</td>\n",
       "      <td>NaN</td>\n",
       "      <td>NaN</td>\n",
       "      <td>NaN</td>\n",
       "      <td>NaN</td>\n",
       "    </tr>\n",
       "    <tr>\n",
       "      <th>2</th>\n",
       "      <td>2010-03-01</td>\n",
       "      <td>50872123</td>\n",
       "      <td>38427621</td>\n",
       "      <td>12444502</td>\n",
       "      <td>11469330</td>\n",
       "      <td>975172</td>\n",
       "      <td>21182839</td>\n",
       "      <td>16178579</td>\n",
       "      <td>5004260</td>\n",
       "      <td>4687592</td>\n",
       "      <td>...</td>\n",
       "      <td>NaN</td>\n",
       "      <td>NaN</td>\n",
       "      <td>NaN</td>\n",
       "      <td>NaN</td>\n",
       "      <td>NaN</td>\n",
       "      <td>NaN</td>\n",
       "      <td>NaN</td>\n",
       "      <td>NaN</td>\n",
       "      <td>NaN</td>\n",
       "      <td>NaN</td>\n",
       "    </tr>\n",
       "    <tr>\n",
       "      <th>3</th>\n",
       "      <td>2010-04-01</td>\n",
       "      <td>55724226</td>\n",
       "      <td>39097224</td>\n",
       "      <td>16627002</td>\n",
       "      <td>15312872</td>\n",
       "      <td>1314130</td>\n",
       "      <td>23579130</td>\n",
       "      <td>16637812</td>\n",
       "      <td>6941318</td>\n",
       "      <td>6495465</td>\n",
       "      <td>...</td>\n",
       "      <td>NaN</td>\n",
       "      <td>NaN</td>\n",
       "      <td>NaN</td>\n",
       "      <td>NaN</td>\n",
       "      <td>NaN</td>\n",
       "      <td>NaN</td>\n",
       "      <td>NaN</td>\n",
       "      <td>NaN</td>\n",
       "      <td>NaN</td>\n",
       "      <td>NaN</td>\n",
       "    </tr>\n",
       "    <tr>\n",
       "      <th>4</th>\n",
       "      <td>2010-05-01</td>\n",
       "      <td>55332802</td>\n",
       "      <td>38358934</td>\n",
       "      <td>16973868</td>\n",
       "      <td>15631219</td>\n",
       "      <td>1342649</td>\n",
       "      <td>23094136</td>\n",
       "      <td>16110826</td>\n",
       "      <td>6983310</td>\n",
       "      <td>6535747</td>\n",
       "      <td>...</td>\n",
       "      <td>NaN</td>\n",
       "      <td>NaN</td>\n",
       "      <td>NaN</td>\n",
       "      <td>NaN</td>\n",
       "      <td>NaN</td>\n",
       "      <td>NaN</td>\n",
       "      <td>NaN</td>\n",
       "      <td>NaN</td>\n",
       "      <td>NaN</td>\n",
       "      <td>NaN</td>\n",
       "    </tr>\n",
       "    <tr>\n",
       "      <th>...</th>\n",
       "      <td>...</td>\n",
       "      <td>...</td>\n",
       "      <td>...</td>\n",
       "      <td>...</td>\n",
       "      <td>...</td>\n",
       "      <td>...</td>\n",
       "      <td>...</td>\n",
       "      <td>...</td>\n",
       "      <td>...</td>\n",
       "      <td>...</td>\n",
       "      <td>...</td>\n",
       "      <td>...</td>\n",
       "      <td>...</td>\n",
       "      <td>...</td>\n",
       "      <td>...</td>\n",
       "      <td>...</td>\n",
       "      <td>...</td>\n",
       "      <td>...</td>\n",
       "      <td>...</td>\n",
       "      <td>...</td>\n",
       "      <td>...</td>\n",
       "    </tr>\n",
       "    <tr>\n",
       "      <th>156</th>\n",
       "      <td>2023-01-01</td>\n",
       "      <td>41085677</td>\n",
       "      <td>29692429</td>\n",
       "      <td>11393248</td>\n",
       "      <td>9660458</td>\n",
       "      <td>1732790</td>\n",
       "      <td>14158726</td>\n",
       "      <td>10568922</td>\n",
       "      <td>3589804</td>\n",
       "      <td>3080455</td>\n",
       "      <td>...</td>\n",
       "      <td>2592405.0</td>\n",
       "      <td>1897149.0</td>\n",
       "      <td>695256.0</td>\n",
       "      <td>592310.0</td>\n",
       "      <td>102946.0</td>\n",
       "      <td>4304899.0</td>\n",
       "      <td>3218406.0</td>\n",
       "      <td>1086493.0</td>\n",
       "      <td>928750.0</td>\n",
       "      <td>157743.0</td>\n",
       "    </tr>\n",
       "    <tr>\n",
       "      <th>157</th>\n",
       "      <td>2023-02-01</td>\n",
       "      <td>34606344</td>\n",
       "      <td>25317083</td>\n",
       "      <td>9289261</td>\n",
       "      <td>7803023</td>\n",
       "      <td>1486238</td>\n",
       "      <td>11920992</td>\n",
       "      <td>9006388</td>\n",
       "      <td>2914604</td>\n",
       "      <td>2478510</td>\n",
       "      <td>...</td>\n",
       "      <td>2186258.0</td>\n",
       "      <td>1620941.0</td>\n",
       "      <td>565317.0</td>\n",
       "      <td>476606.0</td>\n",
       "      <td>88711.0</td>\n",
       "      <td>3636090.0</td>\n",
       "      <td>2760529.0</td>\n",
       "      <td>875561.0</td>\n",
       "      <td>740709.0</td>\n",
       "      <td>134852.0</td>\n",
       "    </tr>\n",
       "    <tr>\n",
       "      <th>158</th>\n",
       "      <td>2023-03-01</td>\n",
       "      <td>53577205</td>\n",
       "      <td>35845167</td>\n",
       "      <td>17732038</td>\n",
       "      <td>15434639</td>\n",
       "      <td>2297399</td>\n",
       "      <td>18615401</td>\n",
       "      <td>12722544</td>\n",
       "      <td>5892857</td>\n",
       "      <td>5230031</td>\n",
       "      <td>...</td>\n",
       "      <td>3486077.0</td>\n",
       "      <td>2350314.0</td>\n",
       "      <td>1135763.0</td>\n",
       "      <td>995991.0</td>\n",
       "      <td>139772.0</td>\n",
       "      <td>5475829.0</td>\n",
       "      <td>3826612.0</td>\n",
       "      <td>1649217.0</td>\n",
       "      <td>1428683.0</td>\n",
       "      <td>220534.0</td>\n",
       "    </tr>\n",
       "    <tr>\n",
       "      <th>159</th>\n",
       "      <td>2023-04-01</td>\n",
       "      <td>49637585</td>\n",
       "      <td>31990585</td>\n",
       "      <td>17647000</td>\n",
       "      <td>15538188</td>\n",
       "      <td>2108812</td>\n",
       "      <td>17221273</td>\n",
       "      <td>11329150</td>\n",
       "      <td>5892123</td>\n",
       "      <td>5278205</td>\n",
       "      <td>...</td>\n",
       "      <td>3166250.0</td>\n",
       "      <td>2044719.0</td>\n",
       "      <td>1121531.0</td>\n",
       "      <td>994165.0</td>\n",
       "      <td>127366.0</td>\n",
       "      <td>5139546.0</td>\n",
       "      <td>3459242.0</td>\n",
       "      <td>1680304.0</td>\n",
       "      <td>1476819.0</td>\n",
       "      <td>203485.0</td>\n",
       "    </tr>\n",
       "    <tr>\n",
       "      <th>160</th>\n",
       "      <td>2023-05-01</td>\n",
       "      <td>55181712</td>\n",
       "      <td>35186554</td>\n",
       "      <td>19995158</td>\n",
       "      <td>17463217</td>\n",
       "      <td>2531941</td>\n",
       "      <td>19190204</td>\n",
       "      <td>12469642</td>\n",
       "      <td>6720562</td>\n",
       "      <td>5983205</td>\n",
       "      <td>...</td>\n",
       "      <td>3515493.0</td>\n",
       "      <td>2253503.0</td>\n",
       "      <td>1261990.0</td>\n",
       "      <td>1109160.0</td>\n",
       "      <td>152830.0</td>\n",
       "      <td>5651534.0</td>\n",
       "      <td>3787320.0</td>\n",
       "      <td>1864214.0</td>\n",
       "      <td>1623931.0</td>\n",
       "      <td>240283.0</td>\n",
       "    </tr>\n",
       "  </tbody>\n",
       "</table>\n",
       "<p>161 rows × 41 columns</p>\n",
       "</div>"
      ],
      "text/plain": [
       "     Mes y año  Total Red  Pasajeros comunes  Escolares total  \\\n",
       "0   2010-01-01   45448230           35876494          9571736   \n",
       "1   2010-02-01   35380504           30168805          5211699   \n",
       "2   2010-03-01   50872123           38427621         12444502   \n",
       "3   2010-04-01   55724226           39097224         16627002   \n",
       "4   2010-05-01   55332802           38358934         16973868   \n",
       "..         ...        ...                ...              ...   \n",
       "156 2023-01-01   41085677           29692429         11393248   \n",
       "157 2023-02-01   34606344           25317083          9289261   \n",
       "158 2023-03-01   53577205           35845167         17732038   \n",
       "159 2023-04-01   49637585           31990585         17647000   \n",
       "160 2023-05-01   55181712           35186554         19995158   \n",
       "\n",
       "     Escolares Pagados  Escolares Básicos (Gratuitos)  Total Linea 1  \\\n",
       "0              8995586                         576150       19096868   \n",
       "1              5074189                         137510       14672104   \n",
       "2             11469330                         975172       21182839   \n",
       "3             15312872                        1314130       23579130   \n",
       "4             15631219                        1342649       23094136   \n",
       "..                 ...                            ...            ...   \n",
       "156            9660458                        1732790       14158726   \n",
       "157            7803023                        1486238       11920992   \n",
       "158           15434639                        2297399       18615401   \n",
       "159           15538188                        2108812       17221273   \n",
       "160           17463217                        2531941       19190204   \n",
       "\n",
       "     Pasajeros comunes 1  Escolares Total  1  Escolares Pagados 1  ...  \\\n",
       "0               15320325             3776543              3589795  ...   \n",
       "1               12648074             2024030              1978204  ...   \n",
       "2               16178579             5004260              4687592  ...   \n",
       "3               16637812             6941318              6495465  ...   \n",
       "4               16110826             6983310              6535747  ...   \n",
       "..                   ...                 ...                  ...  ...   \n",
       "156             10568922             3589804              3080455  ...   \n",
       "157              9006388             2914604              2478510  ...   \n",
       "158             12722544             5892857              5230031  ...   \n",
       "159             11329150             5892123              5278205  ...   \n",
       "160             12469642             6720562              5983205  ...   \n",
       "\n",
       "     Total Linea 6  Pasajeros comunes 6  Escolares Total  6  \\\n",
       "0              NaN                  NaN                 NaN   \n",
       "1              NaN                  NaN                 NaN   \n",
       "2              NaN                  NaN                 NaN   \n",
       "3              NaN                  NaN                 NaN   \n",
       "4              NaN                  NaN                 NaN   \n",
       "..             ...                  ...                 ...   \n",
       "156      2592405.0            1897149.0            695256.0   \n",
       "157      2186258.0            1620941.0            565317.0   \n",
       "158      3486077.0            2350314.0           1135763.0   \n",
       "159      3166250.0            2044719.0           1121531.0   \n",
       "160      3515493.0            2253503.0           1261990.0   \n",
       "\n",
       "     Escolares Pagados 6  Escolares Básicos (Gratuitos) 6  Total Linea 3  \\\n",
       "0                    NaN                              NaN            NaN   \n",
       "1                    NaN                              NaN            NaN   \n",
       "2                    NaN                              NaN            NaN   \n",
       "3                    NaN                              NaN            NaN   \n",
       "4                    NaN                              NaN            NaN   \n",
       "..                   ...                              ...            ...   \n",
       "156             592310.0                         102946.0      4304899.0   \n",
       "157             476606.0                          88711.0      3636090.0   \n",
       "158             995991.0                         139772.0      5475829.0   \n",
       "159             994165.0                         127366.0      5139546.0   \n",
       "160            1109160.0                         152830.0      5651534.0   \n",
       "\n",
       "     Pasajeros comunes 3  Escolares Total  3  Escolares Pagados 3  \\\n",
       "0                    NaN                 NaN                  NaN   \n",
       "1                    NaN                 NaN                  NaN   \n",
       "2                    NaN                 NaN                  NaN   \n",
       "3                    NaN                 NaN                  NaN   \n",
       "4                    NaN                 NaN                  NaN   \n",
       "..                   ...                 ...                  ...   \n",
       "156            3218406.0           1086493.0             928750.0   \n",
       "157            2760529.0            875561.0             740709.0   \n",
       "158            3826612.0           1649217.0            1428683.0   \n",
       "159            3459242.0           1680304.0            1476819.0   \n",
       "160            3787320.0           1864214.0            1623931.0   \n",
       "\n",
       "     Escolares Básicos (Gratuitos) 3  \n",
       "0                                NaN  \n",
       "1                                NaN  \n",
       "2                                NaN  \n",
       "3                                NaN  \n",
       "4                                NaN  \n",
       "..                               ...  \n",
       "156                         157743.0  \n",
       "157                         134852.0  \n",
       "158                         220534.0  \n",
       "159                         203485.0  \n",
       "160                         240283.0  \n",
       "\n",
       "[161 rows x 41 columns]"
      ]
     },
     "execution_count": 24,
     "metadata": {},
     "output_type": "execute_result"
    }
   ],
   "source": [
    "df"
   ]
  },
  {
   "cell_type": "code",
   "execution_count": 25,
   "metadata": {},
   "outputs": [
    {
     "name": "stdout",
     "output_type": "stream",
     "text": [
      "<class 'pandas.core.frame.DataFrame'>\n",
      "RangeIndex: 161 entries, 0 to 160\n",
      "Data columns (total 41 columns):\n",
      " #   Column                            Non-Null Count  Dtype         \n",
      "---  ------                            --------------  -----         \n",
      " 0   Mes y año                         161 non-null    datetime64[ns]\n",
      " 1   Total Red                         161 non-null    int64         \n",
      " 2   Pasajeros comunes                 161 non-null    int64         \n",
      " 3   Escolares total                   161 non-null    int64         \n",
      " 4   Escolares Pagados                 161 non-null    int64         \n",
      " 5   Escolares Básicos (Gratuitos)     161 non-null    int64         \n",
      " 6   Total Linea 1                     161 non-null    int64         \n",
      " 7   Pasajeros comunes 1               161 non-null    int64         \n",
      " 8   Escolares Total  1                161 non-null    int64         \n",
      " 9   Escolares Pagados 1               161 non-null    int64         \n",
      " 10  Escolares Básicos (Gratuitos) 1   161 non-null    int64         \n",
      " 11  Total Linea 2                     161 non-null    int64         \n",
      " 12  Pasajeros comunes 2               161 non-null    int64         \n",
      " 13  Escolares Total  2                161 non-null    int64         \n",
      " 14  Escolares Pagados 2               161 non-null    int64         \n",
      " 15  Escolares Básicos (Gratuitos) 2   161 non-null    int64         \n",
      " 16  Total Linea 4                     161 non-null    int64         \n",
      " 17  Pasajeros comunes 4               161 non-null    int64         \n",
      " 18  Escolares Total  4                161 non-null    int64         \n",
      " 19  Escolares Pagados 4               161 non-null    int64         \n",
      " 20  Escolares Básicos (Gratuitos) 4   161 non-null    int64         \n",
      " 21  Total Linea 4A                    161 non-null    int64         \n",
      " 22  Pasajeros comunes 4A              161 non-null    int64         \n",
      " 23  Escolares Total  4A               161 non-null    int64         \n",
      " 24  Escolares Pagados 4A              161 non-null    int64         \n",
      " 25  Escolares Básicos (Gratuitos) 4A  161 non-null    int64         \n",
      " 26  Total Linea 5                     161 non-null    int64         \n",
      " 27  Pasajeros comunes 5               161 non-null    int64         \n",
      " 28  Escolares Total  5                161 non-null    int64         \n",
      " 29  Escolares Pagados 5               161 non-null    int64         \n",
      " 30  Escolares Básicos (Gratuitos) 5   161 non-null    int64         \n",
      " 31  Total Linea 6                     67 non-null     float64       \n",
      " 32  Pasajeros comunes 6               67 non-null     float64       \n",
      " 33  Escolares Total  6                67 non-null     float64       \n",
      " 34  Escolares Pagados 6               67 non-null     float64       \n",
      " 35  Escolares Básicos (Gratuitos) 6   67 non-null     float64       \n",
      " 36  Total Linea 3                     53 non-null     float64       \n",
      " 37  Pasajeros comunes 3               53 non-null     float64       \n",
      " 38  Escolares Total  3                53 non-null     float64       \n",
      " 39  Escolares Pagados 3               53 non-null     float64       \n",
      " 40  Escolares Básicos (Gratuitos) 3   53 non-null     float64       \n",
      "dtypes: datetime64[ns](1), float64(10), int64(30)\n",
      "memory usage: 51.7 KB\n"
     ]
    }
   ],
   "source": [
    "df.info()"
   ]
  },
  {
   "cell_type": "markdown",
   "metadata": {},
   "source": [
    "## información relevante\n",
    "\n",
    "1. Escolares pagados incluye tarifa adulto mayor\n",
    "2. A contar del 2017 se opera la línea 6 en Sntg\n",
    "3. A contar del 2019 se opera la línea 3 en Sntg \n",
    "4. En octubre 2019 comienza estallido social en Chile \n",
    "5. En marzo del 2020 comienza COVID - 19 en Chile\n"
   ]
  },
  {
   "cell_type": "code",
   "execution_count": 26,
   "metadata": {},
   "outputs": [
    {
     "data": {
      "text/html": [
       "<div>\n",
       "<style scoped>\n",
       "    .dataframe tbody tr th:only-of-type {\n",
       "        vertical-align: middle;\n",
       "    }\n",
       "\n",
       "    .dataframe tbody tr th {\n",
       "        vertical-align: top;\n",
       "    }\n",
       "\n",
       "    .dataframe thead th {\n",
       "        text-align: right;\n",
       "    }\n",
       "</style>\n",
       "<table border=\"1\" class=\"dataframe\">\n",
       "  <thead>\n",
       "    <tr style=\"text-align: right;\">\n",
       "      <th></th>\n",
       "      <th>Mes y año</th>\n",
       "      <th>Total Red</th>\n",
       "      <th>Pasajeros comunes</th>\n",
       "      <th>Escolares total</th>\n",
       "      <th>Escolares Pagados</th>\n",
       "      <th>Escolares Básicos (Gratuitos)</th>\n",
       "    </tr>\n",
       "  </thead>\n",
       "  <tbody>\n",
       "    <tr>\n",
       "      <th>0</th>\n",
       "      <td>2010-01-01</td>\n",
       "      <td>45448230</td>\n",
       "      <td>35876494</td>\n",
       "      <td>9571736</td>\n",
       "      <td>8995586</td>\n",
       "      <td>576150</td>\n",
       "    </tr>\n",
       "    <tr>\n",
       "      <th>1</th>\n",
       "      <td>2010-02-01</td>\n",
       "      <td>35380504</td>\n",
       "      <td>30168805</td>\n",
       "      <td>5211699</td>\n",
       "      <td>5074189</td>\n",
       "      <td>137510</td>\n",
       "    </tr>\n",
       "    <tr>\n",
       "      <th>2</th>\n",
       "      <td>2010-03-01</td>\n",
       "      <td>50872123</td>\n",
       "      <td>38427621</td>\n",
       "      <td>12444502</td>\n",
       "      <td>11469330</td>\n",
       "      <td>975172</td>\n",
       "    </tr>\n",
       "    <tr>\n",
       "      <th>3</th>\n",
       "      <td>2010-04-01</td>\n",
       "      <td>55724226</td>\n",
       "      <td>39097224</td>\n",
       "      <td>16627002</td>\n",
       "      <td>15312872</td>\n",
       "      <td>1314130</td>\n",
       "    </tr>\n",
       "    <tr>\n",
       "      <th>4</th>\n",
       "      <td>2010-05-01</td>\n",
       "      <td>55332802</td>\n",
       "      <td>38358934</td>\n",
       "      <td>16973868</td>\n",
       "      <td>15631219</td>\n",
       "      <td>1342649</td>\n",
       "    </tr>\n",
       "    <tr>\n",
       "      <th>...</th>\n",
       "      <td>...</td>\n",
       "      <td>...</td>\n",
       "      <td>...</td>\n",
       "      <td>...</td>\n",
       "      <td>...</td>\n",
       "      <td>...</td>\n",
       "    </tr>\n",
       "    <tr>\n",
       "      <th>156</th>\n",
       "      <td>2023-01-01</td>\n",
       "      <td>41085677</td>\n",
       "      <td>29692429</td>\n",
       "      <td>11393248</td>\n",
       "      <td>9660458</td>\n",
       "      <td>1732790</td>\n",
       "    </tr>\n",
       "    <tr>\n",
       "      <th>157</th>\n",
       "      <td>2023-02-01</td>\n",
       "      <td>34606344</td>\n",
       "      <td>25317083</td>\n",
       "      <td>9289261</td>\n",
       "      <td>7803023</td>\n",
       "      <td>1486238</td>\n",
       "    </tr>\n",
       "    <tr>\n",
       "      <th>158</th>\n",
       "      <td>2023-03-01</td>\n",
       "      <td>53577205</td>\n",
       "      <td>35845167</td>\n",
       "      <td>17732038</td>\n",
       "      <td>15434639</td>\n",
       "      <td>2297399</td>\n",
       "    </tr>\n",
       "    <tr>\n",
       "      <th>159</th>\n",
       "      <td>2023-04-01</td>\n",
       "      <td>49637585</td>\n",
       "      <td>31990585</td>\n",
       "      <td>17647000</td>\n",
       "      <td>15538188</td>\n",
       "      <td>2108812</td>\n",
       "    </tr>\n",
       "    <tr>\n",
       "      <th>160</th>\n",
       "      <td>2023-05-01</td>\n",
       "      <td>55181712</td>\n",
       "      <td>35186554</td>\n",
       "      <td>19995158</td>\n",
       "      <td>17463217</td>\n",
       "      <td>2531941</td>\n",
       "    </tr>\n",
       "  </tbody>\n",
       "</table>\n",
       "<p>161 rows × 6 columns</p>\n",
       "</div>"
      ],
      "text/plain": [
       "     Mes y año  Total Red  Pasajeros comunes  Escolares total  \\\n",
       "0   2010-01-01   45448230           35876494          9571736   \n",
       "1   2010-02-01   35380504           30168805          5211699   \n",
       "2   2010-03-01   50872123           38427621         12444502   \n",
       "3   2010-04-01   55724226           39097224         16627002   \n",
       "4   2010-05-01   55332802           38358934         16973868   \n",
       "..         ...        ...                ...              ...   \n",
       "156 2023-01-01   41085677           29692429         11393248   \n",
       "157 2023-02-01   34606344           25317083          9289261   \n",
       "158 2023-03-01   53577205           35845167         17732038   \n",
       "159 2023-04-01   49637585           31990585         17647000   \n",
       "160 2023-05-01   55181712           35186554         19995158   \n",
       "\n",
       "     Escolares Pagados  Escolares Básicos (Gratuitos)  \n",
       "0              8995586                         576150  \n",
       "1              5074189                         137510  \n",
       "2             11469330                         975172  \n",
       "3             15312872                        1314130  \n",
       "4             15631219                        1342649  \n",
       "..                 ...                            ...  \n",
       "156            9660458                        1732790  \n",
       "157            7803023                        1486238  \n",
       "158           15434639                        2297399  \n",
       "159           15538188                        2108812  \n",
       "160           17463217                        2531941  \n",
       "\n",
       "[161 rows x 6 columns]"
      ]
     },
     "execution_count": 26,
     "metadata": {},
     "output_type": "execute_result"
    }
   ],
   "source": [
    "#Seleccion de columnas para estudiar\n",
    "\n",
    "df_totales = df[[\"Mes y año\", \"Total Red\", \"Pasajeros comunes\", \"Escolares total\", \"Escolares Pagados\", \"Escolares Básicos (Gratuitos)\"]]\n",
    "df_totales"
   ]
  },
  {
   "cell_type": "code",
   "execution_count": 27,
   "metadata": {},
   "outputs": [
    {
     "name": "stdout",
     "output_type": "stream",
     "text": [
      "<class 'pandas.core.frame.DataFrame'>\n",
      "RangeIndex: 161 entries, 0 to 160\n",
      "Data columns (total 6 columns):\n",
      " #   Column                         Non-Null Count  Dtype         \n",
      "---  ------                         --------------  -----         \n",
      " 0   Mes y año                      161 non-null    datetime64[ns]\n",
      " 1   Total Red                      161 non-null    int64         \n",
      " 2   Pasajeros comunes              161 non-null    int64         \n",
      " 3   Escolares total                161 non-null    int64         \n",
      " 4   Escolares Pagados              161 non-null    int64         \n",
      " 5   Escolares Básicos (Gratuitos)  161 non-null    int64         \n",
      "dtypes: datetime64[ns](1), int64(5)\n",
      "memory usage: 7.7 KB\n"
     ]
    }
   ],
   "source": [
    "df_totales.info()"
   ]
  },
  {
   "cell_type": "markdown",
   "metadata": {},
   "source": [
    "## Gráficos exploratorios de personas que usan el metro por año"
   ]
  },
  {
   "cell_type": "markdown",
   "metadata": {},
   "source": [
    "### Gráfico N°1 Total de pasajeros por año"
   ]
  },
  {
   "cell_type": "code",
   "execution_count": 28,
   "metadata": {},
   "outputs": [
    {
     "name": "stderr",
     "output_type": "stream",
     "text": [
      "C:\\Users\\simon\\AppData\\Local\\Temp\\ipykernel_4056\\3779793815.py:2: SettingWithCopyWarning:\n",
      "\n",
      "\n",
      "A value is trying to be set on a copy of a slice from a DataFrame.\n",
      "Try using .loc[row_indexer,col_indexer] = value instead\n",
      "\n",
      "See the caveats in the documentation: https://pandas.pydata.org/pandas-docs/stable/user_guide/indexing.html#returning-a-view-versus-a-copy\n",
      "\n",
      "C:\\Users\\simon\\AppData\\Local\\Temp\\ipykernel_4056\\3779793815.py:5: SettingWithCopyWarning:\n",
      "\n",
      "\n",
      "A value is trying to be set on a copy of a slice from a DataFrame.\n",
      "Try using .loc[row_indexer,col_indexer] = value instead\n",
      "\n",
      "See the caveats in the documentation: https://pandas.pydata.org/pandas-docs/stable/user_guide/indexing.html#returning-a-view-versus-a-copy\n",
      "\n",
      "C:\\Users\\simon\\AppData\\Local\\Temp\\ipykernel_4056\\3779793815.py:6: FutureWarning:\n",
      "\n",
      "The default value of numeric_only in DataFrameGroupBy.sum is deprecated. In a future version, numeric_only will default to False. Either specify numeric_only or select only columns which should be valid for the function.\n",
      "\n"
     ]
    },
    {
     "data": {
      "application/vnd.plotly.v1+json": {
       "config": {
        "plotlyServerURL": "https://plot.ly"
       },
       "data": [
        {
         "name": "Total Red",
         "type": "bar",
         "x": [
          2010,
          2011,
          2012,
          2013,
          2014,
          2015,
          2016,
          2017,
          2018,
          2019,
          2020,
          2021,
          2022,
          2023,
          2010,
          2011,
          2012,
          2013,
          2014,
          2015,
          2016,
          2017,
          2018,
          2019,
          2020,
          2021,
          2022,
          2023,
          2010,
          2011,
          2012,
          2013,
          2014,
          2015,
          2016,
          2017,
          2018,
          2019,
          2020,
          2021,
          2022,
          2023
         ],
         "y": [
          620720874,
          639939710,
          648735768,
          666875801,
          667649152,
          661172193,
          670073127,
          685064047,
          721007312,
          703673315,
          261773769,
          359376710,
          544409774,
          234088523
         ]
        },
        {
         "name": "Pasajeros comunes",
         "type": "bar",
         "x": [
          2010,
          2011,
          2012,
          2013,
          2014,
          2015,
          2016,
          2017,
          2018,
          2019,
          2020,
          2021,
          2022,
          2023,
          2010,
          2011,
          2012,
          2013,
          2014,
          2015,
          2016,
          2017,
          2018,
          2019,
          2020,
          2021,
          2022,
          2023,
          2010,
          2011,
          2012,
          2013,
          2014,
          2015,
          2016,
          2017,
          2018,
          2019,
          2020,
          2021,
          2022,
          2023
         ],
         "y": [
          449994273,
          452676689,
          454692496,
          466213280,
          466738836,
          460274827,
          466177321,
          482388712,
          517891040,
          502520669,
          199990872,
          281039291,
          380700349,
          158031818
         ]
        },
        {
         "name": "Escolares total",
         "type": "bar",
         "x": [
          2010,
          2011,
          2012,
          2013,
          2014,
          2015,
          2016,
          2017,
          2018,
          2019,
          2020,
          2021,
          2022,
          2023,
          2010,
          2011,
          2012,
          2013,
          2014,
          2015,
          2016,
          2017,
          2018,
          2019,
          2020,
          2021,
          2022,
          2023,
          2010,
          2011,
          2012,
          2013,
          2014,
          2015,
          2016,
          2017,
          2018,
          2019,
          2020,
          2021,
          2022,
          2023
         ],
         "y": [
          170726601,
          187263021,
          194043272,
          200662521,
          200910316,
          200897366,
          203895806,
          202675335,
          203116272,
          201152646,
          61782897,
          78337419,
          163709425,
          76056705
         ]
        }
       ],
       "layout": {
        "annotations": [
         {
          "font": {
           "size": 14
          },
          "showarrow": false,
          "text": "Red total = Pasajeros comunes + escolares total",
          "x": 0.5,
          "xref": "paper",
          "y": 1.05,
          "yref": "paper"
         }
        ],
        "bargap": 0.2,
        "height": 500,
        "template": {
         "data": {
          "bar": [
           {
            "error_x": {
             "color": "#2a3f5f"
            },
            "error_y": {
             "color": "#2a3f5f"
            },
            "marker": {
             "line": {
              "color": "#E5ECF6",
              "width": 0.5
             },
             "pattern": {
              "fillmode": "overlay",
              "size": 10,
              "solidity": 0.2
             }
            },
            "type": "bar"
           }
          ],
          "barpolar": [
           {
            "marker": {
             "line": {
              "color": "#E5ECF6",
              "width": 0.5
             },
             "pattern": {
              "fillmode": "overlay",
              "size": 10,
              "solidity": 0.2
             }
            },
            "type": "barpolar"
           }
          ],
          "carpet": [
           {
            "aaxis": {
             "endlinecolor": "#2a3f5f",
             "gridcolor": "white",
             "linecolor": "white",
             "minorgridcolor": "white",
             "startlinecolor": "#2a3f5f"
            },
            "baxis": {
             "endlinecolor": "#2a3f5f",
             "gridcolor": "white",
             "linecolor": "white",
             "minorgridcolor": "white",
             "startlinecolor": "#2a3f5f"
            },
            "type": "carpet"
           }
          ],
          "choropleth": [
           {
            "colorbar": {
             "outlinewidth": 0,
             "ticks": ""
            },
            "type": "choropleth"
           }
          ],
          "contour": [
           {
            "colorbar": {
             "outlinewidth": 0,
             "ticks": ""
            },
            "colorscale": [
             [
              0,
              "#0d0887"
             ],
             [
              0.1111111111111111,
              "#46039f"
             ],
             [
              0.2222222222222222,
              "#7201a8"
             ],
             [
              0.3333333333333333,
              "#9c179e"
             ],
             [
              0.4444444444444444,
              "#bd3786"
             ],
             [
              0.5555555555555556,
              "#d8576b"
             ],
             [
              0.6666666666666666,
              "#ed7953"
             ],
             [
              0.7777777777777778,
              "#fb9f3a"
             ],
             [
              0.8888888888888888,
              "#fdca26"
             ],
             [
              1,
              "#f0f921"
             ]
            ],
            "type": "contour"
           }
          ],
          "contourcarpet": [
           {
            "colorbar": {
             "outlinewidth": 0,
             "ticks": ""
            },
            "type": "contourcarpet"
           }
          ],
          "heatmap": [
           {
            "colorbar": {
             "outlinewidth": 0,
             "ticks": ""
            },
            "colorscale": [
             [
              0,
              "#0d0887"
             ],
             [
              0.1111111111111111,
              "#46039f"
             ],
             [
              0.2222222222222222,
              "#7201a8"
             ],
             [
              0.3333333333333333,
              "#9c179e"
             ],
             [
              0.4444444444444444,
              "#bd3786"
             ],
             [
              0.5555555555555556,
              "#d8576b"
             ],
             [
              0.6666666666666666,
              "#ed7953"
             ],
             [
              0.7777777777777778,
              "#fb9f3a"
             ],
             [
              0.8888888888888888,
              "#fdca26"
             ],
             [
              1,
              "#f0f921"
             ]
            ],
            "type": "heatmap"
           }
          ],
          "heatmapgl": [
           {
            "colorbar": {
             "outlinewidth": 0,
             "ticks": ""
            },
            "colorscale": [
             [
              0,
              "#0d0887"
             ],
             [
              0.1111111111111111,
              "#46039f"
             ],
             [
              0.2222222222222222,
              "#7201a8"
             ],
             [
              0.3333333333333333,
              "#9c179e"
             ],
             [
              0.4444444444444444,
              "#bd3786"
             ],
             [
              0.5555555555555556,
              "#d8576b"
             ],
             [
              0.6666666666666666,
              "#ed7953"
             ],
             [
              0.7777777777777778,
              "#fb9f3a"
             ],
             [
              0.8888888888888888,
              "#fdca26"
             ],
             [
              1,
              "#f0f921"
             ]
            ],
            "type": "heatmapgl"
           }
          ],
          "histogram": [
           {
            "marker": {
             "pattern": {
              "fillmode": "overlay",
              "size": 10,
              "solidity": 0.2
             }
            },
            "type": "histogram"
           }
          ],
          "histogram2d": [
           {
            "colorbar": {
             "outlinewidth": 0,
             "ticks": ""
            },
            "colorscale": [
             [
              0,
              "#0d0887"
             ],
             [
              0.1111111111111111,
              "#46039f"
             ],
             [
              0.2222222222222222,
              "#7201a8"
             ],
             [
              0.3333333333333333,
              "#9c179e"
             ],
             [
              0.4444444444444444,
              "#bd3786"
             ],
             [
              0.5555555555555556,
              "#d8576b"
             ],
             [
              0.6666666666666666,
              "#ed7953"
             ],
             [
              0.7777777777777778,
              "#fb9f3a"
             ],
             [
              0.8888888888888888,
              "#fdca26"
             ],
             [
              1,
              "#f0f921"
             ]
            ],
            "type": "histogram2d"
           }
          ],
          "histogram2dcontour": [
           {
            "colorbar": {
             "outlinewidth": 0,
             "ticks": ""
            },
            "colorscale": [
             [
              0,
              "#0d0887"
             ],
             [
              0.1111111111111111,
              "#46039f"
             ],
             [
              0.2222222222222222,
              "#7201a8"
             ],
             [
              0.3333333333333333,
              "#9c179e"
             ],
             [
              0.4444444444444444,
              "#bd3786"
             ],
             [
              0.5555555555555556,
              "#d8576b"
             ],
             [
              0.6666666666666666,
              "#ed7953"
             ],
             [
              0.7777777777777778,
              "#fb9f3a"
             ],
             [
              0.8888888888888888,
              "#fdca26"
             ],
             [
              1,
              "#f0f921"
             ]
            ],
            "type": "histogram2dcontour"
           }
          ],
          "mesh3d": [
           {
            "colorbar": {
             "outlinewidth": 0,
             "ticks": ""
            },
            "type": "mesh3d"
           }
          ],
          "parcoords": [
           {
            "line": {
             "colorbar": {
              "outlinewidth": 0,
              "ticks": ""
             }
            },
            "type": "parcoords"
           }
          ],
          "pie": [
           {
            "automargin": true,
            "type": "pie"
           }
          ],
          "scatter": [
           {
            "fillpattern": {
             "fillmode": "overlay",
             "size": 10,
             "solidity": 0.2
            },
            "type": "scatter"
           }
          ],
          "scatter3d": [
           {
            "line": {
             "colorbar": {
              "outlinewidth": 0,
              "ticks": ""
             }
            },
            "marker": {
             "colorbar": {
              "outlinewidth": 0,
              "ticks": ""
             }
            },
            "type": "scatter3d"
           }
          ],
          "scattercarpet": [
           {
            "marker": {
             "colorbar": {
              "outlinewidth": 0,
              "ticks": ""
             }
            },
            "type": "scattercarpet"
           }
          ],
          "scattergeo": [
           {
            "marker": {
             "colorbar": {
              "outlinewidth": 0,
              "ticks": ""
             }
            },
            "type": "scattergeo"
           }
          ],
          "scattergl": [
           {
            "marker": {
             "colorbar": {
              "outlinewidth": 0,
              "ticks": ""
             }
            },
            "type": "scattergl"
           }
          ],
          "scattermapbox": [
           {
            "marker": {
             "colorbar": {
              "outlinewidth": 0,
              "ticks": ""
             }
            },
            "type": "scattermapbox"
           }
          ],
          "scatterpolar": [
           {
            "marker": {
             "colorbar": {
              "outlinewidth": 0,
              "ticks": ""
             }
            },
            "type": "scatterpolar"
           }
          ],
          "scatterpolargl": [
           {
            "marker": {
             "colorbar": {
              "outlinewidth": 0,
              "ticks": ""
             }
            },
            "type": "scatterpolargl"
           }
          ],
          "scatterternary": [
           {
            "marker": {
             "colorbar": {
              "outlinewidth": 0,
              "ticks": ""
             }
            },
            "type": "scatterternary"
           }
          ],
          "surface": [
           {
            "colorbar": {
             "outlinewidth": 0,
             "ticks": ""
            },
            "colorscale": [
             [
              0,
              "#0d0887"
             ],
             [
              0.1111111111111111,
              "#46039f"
             ],
             [
              0.2222222222222222,
              "#7201a8"
             ],
             [
              0.3333333333333333,
              "#9c179e"
             ],
             [
              0.4444444444444444,
              "#bd3786"
             ],
             [
              0.5555555555555556,
              "#d8576b"
             ],
             [
              0.6666666666666666,
              "#ed7953"
             ],
             [
              0.7777777777777778,
              "#fb9f3a"
             ],
             [
              0.8888888888888888,
              "#fdca26"
             ],
             [
              1,
              "#f0f921"
             ]
            ],
            "type": "surface"
           }
          ],
          "table": [
           {
            "cells": {
             "fill": {
              "color": "#EBF0F8"
             },
             "line": {
              "color": "white"
             }
            },
            "header": {
             "fill": {
              "color": "#C8D4E3"
             },
             "line": {
              "color": "white"
             }
            },
            "type": "table"
           }
          ]
         },
         "layout": {
          "annotationdefaults": {
           "arrowcolor": "#2a3f5f",
           "arrowhead": 0,
           "arrowwidth": 1
          },
          "autotypenumbers": "strict",
          "coloraxis": {
           "colorbar": {
            "outlinewidth": 0,
            "ticks": ""
           }
          },
          "colorscale": {
           "diverging": [
            [
             0,
             "#8e0152"
            ],
            [
             0.1,
             "#c51b7d"
            ],
            [
             0.2,
             "#de77ae"
            ],
            [
             0.3,
             "#f1b6da"
            ],
            [
             0.4,
             "#fde0ef"
            ],
            [
             0.5,
             "#f7f7f7"
            ],
            [
             0.6,
             "#e6f5d0"
            ],
            [
             0.7,
             "#b8e186"
            ],
            [
             0.8,
             "#7fbc41"
            ],
            [
             0.9,
             "#4d9221"
            ],
            [
             1,
             "#276419"
            ]
           ],
           "sequential": [
            [
             0,
             "#0d0887"
            ],
            [
             0.1111111111111111,
             "#46039f"
            ],
            [
             0.2222222222222222,
             "#7201a8"
            ],
            [
             0.3333333333333333,
             "#9c179e"
            ],
            [
             0.4444444444444444,
             "#bd3786"
            ],
            [
             0.5555555555555556,
             "#d8576b"
            ],
            [
             0.6666666666666666,
             "#ed7953"
            ],
            [
             0.7777777777777778,
             "#fb9f3a"
            ],
            [
             0.8888888888888888,
             "#fdca26"
            ],
            [
             1,
             "#f0f921"
            ]
           ],
           "sequentialminus": [
            [
             0,
             "#0d0887"
            ],
            [
             0.1111111111111111,
             "#46039f"
            ],
            [
             0.2222222222222222,
             "#7201a8"
            ],
            [
             0.3333333333333333,
             "#9c179e"
            ],
            [
             0.4444444444444444,
             "#bd3786"
            ],
            [
             0.5555555555555556,
             "#d8576b"
            ],
            [
             0.6666666666666666,
             "#ed7953"
            ],
            [
             0.7777777777777778,
             "#fb9f3a"
            ],
            [
             0.8888888888888888,
             "#fdca26"
            ],
            [
             1,
             "#f0f921"
            ]
           ]
          },
          "colorway": [
           "#636efa",
           "#EF553B",
           "#00cc96",
           "#ab63fa",
           "#FFA15A",
           "#19d3f3",
           "#FF6692",
           "#B6E880",
           "#FF97FF",
           "#FECB52"
          ],
          "font": {
           "color": "#2a3f5f"
          },
          "geo": {
           "bgcolor": "white",
           "lakecolor": "white",
           "landcolor": "#E5ECF6",
           "showlakes": true,
           "showland": true,
           "subunitcolor": "white"
          },
          "hoverlabel": {
           "align": "left"
          },
          "hovermode": "closest",
          "mapbox": {
           "style": "light"
          },
          "paper_bgcolor": "white",
          "plot_bgcolor": "#E5ECF6",
          "polar": {
           "angularaxis": {
            "gridcolor": "white",
            "linecolor": "white",
            "ticks": ""
           },
           "bgcolor": "#E5ECF6",
           "radialaxis": {
            "gridcolor": "white",
            "linecolor": "white",
            "ticks": ""
           }
          },
          "scene": {
           "xaxis": {
            "backgroundcolor": "#E5ECF6",
            "gridcolor": "white",
            "gridwidth": 2,
            "linecolor": "white",
            "showbackground": true,
            "ticks": "",
            "zerolinecolor": "white"
           },
           "yaxis": {
            "backgroundcolor": "#E5ECF6",
            "gridcolor": "white",
            "gridwidth": 2,
            "linecolor": "white",
            "showbackground": true,
            "ticks": "",
            "zerolinecolor": "white"
           },
           "zaxis": {
            "backgroundcolor": "#E5ECF6",
            "gridcolor": "white",
            "gridwidth": 2,
            "linecolor": "white",
            "showbackground": true,
            "ticks": "",
            "zerolinecolor": "white"
           }
          },
          "shapedefaults": {
           "line": {
            "color": "#2a3f5f"
           }
          },
          "ternary": {
           "aaxis": {
            "gridcolor": "white",
            "linecolor": "white",
            "ticks": ""
           },
           "baxis": {
            "gridcolor": "white",
            "linecolor": "white",
            "ticks": ""
           },
           "bgcolor": "#E5ECF6",
           "caxis": {
            "gridcolor": "white",
            "linecolor": "white",
            "ticks": ""
           }
          },
          "title": {
           "x": 0.05
          },
          "xaxis": {
           "automargin": true,
           "gridcolor": "white",
           "linecolor": "white",
           "ticks": "",
           "title": {
            "standoff": 15
           },
           "zerolinecolor": "white",
           "zerolinewidth": 2
          },
          "yaxis": {
           "automargin": true,
           "gridcolor": "white",
           "linecolor": "white",
           "ticks": "",
           "title": {
            "standoff": 15
           },
           "zerolinecolor": "white",
           "zerolinewidth": 2
          }
         }
        },
        "title": {
         "text": "Total de pasajeros por año"
        },
        "width": 1000,
        "xaxis": {
         "tickmode": "linear",
         "title": {
          "text": "Año"
         }
        },
        "yaxis": {
         "title": {
          "text": "Total"
         }
        }
       }
      }
     },
     "metadata": {},
     "output_type": "display_data"
    }
   ],
   "source": [
    "# Paso 1: Convertir la columna \"Mes y año\" al formato de fecha\n",
    "df_totales[\"Mes y año\"] = pd.to_datetime(df_totales[\"Mes y año\"], format=\"%Y.%m.%d\")\n",
    "\n",
    "# Paso 2: Extraer el año de la columna de fechas y agrupar por año\n",
    "df_totales[\"Año\"] = df_totales[\"Mes y año\"].dt.year\n",
    "totales_por_año = df_totales.groupby(\"Año\").sum().reset_index()\n",
    "\n",
    "# Paso 3: Convertir las columnas de totales en una sola columna \"Total\" con su categoría correspondiente\n",
    "totales_melted = totales_por_año.melt(id_vars=[\"Año\"], var_name=\"Categoría\", value_name=\"Total\")\n",
    "\n",
    "# Filtrar solo las categorías que se desean graficar\n",
    "categorias_a_graficar = [\"Total Red\", \"Pasajeros comunes\", \"Escolares total\"]\n",
    "totales_melted = totales_melted[totales_melted[\"Categoría\"].isin(categorias_a_graficar)]\n",
    "\n",
    "# Paso 4: Crear el gráfico de barras utilizando Plotly\n",
    "fig = go.Figure()\n",
    "\n",
    "for categoria in categorias_a_graficar:\n",
    "    fig.add_trace(go.Bar(x=totales_melted[\"Año\"], y=totales_melted[totales_melted[\"Categoría\"]==categoria][\"Total\"],\n",
    "                         name=categoria))\n",
    "\n",
    "# Agregar la anotación\n",
    "fig.add_annotation(\n",
    "    xref=\"paper\", yref=\"paper\",\n",
    "    x=0.5, y= 1.05,\n",
    "    text=\"Red total = Pasajeros comunes + escolares total\",\n",
    "    showarrow=False,\n",
    "    font=dict(size=14)\n",
    ")\n",
    "\n",
    "# Personalización del gráfico\n",
    "fig.update_layout(\n",
    "    title=\"Total de pasajeros por año\",\n",
    "    xaxis_title=\"Año\",\n",
    "    yaxis_title=\"Total\",\n",
    "    xaxis=dict(tickmode='linear'),  # Mostrar todos los años en el eje x\n",
    "    width=1000,  # Ancho del gráfico\n",
    "    height=500,  # Alto del gráfico\n",
    "    bargap=0.2  # Espacio entre las barras\n",
    ")\n",
    "\n",
    "fig.show()"
   ]
  },
  {
   "cell_type": "markdown",
   "metadata": {},
   "source": [
    "En el gráfico presentado, podemos observar claramente una tendencia al alza en el número de pasajeros desde el año 2015 hasta el 2019. Sin embargo, se observan dos eventos importantes que afectaron significativamente la serie de tiempo. El primero ocurrió durante el año 2019 debido al estallido social, lo que produjo una disminución abrupta en la cantidad de pasajeros. Luego, en el año 2020, la pandemia de COVID-19 provocó una caída aún más pronunciada en el número de pasajeros.\n",
    "\n",
    "Con el objetivo de construir un modelo de aprendizaje automático (ML) que pueda realizar predicciones precisas, se ha tomado la decisión de dividir los datos en dos conjuntos: uno para entrenar el modelo (Train) y otro para evaluar su rendimiento (Test). Para evitar que los grandes cambios causados por factores externos afecten la precisión del modelo, se ha seleccionado el año 2018 como el límite entre el conjunto de entrenamiento y prueba. De esta manera, el modelo se entrenará con datos que no incluyan el impacto del estallido social y la pandemia, y luego será evaluado con los datos del año 2019 para medir su capacidad de generalización en condiciones similares a las del futuro.\n",
    "\n",
    "Este enfoque ayudará a asegurar que el modelo tenga en cuenta la tendencia al alza observada hasta el 2018 y pueda realizar predicciones más confiables y estables en ausencia de eventos extraordinarios que distorsionen la serie de tiempo.\n",
    "\n",
    "\n",
    "In the presented graph, we can clearly observe an upward trend in the number of passengers from the year 2015 until 2019. However, there are two significant events that had a major impact on the time series. The first event occurred in 2019 due to the social unrest, resulting in a sharp decline in passenger numbers. Subsequently, in 2020, the COVID-19 pandemic caused an even more pronounced drop in passenger traffic.\n",
    "\n",
    "To build a reliable machine learning (ML) model capable of making accurate predictions, the data has been divided into two sets: one for model training (Train) and the other for evaluating its performance (Test). The decision to split the data at the year 2018 aims to avoid the influence of large changes caused by external factors on the model's accuracy. By training the model on data up to 2018, excluding the impact of social unrest and the pandemic, it can be better prepared to make predictions in conditions similar to the future.\n",
    "\n",
    "This approach ensures that the model considers the upward trend observed until 2018 and can make more dependable and stable predictions without being affected by extraordinary events that could distort the time series.\n",
    "\n",
    "By using this strategy, we aim to improve the model's ability to generalize and make predictions beyond the period covered by the training data, thus providing valuable insights for future planning and decision-making."
   ]
  },
  {
   "cell_type": "markdown",
   "metadata": {},
   "source": [
    "### Gráfico N°2 Total de pasajeros escolares por año"
   ]
  },
  {
   "cell_type": "code",
   "execution_count": 29,
   "metadata": {},
   "outputs": [
    {
     "name": "stderr",
     "output_type": "stream",
     "text": [
      "C:\\Users\\simon\\AppData\\Local\\Temp\\ipykernel_4056\\2703024479.py:2: SettingWithCopyWarning:\n",
      "\n",
      "\n",
      "A value is trying to be set on a copy of a slice from a DataFrame.\n",
      "Try using .loc[row_indexer,col_indexer] = value instead\n",
      "\n",
      "See the caveats in the documentation: https://pandas.pydata.org/pandas-docs/stable/user_guide/indexing.html#returning-a-view-versus-a-copy\n",
      "\n",
      "C:\\Users\\simon\\AppData\\Local\\Temp\\ipykernel_4056\\2703024479.py:5: SettingWithCopyWarning:\n",
      "\n",
      "\n",
      "A value is trying to be set on a copy of a slice from a DataFrame.\n",
      "Try using .loc[row_indexer,col_indexer] = value instead\n",
      "\n",
      "See the caveats in the documentation: https://pandas.pydata.org/pandas-docs/stable/user_guide/indexing.html#returning-a-view-versus-a-copy\n",
      "\n",
      "C:\\Users\\simon\\AppData\\Local\\Temp\\ipykernel_4056\\2703024479.py:6: FutureWarning:\n",
      "\n",
      "The default value of numeric_only in DataFrameGroupBy.sum is deprecated. In a future version, numeric_only will default to False. Either specify numeric_only or select only columns which should be valid for the function.\n",
      "\n"
     ]
    },
    {
     "data": {
      "application/vnd.plotly.v1+json": {
       "config": {
        "plotlyServerURL": "https://plot.ly"
       },
       "data": [
        {
         "name": "Escolares total",
         "type": "bar",
         "x": [
          2010,
          2011,
          2012,
          2013,
          2014,
          2015,
          2016,
          2017,
          2018,
          2019,
          2020,
          2021,
          2022,
          2023,
          2010,
          2011,
          2012,
          2013,
          2014,
          2015,
          2016,
          2017,
          2018,
          2019,
          2020,
          2021,
          2022,
          2023,
          2010,
          2011,
          2012,
          2013,
          2014,
          2015,
          2016,
          2017,
          2018,
          2019,
          2020,
          2021,
          2022,
          2023
         ],
         "y": [
          170726601,
          187263021,
          194043272,
          200662521,
          200910316,
          200897366,
          203895806,
          202675335,
          203116272,
          201152646,
          61782897,
          78337419,
          163709425,
          76056705
         ]
        },
        {
         "name": "Escolares Pagados",
         "type": "bar",
         "x": [
          2010,
          2011,
          2012,
          2013,
          2014,
          2015,
          2016,
          2017,
          2018,
          2019,
          2020,
          2021,
          2022,
          2023,
          2010,
          2011,
          2012,
          2013,
          2014,
          2015,
          2016,
          2017,
          2018,
          2019,
          2020,
          2021,
          2022,
          2023,
          2010,
          2011,
          2012,
          2013,
          2014,
          2015,
          2016,
          2017,
          2018,
          2019,
          2020,
          2021,
          2022,
          2023
         ],
         "y": [
          158364506,
          173867366,
          180025945,
          185997517,
          185969482,
          187877627,
          190578431,
          187295349,
          184523371,
          178775059,
          50764035,
          66487816,
          142238072,
          65899525
         ]
        },
        {
         "name": "Escolares Básicos (Gratuitos)",
         "type": "bar",
         "x": [
          2010,
          2011,
          2012,
          2013,
          2014,
          2015,
          2016,
          2017,
          2018,
          2019,
          2020,
          2021,
          2022,
          2023,
          2010,
          2011,
          2012,
          2013,
          2014,
          2015,
          2016,
          2017,
          2018,
          2019,
          2020,
          2021,
          2022,
          2023,
          2010,
          2011,
          2012,
          2013,
          2014,
          2015,
          2016,
          2017,
          2018,
          2019,
          2020,
          2021,
          2022,
          2023
         ],
         "y": [
          12362095,
          13395655,
          14017327,
          14665004,
          14940834,
          13019739,
          13317375,
          15379986,
          18592901,
          22377587,
          11018862,
          11849603,
          21471353,
          10157180
         ]
        }
       ],
       "layout": {
        "annotations": [
         {
          "font": {
           "size": 14
          },
          "showarrow": false,
          "text": "Escolares total = Escolares pagados + escolares Básicos",
          "x": 0.5,
          "xref": "paper",
          "y": 1.05,
          "yref": "paper"
         }
        ],
        "bargap": 0.2,
        "height": 500,
        "template": {
         "data": {
          "bar": [
           {
            "error_x": {
             "color": "#2a3f5f"
            },
            "error_y": {
             "color": "#2a3f5f"
            },
            "marker": {
             "line": {
              "color": "#E5ECF6",
              "width": 0.5
             },
             "pattern": {
              "fillmode": "overlay",
              "size": 10,
              "solidity": 0.2
             }
            },
            "type": "bar"
           }
          ],
          "barpolar": [
           {
            "marker": {
             "line": {
              "color": "#E5ECF6",
              "width": 0.5
             },
             "pattern": {
              "fillmode": "overlay",
              "size": 10,
              "solidity": 0.2
             }
            },
            "type": "barpolar"
           }
          ],
          "carpet": [
           {
            "aaxis": {
             "endlinecolor": "#2a3f5f",
             "gridcolor": "white",
             "linecolor": "white",
             "minorgridcolor": "white",
             "startlinecolor": "#2a3f5f"
            },
            "baxis": {
             "endlinecolor": "#2a3f5f",
             "gridcolor": "white",
             "linecolor": "white",
             "minorgridcolor": "white",
             "startlinecolor": "#2a3f5f"
            },
            "type": "carpet"
           }
          ],
          "choropleth": [
           {
            "colorbar": {
             "outlinewidth": 0,
             "ticks": ""
            },
            "type": "choropleth"
           }
          ],
          "contour": [
           {
            "colorbar": {
             "outlinewidth": 0,
             "ticks": ""
            },
            "colorscale": [
             [
              0,
              "#0d0887"
             ],
             [
              0.1111111111111111,
              "#46039f"
             ],
             [
              0.2222222222222222,
              "#7201a8"
             ],
             [
              0.3333333333333333,
              "#9c179e"
             ],
             [
              0.4444444444444444,
              "#bd3786"
             ],
             [
              0.5555555555555556,
              "#d8576b"
             ],
             [
              0.6666666666666666,
              "#ed7953"
             ],
             [
              0.7777777777777778,
              "#fb9f3a"
             ],
             [
              0.8888888888888888,
              "#fdca26"
             ],
             [
              1,
              "#f0f921"
             ]
            ],
            "type": "contour"
           }
          ],
          "contourcarpet": [
           {
            "colorbar": {
             "outlinewidth": 0,
             "ticks": ""
            },
            "type": "contourcarpet"
           }
          ],
          "heatmap": [
           {
            "colorbar": {
             "outlinewidth": 0,
             "ticks": ""
            },
            "colorscale": [
             [
              0,
              "#0d0887"
             ],
             [
              0.1111111111111111,
              "#46039f"
             ],
             [
              0.2222222222222222,
              "#7201a8"
             ],
             [
              0.3333333333333333,
              "#9c179e"
             ],
             [
              0.4444444444444444,
              "#bd3786"
             ],
             [
              0.5555555555555556,
              "#d8576b"
             ],
             [
              0.6666666666666666,
              "#ed7953"
             ],
             [
              0.7777777777777778,
              "#fb9f3a"
             ],
             [
              0.8888888888888888,
              "#fdca26"
             ],
             [
              1,
              "#f0f921"
             ]
            ],
            "type": "heatmap"
           }
          ],
          "heatmapgl": [
           {
            "colorbar": {
             "outlinewidth": 0,
             "ticks": ""
            },
            "colorscale": [
             [
              0,
              "#0d0887"
             ],
             [
              0.1111111111111111,
              "#46039f"
             ],
             [
              0.2222222222222222,
              "#7201a8"
             ],
             [
              0.3333333333333333,
              "#9c179e"
             ],
             [
              0.4444444444444444,
              "#bd3786"
             ],
             [
              0.5555555555555556,
              "#d8576b"
             ],
             [
              0.6666666666666666,
              "#ed7953"
             ],
             [
              0.7777777777777778,
              "#fb9f3a"
             ],
             [
              0.8888888888888888,
              "#fdca26"
             ],
             [
              1,
              "#f0f921"
             ]
            ],
            "type": "heatmapgl"
           }
          ],
          "histogram": [
           {
            "marker": {
             "pattern": {
              "fillmode": "overlay",
              "size": 10,
              "solidity": 0.2
             }
            },
            "type": "histogram"
           }
          ],
          "histogram2d": [
           {
            "colorbar": {
             "outlinewidth": 0,
             "ticks": ""
            },
            "colorscale": [
             [
              0,
              "#0d0887"
             ],
             [
              0.1111111111111111,
              "#46039f"
             ],
             [
              0.2222222222222222,
              "#7201a8"
             ],
             [
              0.3333333333333333,
              "#9c179e"
             ],
             [
              0.4444444444444444,
              "#bd3786"
             ],
             [
              0.5555555555555556,
              "#d8576b"
             ],
             [
              0.6666666666666666,
              "#ed7953"
             ],
             [
              0.7777777777777778,
              "#fb9f3a"
             ],
             [
              0.8888888888888888,
              "#fdca26"
             ],
             [
              1,
              "#f0f921"
             ]
            ],
            "type": "histogram2d"
           }
          ],
          "histogram2dcontour": [
           {
            "colorbar": {
             "outlinewidth": 0,
             "ticks": ""
            },
            "colorscale": [
             [
              0,
              "#0d0887"
             ],
             [
              0.1111111111111111,
              "#46039f"
             ],
             [
              0.2222222222222222,
              "#7201a8"
             ],
             [
              0.3333333333333333,
              "#9c179e"
             ],
             [
              0.4444444444444444,
              "#bd3786"
             ],
             [
              0.5555555555555556,
              "#d8576b"
             ],
             [
              0.6666666666666666,
              "#ed7953"
             ],
             [
              0.7777777777777778,
              "#fb9f3a"
             ],
             [
              0.8888888888888888,
              "#fdca26"
             ],
             [
              1,
              "#f0f921"
             ]
            ],
            "type": "histogram2dcontour"
           }
          ],
          "mesh3d": [
           {
            "colorbar": {
             "outlinewidth": 0,
             "ticks": ""
            },
            "type": "mesh3d"
           }
          ],
          "parcoords": [
           {
            "line": {
             "colorbar": {
              "outlinewidth": 0,
              "ticks": ""
             }
            },
            "type": "parcoords"
           }
          ],
          "pie": [
           {
            "automargin": true,
            "type": "pie"
           }
          ],
          "scatter": [
           {
            "fillpattern": {
             "fillmode": "overlay",
             "size": 10,
             "solidity": 0.2
            },
            "type": "scatter"
           }
          ],
          "scatter3d": [
           {
            "line": {
             "colorbar": {
              "outlinewidth": 0,
              "ticks": ""
             }
            },
            "marker": {
             "colorbar": {
              "outlinewidth": 0,
              "ticks": ""
             }
            },
            "type": "scatter3d"
           }
          ],
          "scattercarpet": [
           {
            "marker": {
             "colorbar": {
              "outlinewidth": 0,
              "ticks": ""
             }
            },
            "type": "scattercarpet"
           }
          ],
          "scattergeo": [
           {
            "marker": {
             "colorbar": {
              "outlinewidth": 0,
              "ticks": ""
             }
            },
            "type": "scattergeo"
           }
          ],
          "scattergl": [
           {
            "marker": {
             "colorbar": {
              "outlinewidth": 0,
              "ticks": ""
             }
            },
            "type": "scattergl"
           }
          ],
          "scattermapbox": [
           {
            "marker": {
             "colorbar": {
              "outlinewidth": 0,
              "ticks": ""
             }
            },
            "type": "scattermapbox"
           }
          ],
          "scatterpolar": [
           {
            "marker": {
             "colorbar": {
              "outlinewidth": 0,
              "ticks": ""
             }
            },
            "type": "scatterpolar"
           }
          ],
          "scatterpolargl": [
           {
            "marker": {
             "colorbar": {
              "outlinewidth": 0,
              "ticks": ""
             }
            },
            "type": "scatterpolargl"
           }
          ],
          "scatterternary": [
           {
            "marker": {
             "colorbar": {
              "outlinewidth": 0,
              "ticks": ""
             }
            },
            "type": "scatterternary"
           }
          ],
          "surface": [
           {
            "colorbar": {
             "outlinewidth": 0,
             "ticks": ""
            },
            "colorscale": [
             [
              0,
              "#0d0887"
             ],
             [
              0.1111111111111111,
              "#46039f"
             ],
             [
              0.2222222222222222,
              "#7201a8"
             ],
             [
              0.3333333333333333,
              "#9c179e"
             ],
             [
              0.4444444444444444,
              "#bd3786"
             ],
             [
              0.5555555555555556,
              "#d8576b"
             ],
             [
              0.6666666666666666,
              "#ed7953"
             ],
             [
              0.7777777777777778,
              "#fb9f3a"
             ],
             [
              0.8888888888888888,
              "#fdca26"
             ],
             [
              1,
              "#f0f921"
             ]
            ],
            "type": "surface"
           }
          ],
          "table": [
           {
            "cells": {
             "fill": {
              "color": "#EBF0F8"
             },
             "line": {
              "color": "white"
             }
            },
            "header": {
             "fill": {
              "color": "#C8D4E3"
             },
             "line": {
              "color": "white"
             }
            },
            "type": "table"
           }
          ]
         },
         "layout": {
          "annotationdefaults": {
           "arrowcolor": "#2a3f5f",
           "arrowhead": 0,
           "arrowwidth": 1
          },
          "autotypenumbers": "strict",
          "coloraxis": {
           "colorbar": {
            "outlinewidth": 0,
            "ticks": ""
           }
          },
          "colorscale": {
           "diverging": [
            [
             0,
             "#8e0152"
            ],
            [
             0.1,
             "#c51b7d"
            ],
            [
             0.2,
             "#de77ae"
            ],
            [
             0.3,
             "#f1b6da"
            ],
            [
             0.4,
             "#fde0ef"
            ],
            [
             0.5,
             "#f7f7f7"
            ],
            [
             0.6,
             "#e6f5d0"
            ],
            [
             0.7,
             "#b8e186"
            ],
            [
             0.8,
             "#7fbc41"
            ],
            [
             0.9,
             "#4d9221"
            ],
            [
             1,
             "#276419"
            ]
           ],
           "sequential": [
            [
             0,
             "#0d0887"
            ],
            [
             0.1111111111111111,
             "#46039f"
            ],
            [
             0.2222222222222222,
             "#7201a8"
            ],
            [
             0.3333333333333333,
             "#9c179e"
            ],
            [
             0.4444444444444444,
             "#bd3786"
            ],
            [
             0.5555555555555556,
             "#d8576b"
            ],
            [
             0.6666666666666666,
             "#ed7953"
            ],
            [
             0.7777777777777778,
             "#fb9f3a"
            ],
            [
             0.8888888888888888,
             "#fdca26"
            ],
            [
             1,
             "#f0f921"
            ]
           ],
           "sequentialminus": [
            [
             0,
             "#0d0887"
            ],
            [
             0.1111111111111111,
             "#46039f"
            ],
            [
             0.2222222222222222,
             "#7201a8"
            ],
            [
             0.3333333333333333,
             "#9c179e"
            ],
            [
             0.4444444444444444,
             "#bd3786"
            ],
            [
             0.5555555555555556,
             "#d8576b"
            ],
            [
             0.6666666666666666,
             "#ed7953"
            ],
            [
             0.7777777777777778,
             "#fb9f3a"
            ],
            [
             0.8888888888888888,
             "#fdca26"
            ],
            [
             1,
             "#f0f921"
            ]
           ]
          },
          "colorway": [
           "#636efa",
           "#EF553B",
           "#00cc96",
           "#ab63fa",
           "#FFA15A",
           "#19d3f3",
           "#FF6692",
           "#B6E880",
           "#FF97FF",
           "#FECB52"
          ],
          "font": {
           "color": "#2a3f5f"
          },
          "geo": {
           "bgcolor": "white",
           "lakecolor": "white",
           "landcolor": "#E5ECF6",
           "showlakes": true,
           "showland": true,
           "subunitcolor": "white"
          },
          "hoverlabel": {
           "align": "left"
          },
          "hovermode": "closest",
          "mapbox": {
           "style": "light"
          },
          "paper_bgcolor": "white",
          "plot_bgcolor": "#E5ECF6",
          "polar": {
           "angularaxis": {
            "gridcolor": "white",
            "linecolor": "white",
            "ticks": ""
           },
           "bgcolor": "#E5ECF6",
           "radialaxis": {
            "gridcolor": "white",
            "linecolor": "white",
            "ticks": ""
           }
          },
          "scene": {
           "xaxis": {
            "backgroundcolor": "#E5ECF6",
            "gridcolor": "white",
            "gridwidth": 2,
            "linecolor": "white",
            "showbackground": true,
            "ticks": "",
            "zerolinecolor": "white"
           },
           "yaxis": {
            "backgroundcolor": "#E5ECF6",
            "gridcolor": "white",
            "gridwidth": 2,
            "linecolor": "white",
            "showbackground": true,
            "ticks": "",
            "zerolinecolor": "white"
           },
           "zaxis": {
            "backgroundcolor": "#E5ECF6",
            "gridcolor": "white",
            "gridwidth": 2,
            "linecolor": "white",
            "showbackground": true,
            "ticks": "",
            "zerolinecolor": "white"
           }
          },
          "shapedefaults": {
           "line": {
            "color": "#2a3f5f"
           }
          },
          "ternary": {
           "aaxis": {
            "gridcolor": "white",
            "linecolor": "white",
            "ticks": ""
           },
           "baxis": {
            "gridcolor": "white",
            "linecolor": "white",
            "ticks": ""
           },
           "bgcolor": "#E5ECF6",
           "caxis": {
            "gridcolor": "white",
            "linecolor": "white",
            "ticks": ""
           }
          },
          "title": {
           "x": 0.05
          },
          "xaxis": {
           "automargin": true,
           "gridcolor": "white",
           "linecolor": "white",
           "ticks": "",
           "title": {
            "standoff": 15
           },
           "zerolinecolor": "white",
           "zerolinewidth": 2
          },
          "yaxis": {
           "automargin": true,
           "gridcolor": "white",
           "linecolor": "white",
           "ticks": "",
           "title": {
            "standoff": 15
           },
           "zerolinecolor": "white",
           "zerolinewidth": 2
          }
         }
        },
        "title": {
         "text": "Total de escolares por año"
        },
        "width": 1000,
        "xaxis": {
         "tickmode": "linear",
         "title": {
          "text": "Año"
         }
        },
        "yaxis": {
         "title": {
          "text": "Total"
         }
        }
       }
      }
     },
     "metadata": {},
     "output_type": "display_data"
    }
   ],
   "source": [
    "\n",
    "# Paso 1: Convertir la columna \"Mes y año\" al formato de fecha\n",
    "df_totales[\"Mes y año\"] = pd.to_datetime(df_totales[\"Mes y año\"], format=\"%Y.%m.%d\")\n",
    "\n",
    "# Paso 2: Extraer el año de la columna de fechas y agrupar por año\n",
    "df_totales[\"Año\"] = df_totales[\"Mes y año\"].dt.year\n",
    "totales_por_año = df_totales.groupby(\"Año\").sum().reset_index()\n",
    "\n",
    "# Paso 3: Convertir las columnas de totales en una sola columna \"Total\" con su categoría correspondiente\n",
    "totales_melted = totales_por_año.melt(id_vars=[\"Año\"], var_name=\"Categoría\", value_name=\"Total\")\n",
    "\n",
    "# Filtrar solo las categorías que se desean graficar\n",
    "categorias_a_graficar = [\"Escolares total\", \"Escolares Pagados\", \"Escolares Básicos (Gratuitos)\"]\n",
    "totales_melted = totales_melted[totales_melted[\"Categoría\"].isin(categorias_a_graficar)]\n",
    "\n",
    "# Paso 4: Crear el gráfico de barras utilizando Plotly\n",
    "fig = go.Figure()\n",
    "\n",
    "for categoria in categorias_a_graficar:\n",
    "    fig.add_trace(go.Bar(x=totales_melted[\"Año\"], y=totales_melted[totales_melted[\"Categoría\"]==categoria][\"Total\"],\n",
    "                         name=categoria))\n",
    "\n",
    "# Agregar la anotación\n",
    "fig.add_annotation(\n",
    "    xref=\"paper\", yref=\"paper\",\n",
    "    x=0.5, y=1.05,\n",
    "    text=\"Escolares total = Escolares pagados + escolares Básicos\",\n",
    "    showarrow=False,\n",
    "    font=dict(size=14))\n",
    "\n",
    "# Personalización del gráfico\n",
    "fig.update_layout(\n",
    "    title=\"Total de escolares por año\",\n",
    "    xaxis_title=\"Año\",\n",
    "    yaxis_title=\"Total\",\n",
    "    xaxis=dict(tickmode='linear'),  # Mostrar todos los años en el eje x\n",
    "    width=1000,  # Ancho del gráfico\n",
    "    height=500,  # Alto del gráfico\n",
    "    bargap=0.2  # Espacio entre las barras\n",
    ")\n",
    "\n",
    "fig.show()\n"
   ]
  },
  {
   "cell_type": "markdown",
   "metadata": {},
   "source": [
    "En este gráfico, se pretende estudiar el comportamiento de dos componentes específicos en el uso del transporte: el número de estudiantes y la cantidad de personas de la tercera edad (que cuentan con gratuidad) a lo largo de los años.\n",
    "\n",
    "Observamos que la cantidad total de estudiantes muestra un comportamiento más estacionario desde el año 2013 hasta 2019, lo cual sugiere que ha mantenido una variación más constante en ese período. Sin embargo, nuevamente se ve afectado por el impacto del Covid en gran medida, lo que puede haber provocado una disminución en el uso del transporte público por parte de los estudiantes durante el 2020.\n",
    "\n",
    "Por otro lado, se nota una disminución en la cantidad de escolares pagados a partir del año 2016, lo que podría estar relacionado con acuerdos o negociaciones colectivas con los estudiantes. Además, se observa un aumento en el uso de pasajes gratuitos, que corresponde a las personas de la tercera edad. Esto podría explicarse por un mayor número de adultos mayores que optan por utilizar el metro como medio de transporte.\n",
    "\n",
    "En resumen, el gráfico revela distintos patrones de comportamiento en los usuarios del transporte público, específicamente entre estudiantes y personas de la tercera edad con gratuidad. Estos patrones pueden estar influenciados por factores sociales, económicos y eventos como el Covid-19, lo que destaca la importancia de analizar detalladamente los distintos segmentos de usuarios para entender mejor las tendencias y tomar decisiones informadas en la planificación del transporte público.\n",
    "\n",
    "\n",
    "In this graph, we aim to study the behavior of two specific components in public transportation usage: the number of students and the count of senior citizens (who have free fares) over the years.\n",
    "\n",
    "We observe that the total number of students exhibits a more stationary behavior from 2013 to 2019, indicating a relatively stable variation during this period. However, it is evident that this stability was disrupted significantly by the impact of the Covid-19 pandemic in 2020, resulting in a decrease in public transportation usage by students.\n",
    "\n",
    "On the other hand, there is a decline in the number of paying school students starting from 2016, which could be attributed to collective agreements or negotiations with students. Additionally, we notice an increase in the usage of free fares, representing the elderly population. This could be explained by a higher number of senior citizens opting for metro transportation.\n",
    "\n",
    "In summary, the graph reveals distinct patterns in public transportation users, particularly among students and senior citizens with free fares. These patterns may be influenced by social, economic factors, and events like the Covid-19 pandemic, emphasizing the significance of analyzing different user segments to better understand trends and make informed decisions in public transportation planning."
   ]
  },
  {
   "cell_type": "markdown",
   "metadata": {},
   "source": [
    "### Grafico N°3 \n",
    "### 1. Distribución porcentual de pasajeros por año \n",
    "### 2. Cantidad de pasajeros por año"
   ]
  },
  {
   "cell_type": "code",
   "execution_count": 30,
   "metadata": {},
   "outputs": [
    {
     "name": "stderr",
     "output_type": "stream",
     "text": [
      "C:\\Users\\simon\\AppData\\Local\\Temp\\ipykernel_4056\\877376145.py:2: SettingWithCopyWarning:\n",
      "\n",
      "\n",
      "A value is trying to be set on a copy of a slice from a DataFrame.\n",
      "Try using .loc[row_indexer,col_indexer] = value instead\n",
      "\n",
      "See the caveats in the documentation: https://pandas.pydata.org/pandas-docs/stable/user_guide/indexing.html#returning-a-view-versus-a-copy\n",
      "\n",
      "C:\\Users\\simon\\AppData\\Local\\Temp\\ipykernel_4056\\877376145.py:5: SettingWithCopyWarning:\n",
      "\n",
      "\n",
      "A value is trying to be set on a copy of a slice from a DataFrame.\n",
      "Try using .loc[row_indexer,col_indexer] = value instead\n",
      "\n",
      "See the caveats in the documentation: https://pandas.pydata.org/pandas-docs/stable/user_guide/indexing.html#returning-a-view-versus-a-copy\n",
      "\n",
      "C:\\Users\\simon\\AppData\\Local\\Temp\\ipykernel_4056\\877376145.py:8: SettingWithCopyWarning:\n",
      "\n",
      "\n",
      "A value is trying to be set on a copy of a slice from a DataFrame.\n",
      "Try using .loc[row_indexer,col_indexer] = value instead\n",
      "\n",
      "See the caveats in the documentation: https://pandas.pydata.org/pandas-docs/stable/user_guide/indexing.html#returning-a-view-versus-a-copy\n",
      "\n",
      "C:\\Users\\simon\\AppData\\Local\\Temp\\ipykernel_4056\\877376145.py:11: FutureWarning:\n",
      "\n",
      "The default value of numeric_only in DataFrameGroupBy.sum is deprecated. In a future version, numeric_only will default to False. Either specify numeric_only or select only columns which should be valid for the function.\n",
      "\n"
     ]
    },
    {
     "data": {
      "application/vnd.plotly.v1+json": {
       "config": {
        "plotlyServerURL": "https://plot.ly"
       },
       "data": [
        {
         "name": "Pasajeros comunes",
         "type": "bar",
         "x": [
          2010,
          2011,
          2012,
          2013,
          2014,
          2015,
          2016,
          2017,
          2018,
          2019,
          2020,
          2021,
          2022,
          2023
         ],
         "y": [
          0.7249543101397296,
          0.7073739634003959,
          0.7008901288143558,
          0.6991006110896503,
          0.6990780031725405,
          0.6961497048318849,
          0.6957111130349808,
          0.7041512601813711,
          0.7182881940037801,
          0.7141391584530955,
          0.7639836212924757,
          0.7820186539077616,
          0.6992900700566775,
          0.6750942591064151
         ]
        },
        {
         "name": "Escolares total",
         "type": "bar",
         "x": [
          2010,
          2011,
          2012,
          2013,
          2014,
          2015,
          2016,
          2017,
          2018,
          2019,
          2020,
          2021,
          2022,
          2023
         ],
         "y": [
          0.27504568986027045,
          0.29262603659960407,
          0.29910987118564425,
          0.30089938891034973,
          0.30092199682745946,
          0.3038502951681152,
          0.30428888696501927,
          0.29584873981862897,
          0.2817118059962199,
          0.2858608415469045,
          0.23601637870752437,
          0.21798134609223843,
          0.30070992994332246,
          0.3249057408935849
         ]
        }
       ],
       "layout": {
        "annotations": [
         {
          "font": {
           "size": 12
          },
          "showarrow": false,
          "text": "72%",
          "textangle": 0,
          "x": 2010,
          "xanchor": "center",
          "y": 0.26504568986027044,
          "yanchor": "bottom"
         },
         {
          "font": {
           "size": 12
          },
          "showarrow": false,
          "text": "71%",
          "textangle": 0,
          "x": 2011,
          "xanchor": "center",
          "y": 0.28262603659960406,
          "yanchor": "bottom"
         },
         {
          "font": {
           "size": 12
          },
          "showarrow": false,
          "text": "70%",
          "textangle": 0,
          "x": 2012,
          "xanchor": "center",
          "y": 0.28910987118564424,
          "yanchor": "bottom"
         },
         {
          "font": {
           "size": 12
          },
          "showarrow": false,
          "text": "70%",
          "textangle": 0,
          "x": 2013,
          "xanchor": "center",
          "y": 0.2908993889103497,
          "yanchor": "bottom"
         },
         {
          "font": {
           "size": 12
          },
          "showarrow": false,
          "text": "70%",
          "textangle": 0,
          "x": 2014,
          "xanchor": "center",
          "y": 0.29092199682745945,
          "yanchor": "bottom"
         },
         {
          "font": {
           "size": 12
          },
          "showarrow": false,
          "text": "70%",
          "textangle": 0,
          "x": 2015,
          "xanchor": "center",
          "y": 0.2938502951681151,
          "yanchor": "bottom"
         },
         {
          "font": {
           "size": 12
          },
          "showarrow": false,
          "text": "70%",
          "textangle": 0,
          "x": 2016,
          "xanchor": "center",
          "y": 0.2942888869650192,
          "yanchor": "bottom"
         },
         {
          "font": {
           "size": 12
          },
          "showarrow": false,
          "text": "70%",
          "textangle": 0,
          "x": 2017,
          "xanchor": "center",
          "y": 0.2858487398186289,
          "yanchor": "bottom"
         },
         {
          "font": {
           "size": 12
          },
          "showarrow": false,
          "text": "72%",
          "textangle": 0,
          "x": 2018,
          "xanchor": "center",
          "y": 0.2717118059962199,
          "yanchor": "bottom"
         },
         {
          "font": {
           "size": 12
          },
          "showarrow": false,
          "text": "71%",
          "textangle": 0,
          "x": 2019,
          "xanchor": "center",
          "y": 0.2758608415469045,
          "yanchor": "bottom"
         },
         {
          "font": {
           "size": 12
          },
          "showarrow": false,
          "text": "76%",
          "textangle": 0,
          "x": 2020,
          "xanchor": "center",
          "y": 0.22601637870752433,
          "yanchor": "bottom"
         },
         {
          "font": {
           "size": 12
          },
          "showarrow": false,
          "text": "78%",
          "textangle": 0,
          "x": 2021,
          "xanchor": "center",
          "y": 0.2079813460922384,
          "yanchor": "bottom"
         },
         {
          "font": {
           "size": 12
          },
          "showarrow": false,
          "text": "70%",
          "textangle": 0,
          "x": 2022,
          "xanchor": "center",
          "y": 0.29070992994332245,
          "yanchor": "bottom"
         },
         {
          "font": {
           "size": 12
          },
          "showarrow": false,
          "text": "68%",
          "textangle": 0,
          "x": 2023,
          "xanchor": "center",
          "y": 0.3149057408935849,
          "yanchor": "bottom"
         },
         {
          "font": {
           "size": 12
          },
          "showarrow": false,
          "text": "28%",
          "textangle": 0,
          "x": 2010,
          "xanchor": "center",
          "y": 0.7149543101397295,
          "yanchor": "bottom"
         },
         {
          "font": {
           "size": 12
          },
          "showarrow": false,
          "text": "29%",
          "textangle": 0,
          "x": 2011,
          "xanchor": "center",
          "y": 0.6973739634003959,
          "yanchor": "bottom"
         },
         {
          "font": {
           "size": 12
          },
          "showarrow": false,
          "text": "30%",
          "textangle": 0,
          "x": 2012,
          "xanchor": "center",
          "y": 0.6908901288143557,
          "yanchor": "bottom"
         },
         {
          "font": {
           "size": 12
          },
          "showarrow": false,
          "text": "30%",
          "textangle": 0,
          "x": 2013,
          "xanchor": "center",
          "y": 0.6891006110896503,
          "yanchor": "bottom"
         },
         {
          "font": {
           "size": 12
          },
          "showarrow": false,
          "text": "30%",
          "textangle": 0,
          "x": 2014,
          "xanchor": "center",
          "y": 0.6890780031725405,
          "yanchor": "bottom"
         },
         {
          "font": {
           "size": 12
          },
          "showarrow": false,
          "text": "30%",
          "textangle": 0,
          "x": 2015,
          "xanchor": "center",
          "y": 0.6861497048318848,
          "yanchor": "bottom"
         },
         {
          "font": {
           "size": 12
          },
          "showarrow": false,
          "text": "30%",
          "textangle": 0,
          "x": 2016,
          "xanchor": "center",
          "y": 0.6857111130349807,
          "yanchor": "bottom"
         },
         {
          "font": {
           "size": 12
          },
          "showarrow": false,
          "text": "30%",
          "textangle": 0,
          "x": 2017,
          "xanchor": "center",
          "y": 0.6941512601813711,
          "yanchor": "bottom"
         },
         {
          "font": {
           "size": 12
          },
          "showarrow": false,
          "text": "28%",
          "textangle": 0,
          "x": 2018,
          "xanchor": "center",
          "y": 0.7082881940037801,
          "yanchor": "bottom"
         },
         {
          "font": {
           "size": 12
          },
          "showarrow": false,
          "text": "29%",
          "textangle": 0,
          "x": 2019,
          "xanchor": "center",
          "y": 0.7041391584530955,
          "yanchor": "bottom"
         },
         {
          "font": {
           "size": 12
          },
          "showarrow": false,
          "text": "24%",
          "textangle": 0,
          "x": 2020,
          "xanchor": "center",
          "y": 0.7539836212924756,
          "yanchor": "bottom"
         },
         {
          "font": {
           "size": 12
          },
          "showarrow": false,
          "text": "22%",
          "textangle": 0,
          "x": 2021,
          "xanchor": "center",
          "y": 0.7720186539077616,
          "yanchor": "bottom"
         },
         {
          "font": {
           "size": 12
          },
          "showarrow": false,
          "text": "30%",
          "textangle": 0,
          "x": 2022,
          "xanchor": "center",
          "y": 0.6892900700566775,
          "yanchor": "bottom"
         },
         {
          "font": {
           "size": 12
          },
          "showarrow": false,
          "text": "32%",
          "textangle": 0,
          "x": 2023,
          "xanchor": "center",
          "y": 0.6650942591064151,
          "yanchor": "bottom"
         }
        ],
        "barmode": "stack",
        "showlegend": true,
        "template": {
         "data": {
          "bar": [
           {
            "error_x": {
             "color": "#2a3f5f"
            },
            "error_y": {
             "color": "#2a3f5f"
            },
            "marker": {
             "line": {
              "color": "#E5ECF6",
              "width": 0.5
             },
             "pattern": {
              "fillmode": "overlay",
              "size": 10,
              "solidity": 0.2
             }
            },
            "type": "bar"
           }
          ],
          "barpolar": [
           {
            "marker": {
             "line": {
              "color": "#E5ECF6",
              "width": 0.5
             },
             "pattern": {
              "fillmode": "overlay",
              "size": 10,
              "solidity": 0.2
             }
            },
            "type": "barpolar"
           }
          ],
          "carpet": [
           {
            "aaxis": {
             "endlinecolor": "#2a3f5f",
             "gridcolor": "white",
             "linecolor": "white",
             "minorgridcolor": "white",
             "startlinecolor": "#2a3f5f"
            },
            "baxis": {
             "endlinecolor": "#2a3f5f",
             "gridcolor": "white",
             "linecolor": "white",
             "minorgridcolor": "white",
             "startlinecolor": "#2a3f5f"
            },
            "type": "carpet"
           }
          ],
          "choropleth": [
           {
            "colorbar": {
             "outlinewidth": 0,
             "ticks": ""
            },
            "type": "choropleth"
           }
          ],
          "contour": [
           {
            "colorbar": {
             "outlinewidth": 0,
             "ticks": ""
            },
            "colorscale": [
             [
              0,
              "#0d0887"
             ],
             [
              0.1111111111111111,
              "#46039f"
             ],
             [
              0.2222222222222222,
              "#7201a8"
             ],
             [
              0.3333333333333333,
              "#9c179e"
             ],
             [
              0.4444444444444444,
              "#bd3786"
             ],
             [
              0.5555555555555556,
              "#d8576b"
             ],
             [
              0.6666666666666666,
              "#ed7953"
             ],
             [
              0.7777777777777778,
              "#fb9f3a"
             ],
             [
              0.8888888888888888,
              "#fdca26"
             ],
             [
              1,
              "#f0f921"
             ]
            ],
            "type": "contour"
           }
          ],
          "contourcarpet": [
           {
            "colorbar": {
             "outlinewidth": 0,
             "ticks": ""
            },
            "type": "contourcarpet"
           }
          ],
          "heatmap": [
           {
            "colorbar": {
             "outlinewidth": 0,
             "ticks": ""
            },
            "colorscale": [
             [
              0,
              "#0d0887"
             ],
             [
              0.1111111111111111,
              "#46039f"
             ],
             [
              0.2222222222222222,
              "#7201a8"
             ],
             [
              0.3333333333333333,
              "#9c179e"
             ],
             [
              0.4444444444444444,
              "#bd3786"
             ],
             [
              0.5555555555555556,
              "#d8576b"
             ],
             [
              0.6666666666666666,
              "#ed7953"
             ],
             [
              0.7777777777777778,
              "#fb9f3a"
             ],
             [
              0.8888888888888888,
              "#fdca26"
             ],
             [
              1,
              "#f0f921"
             ]
            ],
            "type": "heatmap"
           }
          ],
          "heatmapgl": [
           {
            "colorbar": {
             "outlinewidth": 0,
             "ticks": ""
            },
            "colorscale": [
             [
              0,
              "#0d0887"
             ],
             [
              0.1111111111111111,
              "#46039f"
             ],
             [
              0.2222222222222222,
              "#7201a8"
             ],
             [
              0.3333333333333333,
              "#9c179e"
             ],
             [
              0.4444444444444444,
              "#bd3786"
             ],
             [
              0.5555555555555556,
              "#d8576b"
             ],
             [
              0.6666666666666666,
              "#ed7953"
             ],
             [
              0.7777777777777778,
              "#fb9f3a"
             ],
             [
              0.8888888888888888,
              "#fdca26"
             ],
             [
              1,
              "#f0f921"
             ]
            ],
            "type": "heatmapgl"
           }
          ],
          "histogram": [
           {
            "marker": {
             "pattern": {
              "fillmode": "overlay",
              "size": 10,
              "solidity": 0.2
             }
            },
            "type": "histogram"
           }
          ],
          "histogram2d": [
           {
            "colorbar": {
             "outlinewidth": 0,
             "ticks": ""
            },
            "colorscale": [
             [
              0,
              "#0d0887"
             ],
             [
              0.1111111111111111,
              "#46039f"
             ],
             [
              0.2222222222222222,
              "#7201a8"
             ],
             [
              0.3333333333333333,
              "#9c179e"
             ],
             [
              0.4444444444444444,
              "#bd3786"
             ],
             [
              0.5555555555555556,
              "#d8576b"
             ],
             [
              0.6666666666666666,
              "#ed7953"
             ],
             [
              0.7777777777777778,
              "#fb9f3a"
             ],
             [
              0.8888888888888888,
              "#fdca26"
             ],
             [
              1,
              "#f0f921"
             ]
            ],
            "type": "histogram2d"
           }
          ],
          "histogram2dcontour": [
           {
            "colorbar": {
             "outlinewidth": 0,
             "ticks": ""
            },
            "colorscale": [
             [
              0,
              "#0d0887"
             ],
             [
              0.1111111111111111,
              "#46039f"
             ],
             [
              0.2222222222222222,
              "#7201a8"
             ],
             [
              0.3333333333333333,
              "#9c179e"
             ],
             [
              0.4444444444444444,
              "#bd3786"
             ],
             [
              0.5555555555555556,
              "#d8576b"
             ],
             [
              0.6666666666666666,
              "#ed7953"
             ],
             [
              0.7777777777777778,
              "#fb9f3a"
             ],
             [
              0.8888888888888888,
              "#fdca26"
             ],
             [
              1,
              "#f0f921"
             ]
            ],
            "type": "histogram2dcontour"
           }
          ],
          "mesh3d": [
           {
            "colorbar": {
             "outlinewidth": 0,
             "ticks": ""
            },
            "type": "mesh3d"
           }
          ],
          "parcoords": [
           {
            "line": {
             "colorbar": {
              "outlinewidth": 0,
              "ticks": ""
             }
            },
            "type": "parcoords"
           }
          ],
          "pie": [
           {
            "automargin": true,
            "type": "pie"
           }
          ],
          "scatter": [
           {
            "fillpattern": {
             "fillmode": "overlay",
             "size": 10,
             "solidity": 0.2
            },
            "type": "scatter"
           }
          ],
          "scatter3d": [
           {
            "line": {
             "colorbar": {
              "outlinewidth": 0,
              "ticks": ""
             }
            },
            "marker": {
             "colorbar": {
              "outlinewidth": 0,
              "ticks": ""
             }
            },
            "type": "scatter3d"
           }
          ],
          "scattercarpet": [
           {
            "marker": {
             "colorbar": {
              "outlinewidth": 0,
              "ticks": ""
             }
            },
            "type": "scattercarpet"
           }
          ],
          "scattergeo": [
           {
            "marker": {
             "colorbar": {
              "outlinewidth": 0,
              "ticks": ""
             }
            },
            "type": "scattergeo"
           }
          ],
          "scattergl": [
           {
            "marker": {
             "colorbar": {
              "outlinewidth": 0,
              "ticks": ""
             }
            },
            "type": "scattergl"
           }
          ],
          "scattermapbox": [
           {
            "marker": {
             "colorbar": {
              "outlinewidth": 0,
              "ticks": ""
             }
            },
            "type": "scattermapbox"
           }
          ],
          "scatterpolar": [
           {
            "marker": {
             "colorbar": {
              "outlinewidth": 0,
              "ticks": ""
             }
            },
            "type": "scatterpolar"
           }
          ],
          "scatterpolargl": [
           {
            "marker": {
             "colorbar": {
              "outlinewidth": 0,
              "ticks": ""
             }
            },
            "type": "scatterpolargl"
           }
          ],
          "scatterternary": [
           {
            "marker": {
             "colorbar": {
              "outlinewidth": 0,
              "ticks": ""
             }
            },
            "type": "scatterternary"
           }
          ],
          "surface": [
           {
            "colorbar": {
             "outlinewidth": 0,
             "ticks": ""
            },
            "colorscale": [
             [
              0,
              "#0d0887"
             ],
             [
              0.1111111111111111,
              "#46039f"
             ],
             [
              0.2222222222222222,
              "#7201a8"
             ],
             [
              0.3333333333333333,
              "#9c179e"
             ],
             [
              0.4444444444444444,
              "#bd3786"
             ],
             [
              0.5555555555555556,
              "#d8576b"
             ],
             [
              0.6666666666666666,
              "#ed7953"
             ],
             [
              0.7777777777777778,
              "#fb9f3a"
             ],
             [
              0.8888888888888888,
              "#fdca26"
             ],
             [
              1,
              "#f0f921"
             ]
            ],
            "type": "surface"
           }
          ],
          "table": [
           {
            "cells": {
             "fill": {
              "color": "#EBF0F8"
             },
             "line": {
              "color": "white"
             }
            },
            "header": {
             "fill": {
              "color": "#C8D4E3"
             },
             "line": {
              "color": "white"
             }
            },
            "type": "table"
           }
          ]
         },
         "layout": {
          "annotationdefaults": {
           "arrowcolor": "#2a3f5f",
           "arrowhead": 0,
           "arrowwidth": 1
          },
          "autotypenumbers": "strict",
          "coloraxis": {
           "colorbar": {
            "outlinewidth": 0,
            "ticks": ""
           }
          },
          "colorscale": {
           "diverging": [
            [
             0,
             "#8e0152"
            ],
            [
             0.1,
             "#c51b7d"
            ],
            [
             0.2,
             "#de77ae"
            ],
            [
             0.3,
             "#f1b6da"
            ],
            [
             0.4,
             "#fde0ef"
            ],
            [
             0.5,
             "#f7f7f7"
            ],
            [
             0.6,
             "#e6f5d0"
            ],
            [
             0.7,
             "#b8e186"
            ],
            [
             0.8,
             "#7fbc41"
            ],
            [
             0.9,
             "#4d9221"
            ],
            [
             1,
             "#276419"
            ]
           ],
           "sequential": [
            [
             0,
             "#0d0887"
            ],
            [
             0.1111111111111111,
             "#46039f"
            ],
            [
             0.2222222222222222,
             "#7201a8"
            ],
            [
             0.3333333333333333,
             "#9c179e"
            ],
            [
             0.4444444444444444,
             "#bd3786"
            ],
            [
             0.5555555555555556,
             "#d8576b"
            ],
            [
             0.6666666666666666,
             "#ed7953"
            ],
            [
             0.7777777777777778,
             "#fb9f3a"
            ],
            [
             0.8888888888888888,
             "#fdca26"
            ],
            [
             1,
             "#f0f921"
            ]
           ],
           "sequentialminus": [
            [
             0,
             "#0d0887"
            ],
            [
             0.1111111111111111,
             "#46039f"
            ],
            [
             0.2222222222222222,
             "#7201a8"
            ],
            [
             0.3333333333333333,
             "#9c179e"
            ],
            [
             0.4444444444444444,
             "#bd3786"
            ],
            [
             0.5555555555555556,
             "#d8576b"
            ],
            [
             0.6666666666666666,
             "#ed7953"
            ],
            [
             0.7777777777777778,
             "#fb9f3a"
            ],
            [
             0.8888888888888888,
             "#fdca26"
            ],
            [
             1,
             "#f0f921"
            ]
           ]
          },
          "colorway": [
           "#636efa",
           "#EF553B",
           "#00cc96",
           "#ab63fa",
           "#FFA15A",
           "#19d3f3",
           "#FF6692",
           "#B6E880",
           "#FF97FF",
           "#FECB52"
          ],
          "font": {
           "color": "#2a3f5f"
          },
          "geo": {
           "bgcolor": "white",
           "lakecolor": "white",
           "landcolor": "#E5ECF6",
           "showlakes": true,
           "showland": true,
           "subunitcolor": "white"
          },
          "hoverlabel": {
           "align": "left"
          },
          "hovermode": "closest",
          "mapbox": {
           "style": "light"
          },
          "paper_bgcolor": "white",
          "plot_bgcolor": "#E5ECF6",
          "polar": {
           "angularaxis": {
            "gridcolor": "white",
            "linecolor": "white",
            "ticks": ""
           },
           "bgcolor": "#E5ECF6",
           "radialaxis": {
            "gridcolor": "white",
            "linecolor": "white",
            "ticks": ""
           }
          },
          "scene": {
           "xaxis": {
            "backgroundcolor": "#E5ECF6",
            "gridcolor": "white",
            "gridwidth": 2,
            "linecolor": "white",
            "showbackground": true,
            "ticks": "",
            "zerolinecolor": "white"
           },
           "yaxis": {
            "backgroundcolor": "#E5ECF6",
            "gridcolor": "white",
            "gridwidth": 2,
            "linecolor": "white",
            "showbackground": true,
            "ticks": "",
            "zerolinecolor": "white"
           },
           "zaxis": {
            "backgroundcolor": "#E5ECF6",
            "gridcolor": "white",
            "gridwidth": 2,
            "linecolor": "white",
            "showbackground": true,
            "ticks": "",
            "zerolinecolor": "white"
           }
          },
          "shapedefaults": {
           "line": {
            "color": "#2a3f5f"
           }
          },
          "ternary": {
           "aaxis": {
            "gridcolor": "white",
            "linecolor": "white",
            "ticks": ""
           },
           "baxis": {
            "gridcolor": "white",
            "linecolor": "white",
            "ticks": ""
           },
           "bgcolor": "#E5ECF6",
           "caxis": {
            "gridcolor": "white",
            "linecolor": "white",
            "ticks": ""
           }
          },
          "title": {
           "x": 0.05
          },
          "xaxis": {
           "automargin": true,
           "gridcolor": "white",
           "linecolor": "white",
           "ticks": "",
           "title": {
            "standoff": 15
           },
           "zerolinecolor": "white",
           "zerolinewidth": 2
          },
          "yaxis": {
           "automargin": true,
           "gridcolor": "white",
           "linecolor": "white",
           "ticks": "",
           "title": {
            "standoff": 15
           },
           "zerolinecolor": "white",
           "zerolinewidth": 2
          }
         }
        },
        "title": {
         "text": "Distribución porcentual de pasajeros por año"
        },
        "xaxis": {
         "title": {
          "text": "Año"
         }
        },
        "yaxis": {
         "title": {
          "text": "Porcentaje del Total Red"
         }
        }
       }
      }
     },
     "metadata": {},
     "output_type": "display_data"
    },
    {
     "data": {
      "application/vnd.plotly.v1+json": {
       "config": {
        "plotlyServerURL": "https://plot.ly"
       },
       "data": [
        {
         "name": "Pasajeros comunes",
         "type": "bar",
         "x": [
          2010,
          2011,
          2012,
          2013,
          2014,
          2015,
          2016,
          2017,
          2018,
          2019,
          2020,
          2021,
          2022,
          2023
         ],
         "y": [
          449994273,
          452676689,
          454692496,
          466213280,
          466738836,
          460274827,
          466177321,
          482388712,
          517891040,
          502520669,
          199990872,
          281039291,
          380700349,
          158031818
         ]
        },
        {
         "name": "Escolares total",
         "type": "bar",
         "x": [
          2010,
          2011,
          2012,
          2013,
          2014,
          2015,
          2016,
          2017,
          2018,
          2019,
          2020,
          2021,
          2022,
          2023
         ],
         "y": [
          170726601,
          187263021,
          194043272,
          200662521,
          200910316,
          200897366,
          203895806,
          202675335,
          203116272,
          201152646,
          61782897,
          78337419,
          163709425,
          76056705
         ]
        }
       ],
       "layout": {
        "barmode": "stack",
        "showlegend": true,
        "template": {
         "data": {
          "bar": [
           {
            "error_x": {
             "color": "#2a3f5f"
            },
            "error_y": {
             "color": "#2a3f5f"
            },
            "marker": {
             "line": {
              "color": "#E5ECF6",
              "width": 0.5
             },
             "pattern": {
              "fillmode": "overlay",
              "size": 10,
              "solidity": 0.2
             }
            },
            "type": "bar"
           }
          ],
          "barpolar": [
           {
            "marker": {
             "line": {
              "color": "#E5ECF6",
              "width": 0.5
             },
             "pattern": {
              "fillmode": "overlay",
              "size": 10,
              "solidity": 0.2
             }
            },
            "type": "barpolar"
           }
          ],
          "carpet": [
           {
            "aaxis": {
             "endlinecolor": "#2a3f5f",
             "gridcolor": "white",
             "linecolor": "white",
             "minorgridcolor": "white",
             "startlinecolor": "#2a3f5f"
            },
            "baxis": {
             "endlinecolor": "#2a3f5f",
             "gridcolor": "white",
             "linecolor": "white",
             "minorgridcolor": "white",
             "startlinecolor": "#2a3f5f"
            },
            "type": "carpet"
           }
          ],
          "choropleth": [
           {
            "colorbar": {
             "outlinewidth": 0,
             "ticks": ""
            },
            "type": "choropleth"
           }
          ],
          "contour": [
           {
            "colorbar": {
             "outlinewidth": 0,
             "ticks": ""
            },
            "colorscale": [
             [
              0,
              "#0d0887"
             ],
             [
              0.1111111111111111,
              "#46039f"
             ],
             [
              0.2222222222222222,
              "#7201a8"
             ],
             [
              0.3333333333333333,
              "#9c179e"
             ],
             [
              0.4444444444444444,
              "#bd3786"
             ],
             [
              0.5555555555555556,
              "#d8576b"
             ],
             [
              0.6666666666666666,
              "#ed7953"
             ],
             [
              0.7777777777777778,
              "#fb9f3a"
             ],
             [
              0.8888888888888888,
              "#fdca26"
             ],
             [
              1,
              "#f0f921"
             ]
            ],
            "type": "contour"
           }
          ],
          "contourcarpet": [
           {
            "colorbar": {
             "outlinewidth": 0,
             "ticks": ""
            },
            "type": "contourcarpet"
           }
          ],
          "heatmap": [
           {
            "colorbar": {
             "outlinewidth": 0,
             "ticks": ""
            },
            "colorscale": [
             [
              0,
              "#0d0887"
             ],
             [
              0.1111111111111111,
              "#46039f"
             ],
             [
              0.2222222222222222,
              "#7201a8"
             ],
             [
              0.3333333333333333,
              "#9c179e"
             ],
             [
              0.4444444444444444,
              "#bd3786"
             ],
             [
              0.5555555555555556,
              "#d8576b"
             ],
             [
              0.6666666666666666,
              "#ed7953"
             ],
             [
              0.7777777777777778,
              "#fb9f3a"
             ],
             [
              0.8888888888888888,
              "#fdca26"
             ],
             [
              1,
              "#f0f921"
             ]
            ],
            "type": "heatmap"
           }
          ],
          "heatmapgl": [
           {
            "colorbar": {
             "outlinewidth": 0,
             "ticks": ""
            },
            "colorscale": [
             [
              0,
              "#0d0887"
             ],
             [
              0.1111111111111111,
              "#46039f"
             ],
             [
              0.2222222222222222,
              "#7201a8"
             ],
             [
              0.3333333333333333,
              "#9c179e"
             ],
             [
              0.4444444444444444,
              "#bd3786"
             ],
             [
              0.5555555555555556,
              "#d8576b"
             ],
             [
              0.6666666666666666,
              "#ed7953"
             ],
             [
              0.7777777777777778,
              "#fb9f3a"
             ],
             [
              0.8888888888888888,
              "#fdca26"
             ],
             [
              1,
              "#f0f921"
             ]
            ],
            "type": "heatmapgl"
           }
          ],
          "histogram": [
           {
            "marker": {
             "pattern": {
              "fillmode": "overlay",
              "size": 10,
              "solidity": 0.2
             }
            },
            "type": "histogram"
           }
          ],
          "histogram2d": [
           {
            "colorbar": {
             "outlinewidth": 0,
             "ticks": ""
            },
            "colorscale": [
             [
              0,
              "#0d0887"
             ],
             [
              0.1111111111111111,
              "#46039f"
             ],
             [
              0.2222222222222222,
              "#7201a8"
             ],
             [
              0.3333333333333333,
              "#9c179e"
             ],
             [
              0.4444444444444444,
              "#bd3786"
             ],
             [
              0.5555555555555556,
              "#d8576b"
             ],
             [
              0.6666666666666666,
              "#ed7953"
             ],
             [
              0.7777777777777778,
              "#fb9f3a"
             ],
             [
              0.8888888888888888,
              "#fdca26"
             ],
             [
              1,
              "#f0f921"
             ]
            ],
            "type": "histogram2d"
           }
          ],
          "histogram2dcontour": [
           {
            "colorbar": {
             "outlinewidth": 0,
             "ticks": ""
            },
            "colorscale": [
             [
              0,
              "#0d0887"
             ],
             [
              0.1111111111111111,
              "#46039f"
             ],
             [
              0.2222222222222222,
              "#7201a8"
             ],
             [
              0.3333333333333333,
              "#9c179e"
             ],
             [
              0.4444444444444444,
              "#bd3786"
             ],
             [
              0.5555555555555556,
              "#d8576b"
             ],
             [
              0.6666666666666666,
              "#ed7953"
             ],
             [
              0.7777777777777778,
              "#fb9f3a"
             ],
             [
              0.8888888888888888,
              "#fdca26"
             ],
             [
              1,
              "#f0f921"
             ]
            ],
            "type": "histogram2dcontour"
           }
          ],
          "mesh3d": [
           {
            "colorbar": {
             "outlinewidth": 0,
             "ticks": ""
            },
            "type": "mesh3d"
           }
          ],
          "parcoords": [
           {
            "line": {
             "colorbar": {
              "outlinewidth": 0,
              "ticks": ""
             }
            },
            "type": "parcoords"
           }
          ],
          "pie": [
           {
            "automargin": true,
            "type": "pie"
           }
          ],
          "scatter": [
           {
            "fillpattern": {
             "fillmode": "overlay",
             "size": 10,
             "solidity": 0.2
            },
            "type": "scatter"
           }
          ],
          "scatter3d": [
           {
            "line": {
             "colorbar": {
              "outlinewidth": 0,
              "ticks": ""
             }
            },
            "marker": {
             "colorbar": {
              "outlinewidth": 0,
              "ticks": ""
             }
            },
            "type": "scatter3d"
           }
          ],
          "scattercarpet": [
           {
            "marker": {
             "colorbar": {
              "outlinewidth": 0,
              "ticks": ""
             }
            },
            "type": "scattercarpet"
           }
          ],
          "scattergeo": [
           {
            "marker": {
             "colorbar": {
              "outlinewidth": 0,
              "ticks": ""
             }
            },
            "type": "scattergeo"
           }
          ],
          "scattergl": [
           {
            "marker": {
             "colorbar": {
              "outlinewidth": 0,
              "ticks": ""
             }
            },
            "type": "scattergl"
           }
          ],
          "scattermapbox": [
           {
            "marker": {
             "colorbar": {
              "outlinewidth": 0,
              "ticks": ""
             }
            },
            "type": "scattermapbox"
           }
          ],
          "scatterpolar": [
           {
            "marker": {
             "colorbar": {
              "outlinewidth": 0,
              "ticks": ""
             }
            },
            "type": "scatterpolar"
           }
          ],
          "scatterpolargl": [
           {
            "marker": {
             "colorbar": {
              "outlinewidth": 0,
              "ticks": ""
             }
            },
            "type": "scatterpolargl"
           }
          ],
          "scatterternary": [
           {
            "marker": {
             "colorbar": {
              "outlinewidth": 0,
              "ticks": ""
             }
            },
            "type": "scatterternary"
           }
          ],
          "surface": [
           {
            "colorbar": {
             "outlinewidth": 0,
             "ticks": ""
            },
            "colorscale": [
             [
              0,
              "#0d0887"
             ],
             [
              0.1111111111111111,
              "#46039f"
             ],
             [
              0.2222222222222222,
              "#7201a8"
             ],
             [
              0.3333333333333333,
              "#9c179e"
             ],
             [
              0.4444444444444444,
              "#bd3786"
             ],
             [
              0.5555555555555556,
              "#d8576b"
             ],
             [
              0.6666666666666666,
              "#ed7953"
             ],
             [
              0.7777777777777778,
              "#fb9f3a"
             ],
             [
              0.8888888888888888,
              "#fdca26"
             ],
             [
              1,
              "#f0f921"
             ]
            ],
            "type": "surface"
           }
          ],
          "table": [
           {
            "cells": {
             "fill": {
              "color": "#EBF0F8"
             },
             "line": {
              "color": "white"
             }
            },
            "header": {
             "fill": {
              "color": "#C8D4E3"
             },
             "line": {
              "color": "white"
             }
            },
            "type": "table"
           }
          ]
         },
         "layout": {
          "annotationdefaults": {
           "arrowcolor": "#2a3f5f",
           "arrowhead": 0,
           "arrowwidth": 1
          },
          "autotypenumbers": "strict",
          "coloraxis": {
           "colorbar": {
            "outlinewidth": 0,
            "ticks": ""
           }
          },
          "colorscale": {
           "diverging": [
            [
             0,
             "#8e0152"
            ],
            [
             0.1,
             "#c51b7d"
            ],
            [
             0.2,
             "#de77ae"
            ],
            [
             0.3,
             "#f1b6da"
            ],
            [
             0.4,
             "#fde0ef"
            ],
            [
             0.5,
             "#f7f7f7"
            ],
            [
             0.6,
             "#e6f5d0"
            ],
            [
             0.7,
             "#b8e186"
            ],
            [
             0.8,
             "#7fbc41"
            ],
            [
             0.9,
             "#4d9221"
            ],
            [
             1,
             "#276419"
            ]
           ],
           "sequential": [
            [
             0,
             "#0d0887"
            ],
            [
             0.1111111111111111,
             "#46039f"
            ],
            [
             0.2222222222222222,
             "#7201a8"
            ],
            [
             0.3333333333333333,
             "#9c179e"
            ],
            [
             0.4444444444444444,
             "#bd3786"
            ],
            [
             0.5555555555555556,
             "#d8576b"
            ],
            [
             0.6666666666666666,
             "#ed7953"
            ],
            [
             0.7777777777777778,
             "#fb9f3a"
            ],
            [
             0.8888888888888888,
             "#fdca26"
            ],
            [
             1,
             "#f0f921"
            ]
           ],
           "sequentialminus": [
            [
             0,
             "#0d0887"
            ],
            [
             0.1111111111111111,
             "#46039f"
            ],
            [
             0.2222222222222222,
             "#7201a8"
            ],
            [
             0.3333333333333333,
             "#9c179e"
            ],
            [
             0.4444444444444444,
             "#bd3786"
            ],
            [
             0.5555555555555556,
             "#d8576b"
            ],
            [
             0.6666666666666666,
             "#ed7953"
            ],
            [
             0.7777777777777778,
             "#fb9f3a"
            ],
            [
             0.8888888888888888,
             "#fdca26"
            ],
            [
             1,
             "#f0f921"
            ]
           ]
          },
          "colorway": [
           "#636efa",
           "#EF553B",
           "#00cc96",
           "#ab63fa",
           "#FFA15A",
           "#19d3f3",
           "#FF6692",
           "#B6E880",
           "#FF97FF",
           "#FECB52"
          ],
          "font": {
           "color": "#2a3f5f"
          },
          "geo": {
           "bgcolor": "white",
           "lakecolor": "white",
           "landcolor": "#E5ECF6",
           "showlakes": true,
           "showland": true,
           "subunitcolor": "white"
          },
          "hoverlabel": {
           "align": "left"
          },
          "hovermode": "closest",
          "mapbox": {
           "style": "light"
          },
          "paper_bgcolor": "white",
          "plot_bgcolor": "#E5ECF6",
          "polar": {
           "angularaxis": {
            "gridcolor": "white",
            "linecolor": "white",
            "ticks": ""
           },
           "bgcolor": "#E5ECF6",
           "radialaxis": {
            "gridcolor": "white",
            "linecolor": "white",
            "ticks": ""
           }
          },
          "scene": {
           "xaxis": {
            "backgroundcolor": "#E5ECF6",
            "gridcolor": "white",
            "gridwidth": 2,
            "linecolor": "white",
            "showbackground": true,
            "ticks": "",
            "zerolinecolor": "white"
           },
           "yaxis": {
            "backgroundcolor": "#E5ECF6",
            "gridcolor": "white",
            "gridwidth": 2,
            "linecolor": "white",
            "showbackground": true,
            "ticks": "",
            "zerolinecolor": "white"
           },
           "zaxis": {
            "backgroundcolor": "#E5ECF6",
            "gridcolor": "white",
            "gridwidth": 2,
            "linecolor": "white",
            "showbackground": true,
            "ticks": "",
            "zerolinecolor": "white"
           }
          },
          "shapedefaults": {
           "line": {
            "color": "#2a3f5f"
           }
          },
          "ternary": {
           "aaxis": {
            "gridcolor": "white",
            "linecolor": "white",
            "ticks": ""
           },
           "baxis": {
            "gridcolor": "white",
            "linecolor": "white",
            "ticks": ""
           },
           "bgcolor": "#E5ECF6",
           "caxis": {
            "gridcolor": "white",
            "linecolor": "white",
            "ticks": ""
           }
          },
          "title": {
           "x": 0.05
          },
          "xaxis": {
           "automargin": true,
           "gridcolor": "white",
           "linecolor": "white",
           "ticks": "",
           "title": {
            "standoff": 15
           },
           "zerolinecolor": "white",
           "zerolinewidth": 2
          },
          "yaxis": {
           "automargin": true,
           "gridcolor": "white",
           "linecolor": "white",
           "ticks": "",
           "title": {
            "standoff": 15
           },
           "zerolinecolor": "white",
           "zerolinewidth": 2
          }
         }
        },
        "title": {
         "text": "Cantidad de pasajeros por año"
        },
        "xaxis": {
         "title": {
          "text": "Año"
         }
        },
        "yaxis": {
         "title": {
          "text": "Total de pasajero"
         }
        }
       }
      }
     },
     "metadata": {},
     "output_type": "display_data"
    }
   ],
   "source": [
    "\n",
    "# Paso 1: Convertir la columna \"Mes y año\" al formato de fecha\n",
    "df_totales[\"Mes y año\"] = pd.to_datetime(df_totales[\"Mes y año\"], format=\"%Y.%m.%d\")\n",
    "\n",
    "# Paso 2: Extraer el año de la columna de fechas y agrupar por año\n",
    "df_totales[\"Año\"] = df_totales[\"Mes y año\"].dt.year\n",
    "\n",
    "# Paso 3: Calcular la columna \"Total Red\" como la suma de \"Pasajeros comunes\" y \"Escolares total\"\n",
    "df_totales[\"Total Red\"] = df_totales[\"Pasajeros comunes\"] + df_totales[\"Escolares total\"]\n",
    "\n",
    "# Paso 4: Agrupar por año y calcular los totales para cada categoría y el total \"Total Red\"\n",
    "df_grafico = df_totales.groupby(\"Año\").sum()[[\"Pasajeros comunes\", \"Escolares total\", \"Total Red\"]]\n",
    "\n",
    "# Paso 5: Calcular los porcentajes en función del total \"Total Red\"\n",
    "df_grafico_porcentaje = df_grafico[[\"Pasajeros comunes\", \"Escolares total\"]].div(df_grafico[\"Total Red\"], axis=0)\n",
    "\n",
    "# Paso 6: Crear el gráfico de barras apiladas interactivo usando Plotly\n",
    "fig = go.Figure()\n",
    "\n",
    "for columna in df_grafico_porcentaje.columns:\n",
    "    fig.add_trace(go.Bar(x=df_grafico_porcentaje.index, y=df_grafico_porcentaje[columna], name=columna))\n",
    "\n",
    "# Agregar etiquetas con los porcentajes en las barras\n",
    "for trace in fig.data:\n",
    "    total = sum(trace.y)\n",
    "    for i, val in enumerate(trace.y):\n",
    "        fig.add_annotation(\n",
    "            x=trace.x[i],\n",
    "            y=1 - val - 0.01,  # Asignar los porcentajes al revés\n",
    "            text=f\"{val:.0%}\",\n",
    "            showarrow=False,\n",
    "            font=dict(size=12),\n",
    "            textangle=0,\n",
    "            xanchor='center',\n",
    "            yanchor='bottom'\n",
    "        )\n",
    "\n",
    "fig.update_layout(\n",
    "    title=\"Distribución porcentual de pasajeros por año\",\n",
    "    xaxis_title=\"Año\",\n",
    "    yaxis_title=\"Porcentaje del Total Red\",\n",
    "    barmode=\"stack\",\n",
    "    showlegend=True\n",
    ")\n",
    "\n",
    "# Paso 7: Mostrar el gráfico interactivo\n",
    "fig.show()\n",
    "\n",
    "# Paso 8: Crear el gráfico de barras apiladas interactivo usando Plotly\n",
    "fig2 = go.Figure()\n",
    "\n",
    "for columna in df_grafico.columns:\n",
    "    if columna != \"Total Red\":\n",
    "        fig2.add_trace(go.Bar(x=df_grafico.index, y=df_grafico[columna], name=columna))\n",
    "\n",
    "fig2.update_layout(\n",
    "    title=\"Cantidad de pasajeros por año\",\n",
    "    xaxis_title=\"Año\",\n",
    "    yaxis_title=\"Total de pasajero\",\n",
    "    barmode=\"stack\",\n",
    "    showlegend=True\n",
    ")\n",
    "\n",
    "# Paso 9: Mostrar el gráfico interactivo\n",
    "fig2.show()\n"
   ]
  },
  {
   "cell_type": "markdown",
   "metadata": {},
   "source": [
    "\n",
    "En estos dos gráficos, visualizamos los mismos datos, que incluyen tanto a los estudiantes totales (incluidos los que viajan gratis) como a los pasajeros comunes. Podemos observar una tendencia al alza a partir del año 2016, como discutimos anteriormente en los gráficos anteriores. Lo que es particularmente relevante es el porcentaje constante que se mantiene entre los estudiantes y los pasajeros comunes, incluso a medida que aumenta el número total de pasajeros. Solo hay una variación notable a partir del año 2020, que puede atribuirse al impacto del COVID. Sin embargo, los porcentajes se estabilizan rápidamente para el año 2022, a pesar de una disminución en el número total de pasajeros.\n",
    "\n",
    "Este gráfico proporciona información valiosa sobre la proporción de estudiantes y pasajeros comunes entre todos los pasajeros, lo cual es información crucial para realizar predicciones y planificar el futuro.\n",
    "\n",
    "\n",
    "In these two graphs, we visualize the same data, including both total students (including those traveling for free) and regular passengers. We can observe an upward trend starting from the year 2016, as we discussed in the previous graphs. What's particularly relevant is the consistent percentage that is maintained between students and regular passengers, even as the total number of passengers increases. There's only a noticeable variation starting from the year 2020, which can be attributed to the impact of COVID. However, the percentages quickly stabilize by the year 2022, despite a decrease in the total number of passengers.\n",
    "\n",
    "This graph provides valuable insights into the proportion of students and regular passengers among all passengers, which is crucial information for making predictions and planning for the future."
   ]
  },
  {
   "cell_type": "markdown",
   "metadata": {},
   "source": [
    "## Gráficos exploratorios de pasajeros por meses"
   ]
  },
  {
   "cell_type": "markdown",
   "metadata": {},
   "source": [
    "### Gráfico N°4 \n",
    "### 1. Total de pasajeros agrupados por mes \n",
    "### 2. Total de pasajeros comunes y escolares agrupados por Mes"
   ]
  },
  {
   "cell_type": "code",
   "execution_count": 31,
   "metadata": {},
   "outputs": [
    {
     "name": "stderr",
     "output_type": "stream",
     "text": [
      "C:\\Users\\simon\\AppData\\Local\\Temp\\ipykernel_4056\\3221219091.py:2: SettingWithCopyWarning:\n",
      "\n",
      "\n",
      "A value is trying to be set on a copy of a slice from a DataFrame.\n",
      "Try using .loc[row_indexer,col_indexer] = value instead\n",
      "\n",
      "See the caveats in the documentation: https://pandas.pydata.org/pandas-docs/stable/user_guide/indexing.html#returning-a-view-versus-a-copy\n",
      "\n",
      "C:\\Users\\simon\\AppData\\Local\\Temp\\ipykernel_4056\\3221219091.py:5: SettingWithCopyWarning:\n",
      "\n",
      "\n",
      "A value is trying to be set on a copy of a slice from a DataFrame.\n",
      "Try using .loc[row_indexer,col_indexer] = value instead\n",
      "\n",
      "See the caveats in the documentation: https://pandas.pydata.org/pandas-docs/stable/user_guide/indexing.html#returning-a-view-versus-a-copy\n",
      "\n",
      "C:\\Users\\simon\\AppData\\Local\\Temp\\ipykernel_4056\\3221219091.py:8: FutureWarning:\n",
      "\n",
      "The default value of numeric_only in DataFrameGroupBy.sum is deprecated. In a future version, numeric_only will default to False. Either specify numeric_only or select only columns which should be valid for the function.\n",
      "\n"
     ]
    },
    {
     "data": {
      "application/vnd.plotly.v1+json": {
       "config": {
        "plotlyServerURL": "https://plot.ly"
       },
       "data": [
        {
         "alignmentgroup": "True",
         "hovertemplate": "Mes=%{x}<br>Total Red=%{y}<extra></extra>",
         "legendgroup": "",
         "marker": {
          "color": "#636efa",
          "pattern": {
           "shape": ""
          }
         },
         "name": "",
         "offsetgroup": "",
         "orientation": "v",
         "showlegend": false,
         "textposition": "auto",
         "type": "bar",
         "x": [
          1,
          2,
          3,
          4,
          5,
          6,
          7,
          8,
          9,
          10,
          11,
          12
         ],
         "xaxis": "x",
         "y": [
          645211918,
          529327387,
          741220661,
          712955792,
          738631959,
          655413979,
          647640464,
          703937297,
          652377161,
          701603439,
          679202871,
          677037147
         ],
         "yaxis": "y"
        }
       ],
       "layout": {
        "barmode": "relative",
        "legend": {
         "tracegroupgap": 0
        },
        "template": {
         "data": {
          "bar": [
           {
            "error_x": {
             "color": "#2a3f5f"
            },
            "error_y": {
             "color": "#2a3f5f"
            },
            "marker": {
             "line": {
              "color": "#E5ECF6",
              "width": 0.5
             },
             "pattern": {
              "fillmode": "overlay",
              "size": 10,
              "solidity": 0.2
             }
            },
            "type": "bar"
           }
          ],
          "barpolar": [
           {
            "marker": {
             "line": {
              "color": "#E5ECF6",
              "width": 0.5
             },
             "pattern": {
              "fillmode": "overlay",
              "size": 10,
              "solidity": 0.2
             }
            },
            "type": "barpolar"
           }
          ],
          "carpet": [
           {
            "aaxis": {
             "endlinecolor": "#2a3f5f",
             "gridcolor": "white",
             "linecolor": "white",
             "minorgridcolor": "white",
             "startlinecolor": "#2a3f5f"
            },
            "baxis": {
             "endlinecolor": "#2a3f5f",
             "gridcolor": "white",
             "linecolor": "white",
             "minorgridcolor": "white",
             "startlinecolor": "#2a3f5f"
            },
            "type": "carpet"
           }
          ],
          "choropleth": [
           {
            "colorbar": {
             "outlinewidth": 0,
             "ticks": ""
            },
            "type": "choropleth"
           }
          ],
          "contour": [
           {
            "colorbar": {
             "outlinewidth": 0,
             "ticks": ""
            },
            "colorscale": [
             [
              0,
              "#0d0887"
             ],
             [
              0.1111111111111111,
              "#46039f"
             ],
             [
              0.2222222222222222,
              "#7201a8"
             ],
             [
              0.3333333333333333,
              "#9c179e"
             ],
             [
              0.4444444444444444,
              "#bd3786"
             ],
             [
              0.5555555555555556,
              "#d8576b"
             ],
             [
              0.6666666666666666,
              "#ed7953"
             ],
             [
              0.7777777777777778,
              "#fb9f3a"
             ],
             [
              0.8888888888888888,
              "#fdca26"
             ],
             [
              1,
              "#f0f921"
             ]
            ],
            "type": "contour"
           }
          ],
          "contourcarpet": [
           {
            "colorbar": {
             "outlinewidth": 0,
             "ticks": ""
            },
            "type": "contourcarpet"
           }
          ],
          "heatmap": [
           {
            "colorbar": {
             "outlinewidth": 0,
             "ticks": ""
            },
            "colorscale": [
             [
              0,
              "#0d0887"
             ],
             [
              0.1111111111111111,
              "#46039f"
             ],
             [
              0.2222222222222222,
              "#7201a8"
             ],
             [
              0.3333333333333333,
              "#9c179e"
             ],
             [
              0.4444444444444444,
              "#bd3786"
             ],
             [
              0.5555555555555556,
              "#d8576b"
             ],
             [
              0.6666666666666666,
              "#ed7953"
             ],
             [
              0.7777777777777778,
              "#fb9f3a"
             ],
             [
              0.8888888888888888,
              "#fdca26"
             ],
             [
              1,
              "#f0f921"
             ]
            ],
            "type": "heatmap"
           }
          ],
          "heatmapgl": [
           {
            "colorbar": {
             "outlinewidth": 0,
             "ticks": ""
            },
            "colorscale": [
             [
              0,
              "#0d0887"
             ],
             [
              0.1111111111111111,
              "#46039f"
             ],
             [
              0.2222222222222222,
              "#7201a8"
             ],
             [
              0.3333333333333333,
              "#9c179e"
             ],
             [
              0.4444444444444444,
              "#bd3786"
             ],
             [
              0.5555555555555556,
              "#d8576b"
             ],
             [
              0.6666666666666666,
              "#ed7953"
             ],
             [
              0.7777777777777778,
              "#fb9f3a"
             ],
             [
              0.8888888888888888,
              "#fdca26"
             ],
             [
              1,
              "#f0f921"
             ]
            ],
            "type": "heatmapgl"
           }
          ],
          "histogram": [
           {
            "marker": {
             "pattern": {
              "fillmode": "overlay",
              "size": 10,
              "solidity": 0.2
             }
            },
            "type": "histogram"
           }
          ],
          "histogram2d": [
           {
            "colorbar": {
             "outlinewidth": 0,
             "ticks": ""
            },
            "colorscale": [
             [
              0,
              "#0d0887"
             ],
             [
              0.1111111111111111,
              "#46039f"
             ],
             [
              0.2222222222222222,
              "#7201a8"
             ],
             [
              0.3333333333333333,
              "#9c179e"
             ],
             [
              0.4444444444444444,
              "#bd3786"
             ],
             [
              0.5555555555555556,
              "#d8576b"
             ],
             [
              0.6666666666666666,
              "#ed7953"
             ],
             [
              0.7777777777777778,
              "#fb9f3a"
             ],
             [
              0.8888888888888888,
              "#fdca26"
             ],
             [
              1,
              "#f0f921"
             ]
            ],
            "type": "histogram2d"
           }
          ],
          "histogram2dcontour": [
           {
            "colorbar": {
             "outlinewidth": 0,
             "ticks": ""
            },
            "colorscale": [
             [
              0,
              "#0d0887"
             ],
             [
              0.1111111111111111,
              "#46039f"
             ],
             [
              0.2222222222222222,
              "#7201a8"
             ],
             [
              0.3333333333333333,
              "#9c179e"
             ],
             [
              0.4444444444444444,
              "#bd3786"
             ],
             [
              0.5555555555555556,
              "#d8576b"
             ],
             [
              0.6666666666666666,
              "#ed7953"
             ],
             [
              0.7777777777777778,
              "#fb9f3a"
             ],
             [
              0.8888888888888888,
              "#fdca26"
             ],
             [
              1,
              "#f0f921"
             ]
            ],
            "type": "histogram2dcontour"
           }
          ],
          "mesh3d": [
           {
            "colorbar": {
             "outlinewidth": 0,
             "ticks": ""
            },
            "type": "mesh3d"
           }
          ],
          "parcoords": [
           {
            "line": {
             "colorbar": {
              "outlinewidth": 0,
              "ticks": ""
             }
            },
            "type": "parcoords"
           }
          ],
          "pie": [
           {
            "automargin": true,
            "type": "pie"
           }
          ],
          "scatter": [
           {
            "fillpattern": {
             "fillmode": "overlay",
             "size": 10,
             "solidity": 0.2
            },
            "type": "scatter"
           }
          ],
          "scatter3d": [
           {
            "line": {
             "colorbar": {
              "outlinewidth": 0,
              "ticks": ""
             }
            },
            "marker": {
             "colorbar": {
              "outlinewidth": 0,
              "ticks": ""
             }
            },
            "type": "scatter3d"
           }
          ],
          "scattercarpet": [
           {
            "marker": {
             "colorbar": {
              "outlinewidth": 0,
              "ticks": ""
             }
            },
            "type": "scattercarpet"
           }
          ],
          "scattergeo": [
           {
            "marker": {
             "colorbar": {
              "outlinewidth": 0,
              "ticks": ""
             }
            },
            "type": "scattergeo"
           }
          ],
          "scattergl": [
           {
            "marker": {
             "colorbar": {
              "outlinewidth": 0,
              "ticks": ""
             }
            },
            "type": "scattergl"
           }
          ],
          "scattermapbox": [
           {
            "marker": {
             "colorbar": {
              "outlinewidth": 0,
              "ticks": ""
             }
            },
            "type": "scattermapbox"
           }
          ],
          "scatterpolar": [
           {
            "marker": {
             "colorbar": {
              "outlinewidth": 0,
              "ticks": ""
             }
            },
            "type": "scatterpolar"
           }
          ],
          "scatterpolargl": [
           {
            "marker": {
             "colorbar": {
              "outlinewidth": 0,
              "ticks": ""
             }
            },
            "type": "scatterpolargl"
           }
          ],
          "scatterternary": [
           {
            "marker": {
             "colorbar": {
              "outlinewidth": 0,
              "ticks": ""
             }
            },
            "type": "scatterternary"
           }
          ],
          "surface": [
           {
            "colorbar": {
             "outlinewidth": 0,
             "ticks": ""
            },
            "colorscale": [
             [
              0,
              "#0d0887"
             ],
             [
              0.1111111111111111,
              "#46039f"
             ],
             [
              0.2222222222222222,
              "#7201a8"
             ],
             [
              0.3333333333333333,
              "#9c179e"
             ],
             [
              0.4444444444444444,
              "#bd3786"
             ],
             [
              0.5555555555555556,
              "#d8576b"
             ],
             [
              0.6666666666666666,
              "#ed7953"
             ],
             [
              0.7777777777777778,
              "#fb9f3a"
             ],
             [
              0.8888888888888888,
              "#fdca26"
             ],
             [
              1,
              "#f0f921"
             ]
            ],
            "type": "surface"
           }
          ],
          "table": [
           {
            "cells": {
             "fill": {
              "color": "#EBF0F8"
             },
             "line": {
              "color": "white"
             }
            },
            "header": {
             "fill": {
              "color": "#C8D4E3"
             },
             "line": {
              "color": "white"
             }
            },
            "type": "table"
           }
          ]
         },
         "layout": {
          "annotationdefaults": {
           "arrowcolor": "#2a3f5f",
           "arrowhead": 0,
           "arrowwidth": 1
          },
          "autotypenumbers": "strict",
          "coloraxis": {
           "colorbar": {
            "outlinewidth": 0,
            "ticks": ""
           }
          },
          "colorscale": {
           "diverging": [
            [
             0,
             "#8e0152"
            ],
            [
             0.1,
             "#c51b7d"
            ],
            [
             0.2,
             "#de77ae"
            ],
            [
             0.3,
             "#f1b6da"
            ],
            [
             0.4,
             "#fde0ef"
            ],
            [
             0.5,
             "#f7f7f7"
            ],
            [
             0.6,
             "#e6f5d0"
            ],
            [
             0.7,
             "#b8e186"
            ],
            [
             0.8,
             "#7fbc41"
            ],
            [
             0.9,
             "#4d9221"
            ],
            [
             1,
             "#276419"
            ]
           ],
           "sequential": [
            [
             0,
             "#0d0887"
            ],
            [
             0.1111111111111111,
             "#46039f"
            ],
            [
             0.2222222222222222,
             "#7201a8"
            ],
            [
             0.3333333333333333,
             "#9c179e"
            ],
            [
             0.4444444444444444,
             "#bd3786"
            ],
            [
             0.5555555555555556,
             "#d8576b"
            ],
            [
             0.6666666666666666,
             "#ed7953"
            ],
            [
             0.7777777777777778,
             "#fb9f3a"
            ],
            [
             0.8888888888888888,
             "#fdca26"
            ],
            [
             1,
             "#f0f921"
            ]
           ],
           "sequentialminus": [
            [
             0,
             "#0d0887"
            ],
            [
             0.1111111111111111,
             "#46039f"
            ],
            [
             0.2222222222222222,
             "#7201a8"
            ],
            [
             0.3333333333333333,
             "#9c179e"
            ],
            [
             0.4444444444444444,
             "#bd3786"
            ],
            [
             0.5555555555555556,
             "#d8576b"
            ],
            [
             0.6666666666666666,
             "#ed7953"
            ],
            [
             0.7777777777777778,
             "#fb9f3a"
            ],
            [
             0.8888888888888888,
             "#fdca26"
            ],
            [
             1,
             "#f0f921"
            ]
           ]
          },
          "colorway": [
           "#636efa",
           "#EF553B",
           "#00cc96",
           "#ab63fa",
           "#FFA15A",
           "#19d3f3",
           "#FF6692",
           "#B6E880",
           "#FF97FF",
           "#FECB52"
          ],
          "font": {
           "color": "#2a3f5f"
          },
          "geo": {
           "bgcolor": "white",
           "lakecolor": "white",
           "landcolor": "#E5ECF6",
           "showlakes": true,
           "showland": true,
           "subunitcolor": "white"
          },
          "hoverlabel": {
           "align": "left"
          },
          "hovermode": "closest",
          "mapbox": {
           "style": "light"
          },
          "paper_bgcolor": "white",
          "plot_bgcolor": "#E5ECF6",
          "polar": {
           "angularaxis": {
            "gridcolor": "white",
            "linecolor": "white",
            "ticks": ""
           },
           "bgcolor": "#E5ECF6",
           "radialaxis": {
            "gridcolor": "white",
            "linecolor": "white",
            "ticks": ""
           }
          },
          "scene": {
           "xaxis": {
            "backgroundcolor": "#E5ECF6",
            "gridcolor": "white",
            "gridwidth": 2,
            "linecolor": "white",
            "showbackground": true,
            "ticks": "",
            "zerolinecolor": "white"
           },
           "yaxis": {
            "backgroundcolor": "#E5ECF6",
            "gridcolor": "white",
            "gridwidth": 2,
            "linecolor": "white",
            "showbackground": true,
            "ticks": "",
            "zerolinecolor": "white"
           },
           "zaxis": {
            "backgroundcolor": "#E5ECF6",
            "gridcolor": "white",
            "gridwidth": 2,
            "linecolor": "white",
            "showbackground": true,
            "ticks": "",
            "zerolinecolor": "white"
           }
          },
          "shapedefaults": {
           "line": {
            "color": "#2a3f5f"
           }
          },
          "ternary": {
           "aaxis": {
            "gridcolor": "white",
            "linecolor": "white",
            "ticks": ""
           },
           "baxis": {
            "gridcolor": "white",
            "linecolor": "white",
            "ticks": ""
           },
           "bgcolor": "#E5ECF6",
           "caxis": {
            "gridcolor": "white",
            "linecolor": "white",
            "ticks": ""
           }
          },
          "title": {
           "x": 0.05
          },
          "xaxis": {
           "automargin": true,
           "gridcolor": "white",
           "linecolor": "white",
           "ticks": "",
           "title": {
            "standoff": 15
           },
           "zerolinecolor": "white",
           "zerolinewidth": 2
          },
          "yaxis": {
           "automargin": true,
           "gridcolor": "white",
           "linecolor": "white",
           "ticks": "",
           "title": {
            "standoff": 15
           },
           "zerolinecolor": "white",
           "zerolinewidth": 2
          }
         }
        },
        "title": {
         "text": "Total de pasajeros agrupados por mes"
        },
        "xaxis": {
         "anchor": "y",
         "categoryarray": [
          1,
          2,
          3,
          4,
          5,
          6,
          7,
          8,
          9,
          10,
          11,
          12
         ],
         "categoryorder": "array",
         "domain": [
          0,
          1
         ],
         "tickmode": "array",
         "ticktext": [
          "Enero",
          "Febrero",
          "Marzo",
          "Abril",
          "Mayo",
          "Junio",
          "Julio",
          "Agosto",
          "Septiembre",
          "Octubre",
          "Noviembre",
          "Diciembre"
         ],
         "tickvals": [
          1,
          2,
          3,
          4,
          5,
          6,
          7,
          8,
          9,
          10,
          11,
          12
         ],
         "title": {
          "text": "Mes"
         }
        },
        "yaxis": {
         "anchor": "x",
         "domain": [
          0,
          1
         ],
         "title": {
          "text": "Total Red"
         }
        }
       }
      }
     },
     "metadata": {},
     "output_type": "display_data"
    },
    {
     "name": "stderr",
     "output_type": "stream",
     "text": [
      "C:\\Users\\simon\\AppData\\Local\\Temp\\ipykernel_4056\\3221219091.py:30: FutureWarning:\n",
      "\n",
      "The default value of numeric_only in DataFrameGroupBy.sum is deprecated. In a future version, numeric_only will default to False. Either specify numeric_only or select only columns which should be valid for the function.\n",
      "\n"
     ]
    },
    {
     "data": {
      "application/vnd.plotly.v1+json": {
       "config": {
        "plotlyServerURL": "https://plot.ly"
       },
       "data": [
        {
         "alignmentgroup": "True",
         "hovertemplate": "variable=Pasajeros comunes<br>Mes=%{x}<br>Cantidad=%{y}<extra></extra>",
         "legendgroup": "Pasajeros comunes",
         "marker": {
          "color": "#636efa",
          "pattern": {
           "shape": ""
          }
         },
         "name": "Pasajeros comunes",
         "offsetgroup": "Pasajeros comunes",
         "orientation": "v",
         "showlegend": true,
         "textposition": "auto",
         "type": "bar",
         "x": [
          1,
          2,
          3,
          4,
          5,
          6,
          7,
          8,
          9,
          10,
          11,
          12
         ],
         "xaxis": "x",
         "y": [
          485312730,
          414558823,
          523022897,
          479767784,
          492401794,
          466416083,
          475641857,
          494654126,
          455444227,
          487007130,
          473560786,
          491542236
         ],
         "yaxis": "y"
        },
        {
         "alignmentgroup": "True",
         "hovertemplate": "variable=Escolares total<br>Mes=%{x}<br>Cantidad=%{y}<extra></extra>",
         "legendgroup": "Escolares total",
         "marker": {
          "color": "#EF553B",
          "pattern": {
           "shape": ""
          }
         },
         "name": "Escolares total",
         "offsetgroup": "Escolares total",
         "orientation": "v",
         "showlegend": true,
         "textposition": "auto",
         "type": "bar",
         "x": [
          1,
          2,
          3,
          4,
          5,
          6,
          7,
          8,
          9,
          10,
          11,
          12
         ],
         "xaxis": "x",
         "y": [
          159899188,
          114768564,
          218197764,
          233188008,
          246230165,
          188997896,
          171998607,
          209283171,
          196932934,
          214596309,
          205642085,
          185494911
         ],
         "yaxis": "y"
        }
       ],
       "layout": {
        "barmode": "group",
        "legend": {
         "title": {
          "text": "variable"
         },
         "tracegroupgap": 0
        },
        "template": {
         "data": {
          "bar": [
           {
            "error_x": {
             "color": "#2a3f5f"
            },
            "error_y": {
             "color": "#2a3f5f"
            },
            "marker": {
             "line": {
              "color": "#E5ECF6",
              "width": 0.5
             },
             "pattern": {
              "fillmode": "overlay",
              "size": 10,
              "solidity": 0.2
             }
            },
            "type": "bar"
           }
          ],
          "barpolar": [
           {
            "marker": {
             "line": {
              "color": "#E5ECF6",
              "width": 0.5
             },
             "pattern": {
              "fillmode": "overlay",
              "size": 10,
              "solidity": 0.2
             }
            },
            "type": "barpolar"
           }
          ],
          "carpet": [
           {
            "aaxis": {
             "endlinecolor": "#2a3f5f",
             "gridcolor": "white",
             "linecolor": "white",
             "minorgridcolor": "white",
             "startlinecolor": "#2a3f5f"
            },
            "baxis": {
             "endlinecolor": "#2a3f5f",
             "gridcolor": "white",
             "linecolor": "white",
             "minorgridcolor": "white",
             "startlinecolor": "#2a3f5f"
            },
            "type": "carpet"
           }
          ],
          "choropleth": [
           {
            "colorbar": {
             "outlinewidth": 0,
             "ticks": ""
            },
            "type": "choropleth"
           }
          ],
          "contour": [
           {
            "colorbar": {
             "outlinewidth": 0,
             "ticks": ""
            },
            "colorscale": [
             [
              0,
              "#0d0887"
             ],
             [
              0.1111111111111111,
              "#46039f"
             ],
             [
              0.2222222222222222,
              "#7201a8"
             ],
             [
              0.3333333333333333,
              "#9c179e"
             ],
             [
              0.4444444444444444,
              "#bd3786"
             ],
             [
              0.5555555555555556,
              "#d8576b"
             ],
             [
              0.6666666666666666,
              "#ed7953"
             ],
             [
              0.7777777777777778,
              "#fb9f3a"
             ],
             [
              0.8888888888888888,
              "#fdca26"
             ],
             [
              1,
              "#f0f921"
             ]
            ],
            "type": "contour"
           }
          ],
          "contourcarpet": [
           {
            "colorbar": {
             "outlinewidth": 0,
             "ticks": ""
            },
            "type": "contourcarpet"
           }
          ],
          "heatmap": [
           {
            "colorbar": {
             "outlinewidth": 0,
             "ticks": ""
            },
            "colorscale": [
             [
              0,
              "#0d0887"
             ],
             [
              0.1111111111111111,
              "#46039f"
             ],
             [
              0.2222222222222222,
              "#7201a8"
             ],
             [
              0.3333333333333333,
              "#9c179e"
             ],
             [
              0.4444444444444444,
              "#bd3786"
             ],
             [
              0.5555555555555556,
              "#d8576b"
             ],
             [
              0.6666666666666666,
              "#ed7953"
             ],
             [
              0.7777777777777778,
              "#fb9f3a"
             ],
             [
              0.8888888888888888,
              "#fdca26"
             ],
             [
              1,
              "#f0f921"
             ]
            ],
            "type": "heatmap"
           }
          ],
          "heatmapgl": [
           {
            "colorbar": {
             "outlinewidth": 0,
             "ticks": ""
            },
            "colorscale": [
             [
              0,
              "#0d0887"
             ],
             [
              0.1111111111111111,
              "#46039f"
             ],
             [
              0.2222222222222222,
              "#7201a8"
             ],
             [
              0.3333333333333333,
              "#9c179e"
             ],
             [
              0.4444444444444444,
              "#bd3786"
             ],
             [
              0.5555555555555556,
              "#d8576b"
             ],
             [
              0.6666666666666666,
              "#ed7953"
             ],
             [
              0.7777777777777778,
              "#fb9f3a"
             ],
             [
              0.8888888888888888,
              "#fdca26"
             ],
             [
              1,
              "#f0f921"
             ]
            ],
            "type": "heatmapgl"
           }
          ],
          "histogram": [
           {
            "marker": {
             "pattern": {
              "fillmode": "overlay",
              "size": 10,
              "solidity": 0.2
             }
            },
            "type": "histogram"
           }
          ],
          "histogram2d": [
           {
            "colorbar": {
             "outlinewidth": 0,
             "ticks": ""
            },
            "colorscale": [
             [
              0,
              "#0d0887"
             ],
             [
              0.1111111111111111,
              "#46039f"
             ],
             [
              0.2222222222222222,
              "#7201a8"
             ],
             [
              0.3333333333333333,
              "#9c179e"
             ],
             [
              0.4444444444444444,
              "#bd3786"
             ],
             [
              0.5555555555555556,
              "#d8576b"
             ],
             [
              0.6666666666666666,
              "#ed7953"
             ],
             [
              0.7777777777777778,
              "#fb9f3a"
             ],
             [
              0.8888888888888888,
              "#fdca26"
             ],
             [
              1,
              "#f0f921"
             ]
            ],
            "type": "histogram2d"
           }
          ],
          "histogram2dcontour": [
           {
            "colorbar": {
             "outlinewidth": 0,
             "ticks": ""
            },
            "colorscale": [
             [
              0,
              "#0d0887"
             ],
             [
              0.1111111111111111,
              "#46039f"
             ],
             [
              0.2222222222222222,
              "#7201a8"
             ],
             [
              0.3333333333333333,
              "#9c179e"
             ],
             [
              0.4444444444444444,
              "#bd3786"
             ],
             [
              0.5555555555555556,
              "#d8576b"
             ],
             [
              0.6666666666666666,
              "#ed7953"
             ],
             [
              0.7777777777777778,
              "#fb9f3a"
             ],
             [
              0.8888888888888888,
              "#fdca26"
             ],
             [
              1,
              "#f0f921"
             ]
            ],
            "type": "histogram2dcontour"
           }
          ],
          "mesh3d": [
           {
            "colorbar": {
             "outlinewidth": 0,
             "ticks": ""
            },
            "type": "mesh3d"
           }
          ],
          "parcoords": [
           {
            "line": {
             "colorbar": {
              "outlinewidth": 0,
              "ticks": ""
             }
            },
            "type": "parcoords"
           }
          ],
          "pie": [
           {
            "automargin": true,
            "type": "pie"
           }
          ],
          "scatter": [
           {
            "fillpattern": {
             "fillmode": "overlay",
             "size": 10,
             "solidity": 0.2
            },
            "type": "scatter"
           }
          ],
          "scatter3d": [
           {
            "line": {
             "colorbar": {
              "outlinewidth": 0,
              "ticks": ""
             }
            },
            "marker": {
             "colorbar": {
              "outlinewidth": 0,
              "ticks": ""
             }
            },
            "type": "scatter3d"
           }
          ],
          "scattercarpet": [
           {
            "marker": {
             "colorbar": {
              "outlinewidth": 0,
              "ticks": ""
             }
            },
            "type": "scattercarpet"
           }
          ],
          "scattergeo": [
           {
            "marker": {
             "colorbar": {
              "outlinewidth": 0,
              "ticks": ""
             }
            },
            "type": "scattergeo"
           }
          ],
          "scattergl": [
           {
            "marker": {
             "colorbar": {
              "outlinewidth": 0,
              "ticks": ""
             }
            },
            "type": "scattergl"
           }
          ],
          "scattermapbox": [
           {
            "marker": {
             "colorbar": {
              "outlinewidth": 0,
              "ticks": ""
             }
            },
            "type": "scattermapbox"
           }
          ],
          "scatterpolar": [
           {
            "marker": {
             "colorbar": {
              "outlinewidth": 0,
              "ticks": ""
             }
            },
            "type": "scatterpolar"
           }
          ],
          "scatterpolargl": [
           {
            "marker": {
             "colorbar": {
              "outlinewidth": 0,
              "ticks": ""
             }
            },
            "type": "scatterpolargl"
           }
          ],
          "scatterternary": [
           {
            "marker": {
             "colorbar": {
              "outlinewidth": 0,
              "ticks": ""
             }
            },
            "type": "scatterternary"
           }
          ],
          "surface": [
           {
            "colorbar": {
             "outlinewidth": 0,
             "ticks": ""
            },
            "colorscale": [
             [
              0,
              "#0d0887"
             ],
             [
              0.1111111111111111,
              "#46039f"
             ],
             [
              0.2222222222222222,
              "#7201a8"
             ],
             [
              0.3333333333333333,
              "#9c179e"
             ],
             [
              0.4444444444444444,
              "#bd3786"
             ],
             [
              0.5555555555555556,
              "#d8576b"
             ],
             [
              0.6666666666666666,
              "#ed7953"
             ],
             [
              0.7777777777777778,
              "#fb9f3a"
             ],
             [
              0.8888888888888888,
              "#fdca26"
             ],
             [
              1,
              "#f0f921"
             ]
            ],
            "type": "surface"
           }
          ],
          "table": [
           {
            "cells": {
             "fill": {
              "color": "#EBF0F8"
             },
             "line": {
              "color": "white"
             }
            },
            "header": {
             "fill": {
              "color": "#C8D4E3"
             },
             "line": {
              "color": "white"
             }
            },
            "type": "table"
           }
          ]
         },
         "layout": {
          "annotationdefaults": {
           "arrowcolor": "#2a3f5f",
           "arrowhead": 0,
           "arrowwidth": 1
          },
          "autotypenumbers": "strict",
          "coloraxis": {
           "colorbar": {
            "outlinewidth": 0,
            "ticks": ""
           }
          },
          "colorscale": {
           "diverging": [
            [
             0,
             "#8e0152"
            ],
            [
             0.1,
             "#c51b7d"
            ],
            [
             0.2,
             "#de77ae"
            ],
            [
             0.3,
             "#f1b6da"
            ],
            [
             0.4,
             "#fde0ef"
            ],
            [
             0.5,
             "#f7f7f7"
            ],
            [
             0.6,
             "#e6f5d0"
            ],
            [
             0.7,
             "#b8e186"
            ],
            [
             0.8,
             "#7fbc41"
            ],
            [
             0.9,
             "#4d9221"
            ],
            [
             1,
             "#276419"
            ]
           ],
           "sequential": [
            [
             0,
             "#0d0887"
            ],
            [
             0.1111111111111111,
             "#46039f"
            ],
            [
             0.2222222222222222,
             "#7201a8"
            ],
            [
             0.3333333333333333,
             "#9c179e"
            ],
            [
             0.4444444444444444,
             "#bd3786"
            ],
            [
             0.5555555555555556,
             "#d8576b"
            ],
            [
             0.6666666666666666,
             "#ed7953"
            ],
            [
             0.7777777777777778,
             "#fb9f3a"
            ],
            [
             0.8888888888888888,
             "#fdca26"
            ],
            [
             1,
             "#f0f921"
            ]
           ],
           "sequentialminus": [
            [
             0,
             "#0d0887"
            ],
            [
             0.1111111111111111,
             "#46039f"
            ],
            [
             0.2222222222222222,
             "#7201a8"
            ],
            [
             0.3333333333333333,
             "#9c179e"
            ],
            [
             0.4444444444444444,
             "#bd3786"
            ],
            [
             0.5555555555555556,
             "#d8576b"
            ],
            [
             0.6666666666666666,
             "#ed7953"
            ],
            [
             0.7777777777777778,
             "#fb9f3a"
            ],
            [
             0.8888888888888888,
             "#fdca26"
            ],
            [
             1,
             "#f0f921"
            ]
           ]
          },
          "colorway": [
           "#636efa",
           "#EF553B",
           "#00cc96",
           "#ab63fa",
           "#FFA15A",
           "#19d3f3",
           "#FF6692",
           "#B6E880",
           "#FF97FF",
           "#FECB52"
          ],
          "font": {
           "color": "#2a3f5f"
          },
          "geo": {
           "bgcolor": "white",
           "lakecolor": "white",
           "landcolor": "#E5ECF6",
           "showlakes": true,
           "showland": true,
           "subunitcolor": "white"
          },
          "hoverlabel": {
           "align": "left"
          },
          "hovermode": "closest",
          "mapbox": {
           "style": "light"
          },
          "paper_bgcolor": "white",
          "plot_bgcolor": "#E5ECF6",
          "polar": {
           "angularaxis": {
            "gridcolor": "white",
            "linecolor": "white",
            "ticks": ""
           },
           "bgcolor": "#E5ECF6",
           "radialaxis": {
            "gridcolor": "white",
            "linecolor": "white",
            "ticks": ""
           }
          },
          "scene": {
           "xaxis": {
            "backgroundcolor": "#E5ECF6",
            "gridcolor": "white",
            "gridwidth": 2,
            "linecolor": "white",
            "showbackground": true,
            "ticks": "",
            "zerolinecolor": "white"
           },
           "yaxis": {
            "backgroundcolor": "#E5ECF6",
            "gridcolor": "white",
            "gridwidth": 2,
            "linecolor": "white",
            "showbackground": true,
            "ticks": "",
            "zerolinecolor": "white"
           },
           "zaxis": {
            "backgroundcolor": "#E5ECF6",
            "gridcolor": "white",
            "gridwidth": 2,
            "linecolor": "white",
            "showbackground": true,
            "ticks": "",
            "zerolinecolor": "white"
           }
          },
          "shapedefaults": {
           "line": {
            "color": "#2a3f5f"
           }
          },
          "ternary": {
           "aaxis": {
            "gridcolor": "white",
            "linecolor": "white",
            "ticks": ""
           },
           "baxis": {
            "gridcolor": "white",
            "linecolor": "white",
            "ticks": ""
           },
           "bgcolor": "#E5ECF6",
           "caxis": {
            "gridcolor": "white",
            "linecolor": "white",
            "ticks": ""
           }
          },
          "title": {
           "x": 0.05
          },
          "xaxis": {
           "automargin": true,
           "gridcolor": "white",
           "linecolor": "white",
           "ticks": "",
           "title": {
            "standoff": 15
           },
           "zerolinecolor": "white",
           "zerolinewidth": 2
          },
          "yaxis": {
           "automargin": true,
           "gridcolor": "white",
           "linecolor": "white",
           "ticks": "",
           "title": {
            "standoff": 15
           },
           "zerolinecolor": "white",
           "zerolinewidth": 2
          }
         }
        },
        "title": {
         "text": "Total de pasajeros comunes y escolares agrupados por mes"
        },
        "xaxis": {
         "anchor": "y",
         "categoryarray": [
          1,
          2,
          3,
          4,
          5,
          6,
          7,
          8,
          9,
          10,
          11,
          12
         ],
         "categoryorder": "array",
         "domain": [
          0,
          1
         ],
         "tickmode": "array",
         "ticktext": [
          "Enero",
          "Febrero",
          "Marzo",
          "Abril",
          "Mayo",
          "Junio",
          "Julio",
          "Agosto",
          "Septiembre",
          "Octubre",
          "Noviembre",
          "Diciembre"
         ],
         "tickvals": [
          1,
          2,
          3,
          4,
          5,
          6,
          7,
          8,
          9,
          10,
          11,
          12
         ],
         "title": {
          "text": "Mes"
         }
        },
        "yaxis": {
         "anchor": "x",
         "domain": [
          0,
          1
         ],
         "title": {
          "text": "Cantidad"
         }
        }
       }
      }
     },
     "metadata": {},
     "output_type": "display_data"
    }
   ],
   "source": [
    "\n",
    "# Paso 1: Convertir la columna \"Mes y año\" al formato de fecha\n",
    "df_totales[\"Mes y año\"] = pd.to_datetime(df_totales[\"Mes y año\"], format=\"%Y.%m.%d\")\n",
    "\n",
    "# Paso 2: Extraer el mes de la columna de fechas\n",
    "df_totales[\"Mes\"] = df_totales[\"Mes y año\"].dt.month\n",
    "\n",
    "# Paso 3: Agrupar por mes y calcular el total \"Total Red\" para cada mes\n",
    "df_total_red_por_mes = df_totales.groupby(\"Mes\").sum()[\"Total Red\"].reset_index()\n",
    "\n",
    "# Paso 4: Crear el gráfico de barras utilizando Plotly\n",
    "fig1 = px.bar(df_total_red_por_mes, x=\"Mes\", y=\"Total Red\", labels={\"Mes\": \"Mes\", \"Total Red\": \"Total Red\"},\n",
    "              title=\"Total de pasajeros agrupados por mes\",\n",
    "              category_orders={\"Mes\": [1, 2, 3, 4, 5, 6, 7, 8, 9, 10, 11, 12]})\n",
    "\n",
    "# Paso 5: Personalizar el eje x para mostrar el nombre del mes en lugar del número\n",
    "meses = {1: \"Enero\", 2: \"Febrero\", 3: \"Marzo\", 4: \"Abril\", 5: \"Mayo\", 6: \"Junio\",\n",
    "         7: \"Julio\", 8: \"Agosto\", 9: \"Septiembre\", 10: \"Octubre\", 11: \"Noviembre\", 12: \"Diciembre\"}\n",
    "fig1.update_layout(\n",
    "    xaxis=dict(\n",
    "        tickmode=\"array\",\n",
    "        tickvals=list(meses.keys()),\n",
    "        ticktext=list(meses.values())\n",
    "    )\n",
    ")\n",
    "\n",
    "# Mostrar el primer gráfico\n",
    "fig1.show()\n",
    "\n",
    "# Paso 6: Crear el segundo gráfico de barras utilizando Plotly\n",
    "df_pasajeros_escolares_por_mes = df_totales.groupby(\"Mes\").sum()[[\"Pasajeros comunes\", \"Escolares total\"]].reset_index()\n",
    "\n",
    "fig2 = px.bar(df_pasajeros_escolares_por_mes, x=\"Mes\", y=[\"Pasajeros comunes\", \"Escolares total\"],\n",
    "              labels={\"Mes\": \"Mes\", \"value\": \"Cantidad\"},\n",
    "              title=\"Total de pasajeros comunes y escolares agrupados por mes\",\n",
    "              category_orders={\"Mes\": [1, 2, 3, 4, 5, 6, 7, 8, 9, 10, 11, 12]},\n",
    "              barmode=\"group\")\n",
    "\n",
    "# Paso 7: Personalizar el eje x para mostrar el nombre del mes en lugar del número\n",
    "fig2.update_layout(\n",
    "    xaxis=dict(\n",
    "        tickmode=\"array\",\n",
    "        tickvals=list(meses.keys()),\n",
    "        ticktext=list(meses.values())\n",
    "    )\n",
    ")\n",
    "\n",
    "# Mostrar el segundo gráfico\n",
    "fig2.show()\n"
   ]
  },
  {
   "cell_type": "markdown",
   "metadata": {},
   "source": [
    "\n",
    "Estos dos gráficos del total de pasajeros por mes fueron creados con el propósito de visualizar patrones de estacionalidad y tendencia, con el fin de determinar si existe algún tipo de estacionalidad y seleccionar el mejor modelo de aprendizaje automático (ML) para predecir la cantidad de pasajeros en el futuro.\n",
    "\n",
    "A simple vista, podemos observar una disminución en el mes de febrero tanto en el total de pasajeros como en los totales de escolares y pasajeros comunes. Esta disminución se debe claramente a las vacaciones que ocurren en nuestro país durante este mes.\n",
    "\n",
    "Sin embargo, los pasajeros totales no muestran grandes variaciones en los otros meses, lo que sugiere que no hay una estacionalidad evidente en los datos a lo largo del tiempo, que es lo que realmente nos interesa analizar.\n",
    "\n",
    "Por otro lado, al analizar los datos separadamente para los pasajeros comunes y los estudiantes, también observamos una estacionalidad en los datos a lo largo de los meses. Sin embargo, al comparar esta información con la gráfica del total de pasajeros por año, podemos inferir que aunque la cantidad de usuarios aumenta, lo hace de manera consistente mes a mes.\n",
    "\n",
    "En resumen, podemos concluir que la cantidad de personas que utilizan el metro mes a mes es relativamente constante, aunque aumente la cantidad de usuarios en general. Esto nos indica que existe una tendencia al alza en el uso del metro a lo largo del tiempo, pero no hay patrones de estacionalidad claramente definidos en los datos mensuales.\n",
    "\n",
    "These two graphs of the total passengers per month were created to visualize seasonality and trends in order to determine if there is any seasonality and select the best Machine Learning (ML) model for predicting the number of passengers in the future.\n",
    "\n",
    "At first glance, we can observe a decrease in the month of February both in the total number of passengers and in the totals for students and regular passengers. This decrease is clearly due to the vacations that occur in our country during this month.\n",
    "\n",
    "However, the total passengers do not show significant variations in the other months, suggesting that there is no evident seasonality in the data over time, which is the main aspect we are interested in analyzing.\n",
    "\n",
    "On the other hand, when analyzing the data separately for regular passengers and students, we also observe seasonality in the data over the months. Nevertheless, when comparing this information with the graph of the total passengers per year, we can infer that even though the number of users increases, it does so consistently from month to month.\n",
    "\n",
    "In conclusion, we can determine that the number of people using the metro on a monthly basis is relatively constant, even though the overall number of users may increase. This indicates a general upward trend in metro usage over time, but there are no clearly defined patterns of seasonality in the monthly data."
   ]
  },
  {
   "cell_type": "markdown",
   "metadata": {},
   "source": [
    "## ML para predecir los pasajeros mes a mes\n",
    "\n",
    "### Analisis de estacionalidad "
   ]
  },
  {
   "cell_type": "code",
   "execution_count": 32,
   "metadata": {},
   "outputs": [
    {
     "data": {
      "text/html": [
       "<div>\n",
       "<style scoped>\n",
       "    .dataframe tbody tr th:only-of-type {\n",
       "        vertical-align: middle;\n",
       "    }\n",
       "\n",
       "    .dataframe tbody tr th {\n",
       "        vertical-align: top;\n",
       "    }\n",
       "\n",
       "    .dataframe thead th {\n",
       "        text-align: right;\n",
       "    }\n",
       "</style>\n",
       "<table border=\"1\" class=\"dataframe\">\n",
       "  <thead>\n",
       "    <tr style=\"text-align: right;\">\n",
       "      <th></th>\n",
       "      <th>Mes y año</th>\n",
       "      <th>Total Red</th>\n",
       "    </tr>\n",
       "  </thead>\n",
       "  <tbody>\n",
       "    <tr>\n",
       "      <th>0</th>\n",
       "      <td>2010-01-01</td>\n",
       "      <td>45448230</td>\n",
       "    </tr>\n",
       "    <tr>\n",
       "      <th>1</th>\n",
       "      <td>2010-02-01</td>\n",
       "      <td>35380504</td>\n",
       "    </tr>\n",
       "    <tr>\n",
       "      <th>2</th>\n",
       "      <td>2010-03-01</td>\n",
       "      <td>50872123</td>\n",
       "    </tr>\n",
       "    <tr>\n",
       "      <th>3</th>\n",
       "      <td>2010-04-01</td>\n",
       "      <td>55724226</td>\n",
       "    </tr>\n",
       "    <tr>\n",
       "      <th>4</th>\n",
       "      <td>2010-05-01</td>\n",
       "      <td>55332802</td>\n",
       "    </tr>\n",
       "    <tr>\n",
       "      <th>...</th>\n",
       "      <td>...</td>\n",
       "      <td>...</td>\n",
       "    </tr>\n",
       "    <tr>\n",
       "      <th>156</th>\n",
       "      <td>2023-01-01</td>\n",
       "      <td>41085677</td>\n",
       "    </tr>\n",
       "    <tr>\n",
       "      <th>157</th>\n",
       "      <td>2023-02-01</td>\n",
       "      <td>34606344</td>\n",
       "    </tr>\n",
       "    <tr>\n",
       "      <th>158</th>\n",
       "      <td>2023-03-01</td>\n",
       "      <td>53577205</td>\n",
       "    </tr>\n",
       "    <tr>\n",
       "      <th>159</th>\n",
       "      <td>2023-04-01</td>\n",
       "      <td>49637585</td>\n",
       "    </tr>\n",
       "    <tr>\n",
       "      <th>160</th>\n",
       "      <td>2023-05-01</td>\n",
       "      <td>55181712</td>\n",
       "    </tr>\n",
       "  </tbody>\n",
       "</table>\n",
       "<p>161 rows × 2 columns</p>\n",
       "</div>"
      ],
      "text/plain": [
       "     Mes y año  Total Red\n",
       "0   2010-01-01   45448230\n",
       "1   2010-02-01   35380504\n",
       "2   2010-03-01   50872123\n",
       "3   2010-04-01   55724226\n",
       "4   2010-05-01   55332802\n",
       "..         ...        ...\n",
       "156 2023-01-01   41085677\n",
       "157 2023-02-01   34606344\n",
       "158 2023-03-01   53577205\n",
       "159 2023-04-01   49637585\n",
       "160 2023-05-01   55181712\n",
       "\n",
       "[161 rows x 2 columns]"
      ]
     },
     "execution_count": 32,
     "metadata": {},
     "output_type": "execute_result"
    }
   ],
   "source": [
    "#Crear Df para estudiar su estacionalidad\n",
    "\n",
    "df_ml = df[[\"Mes y año\", \"Total Red\"]]\n",
    "df_ml"
   ]
  },
  {
   "cell_type": "code",
   "execution_count": 33,
   "metadata": {},
   "outputs": [
    {
     "name": "stderr",
     "output_type": "stream",
     "text": [
      "C:\\Users\\simon\\AppData\\Local\\Temp\\ipykernel_4056\\1341477925.py:2: SettingWithCopyWarning:\n",
      "\n",
      "\n",
      "A value is trying to be set on a copy of a slice from a DataFrame.\n",
      "Try using .loc[row_indexer,col_indexer] = value instead\n",
      "\n",
      "See the caveats in the documentation: https://pandas.pydata.org/pandas-docs/stable/user_guide/indexing.html#returning-a-view-versus-a-copy\n",
      "\n",
      "C:\\Users\\simon\\AppData\\Local\\Temp\\ipykernel_4056\\1341477925.py:5: SettingWithCopyWarning:\n",
      "\n",
      "\n",
      "A value is trying to be set on a copy of a slice from a DataFrame.\n",
      "Try using .loc[row_indexer,col_indexer] = value instead\n",
      "\n",
      "See the caveats in the documentation: https://pandas.pydata.org/pandas-docs/stable/user_guide/indexing.html#returning-a-view-versus-a-copy\n",
      "\n",
      "C:\\Users\\simon\\AppData\\Local\\Temp\\ipykernel_4056\\1341477925.py:6: SettingWithCopyWarning:\n",
      "\n",
      "\n",
      "A value is trying to be set on a copy of a slice from a DataFrame.\n",
      "Try using .loc[row_indexer,col_indexer] = value instead\n",
      "\n",
      "See the caveats in the documentation: https://pandas.pydata.org/pandas-docs/stable/user_guide/indexing.html#returning-a-view-versus-a-copy\n",
      "\n",
      "C:\\Users\\simon\\AppData\\Local\\Temp\\ipykernel_4056\\1341477925.py:9: SettingWithCopyWarning:\n",
      "\n",
      "\n",
      "A value is trying to be set on a copy of a slice from a DataFrame\n",
      "\n",
      "See the caveats in the documentation: https://pandas.pydata.org/pandas-docs/stable/user_guide/indexing.html#returning-a-view-versus-a-copy\n",
      "\n"
     ]
    },
    {
     "data": {
      "text/html": [
       "<div>\n",
       "<style scoped>\n",
       "    .dataframe tbody tr th:only-of-type {\n",
       "        vertical-align: middle;\n",
       "    }\n",
       "\n",
       "    .dataframe tbody tr th {\n",
       "        vertical-align: top;\n",
       "    }\n",
       "\n",
       "    .dataframe thead th {\n",
       "        text-align: right;\n",
       "    }\n",
       "</style>\n",
       "<table border=\"1\" class=\"dataframe\">\n",
       "  <thead>\n",
       "    <tr style=\"text-align: right;\">\n",
       "      <th></th>\n",
       "      <th>Total Red</th>\n",
       "      <th>Año</th>\n",
       "      <th>Mes</th>\n",
       "    </tr>\n",
       "  </thead>\n",
       "  <tbody>\n",
       "    <tr>\n",
       "      <th>0</th>\n",
       "      <td>45448230</td>\n",
       "      <td>2010</td>\n",
       "      <td>1</td>\n",
       "    </tr>\n",
       "    <tr>\n",
       "      <th>1</th>\n",
       "      <td>35380504</td>\n",
       "      <td>2010</td>\n",
       "      <td>2</td>\n",
       "    </tr>\n",
       "    <tr>\n",
       "      <th>2</th>\n",
       "      <td>50872123</td>\n",
       "      <td>2010</td>\n",
       "      <td>3</td>\n",
       "    </tr>\n",
       "    <tr>\n",
       "      <th>3</th>\n",
       "      <td>55724226</td>\n",
       "      <td>2010</td>\n",
       "      <td>4</td>\n",
       "    </tr>\n",
       "    <tr>\n",
       "      <th>4</th>\n",
       "      <td>55332802</td>\n",
       "      <td>2010</td>\n",
       "      <td>5</td>\n",
       "    </tr>\n",
       "    <tr>\n",
       "      <th>...</th>\n",
       "      <td>...</td>\n",
       "      <td>...</td>\n",
       "      <td>...</td>\n",
       "    </tr>\n",
       "    <tr>\n",
       "      <th>156</th>\n",
       "      <td>41085677</td>\n",
       "      <td>2023</td>\n",
       "      <td>1</td>\n",
       "    </tr>\n",
       "    <tr>\n",
       "      <th>157</th>\n",
       "      <td>34606344</td>\n",
       "      <td>2023</td>\n",
       "      <td>2</td>\n",
       "    </tr>\n",
       "    <tr>\n",
       "      <th>158</th>\n",
       "      <td>53577205</td>\n",
       "      <td>2023</td>\n",
       "      <td>3</td>\n",
       "    </tr>\n",
       "    <tr>\n",
       "      <th>159</th>\n",
       "      <td>49637585</td>\n",
       "      <td>2023</td>\n",
       "      <td>4</td>\n",
       "    </tr>\n",
       "    <tr>\n",
       "      <th>160</th>\n",
       "      <td>55181712</td>\n",
       "      <td>2023</td>\n",
       "      <td>5</td>\n",
       "    </tr>\n",
       "  </tbody>\n",
       "</table>\n",
       "<p>161 rows × 3 columns</p>\n",
       "</div>"
      ],
      "text/plain": [
       "     Total Red   Año  Mes\n",
       "0     45448230  2010    1\n",
       "1     35380504  2010    2\n",
       "2     50872123  2010    3\n",
       "3     55724226  2010    4\n",
       "4     55332802  2010    5\n",
       "..         ...   ...  ...\n",
       "156   41085677  2023    1\n",
       "157   34606344  2023    2\n",
       "158   53577205  2023    3\n",
       "159   49637585  2023    4\n",
       "160   55181712  2023    5\n",
       "\n",
       "[161 rows x 3 columns]"
      ]
     },
     "execution_count": 33,
     "metadata": {},
     "output_type": "execute_result"
    }
   ],
   "source": [
    "# Paso 1: Convertir la columna \"Mes y año\" al formato de fecha\n",
    "df_ml[\"Mes y año\"] = pd.to_datetime(df_ml[\"Mes y año\"], format=\"%Y.%m.%d\")\n",
    "\n",
    "# Paso 2: Crear las nuevas columnas \"Año\" y \"Mes\"\n",
    "df_ml[\"Año\"] = df_ml[\"Mes y año\"].dt.year\n",
    "df_ml[\"Mes\"] = df_ml[\"Mes y año\"].dt.month\n",
    "\n",
    "# Paso 3: Borrar la columna \"Mes y año\" si ya no se necesita\n",
    "df_ml.drop(\"Mes y año\", axis=1, inplace=True)\n",
    "\n",
    "df_ml"
   ]
  },
  {
   "cell_type": "code",
   "execution_count": 34,
   "metadata": {},
   "outputs": [
    {
     "name": "stderr",
     "output_type": "stream",
     "text": [
      "C:\\Users\\simon\\AppData\\Local\\Temp\\ipykernel_4056\\2611276119.py:2: SettingWithCopyWarning:\n",
      "\n",
      "\n",
      "A value is trying to be set on a copy of a slice from a DataFrame.\n",
      "Try using .loc[row_indexer,col_indexer] = value instead\n",
      "\n",
      "See the caveats in the documentation: https://pandas.pydata.org/pandas-docs/stable/user_guide/indexing.html#returning-a-view-versus-a-copy\n",
      "\n",
      "C:\\Users\\simon\\AppData\\Local\\Temp\\ipykernel_4056\\2611276119.py:8: SettingWithCopyWarning:\n",
      "\n",
      "\n",
      "A value is trying to be set on a copy of a slice from a DataFrame\n",
      "\n",
      "See the caveats in the documentation: https://pandas.pydata.org/pandas-docs/stable/user_guide/indexing.html#returning-a-view-versus-a-copy\n",
      "\n"
     ]
    },
    {
     "data": {
      "application/vnd.plotly.v1+json": {
       "config": {
        "plotlyServerURL": "https://plot.ly"
       },
       "data": [
        {
         "hovertemplate": "Fecha=%{x}<br>Total Red (Pasajeros)=%{y}<extra></extra>",
         "legendgroup": "",
         "line": {
          "color": "#636efa",
          "dash": "solid"
         },
         "marker": {
          "symbol": "circle"
         },
         "mode": "lines",
         "name": "",
         "orientation": "v",
         "showlegend": false,
         "type": "scatter",
         "x": [
          "2010-01-01T00:00:00",
          "2010-02-01T00:00:00",
          "2010-03-01T00:00:00",
          "2010-04-01T00:00:00",
          "2010-05-01T00:00:00",
          "2010-06-01T00:00:00",
          "2010-07-01T00:00:00",
          "2010-08-01T00:00:00",
          "2010-09-01T00:00:00",
          "2010-10-01T00:00:00",
          "2010-11-01T00:00:00",
          "2010-12-01T00:00:00",
          "2011-01-01T00:00:00",
          "2011-02-01T00:00:00",
          "2011-03-01T00:00:00",
          "2011-04-01T00:00:00",
          "2011-05-01T00:00:00",
          "2011-06-01T00:00:00",
          "2011-07-01T00:00:00",
          "2011-08-01T00:00:00",
          "2011-09-01T00:00:00",
          "2011-10-01T00:00:00",
          "2011-11-01T00:00:00",
          "2011-12-01T00:00:00",
          "2012-01-01T00:00:00",
          "2012-02-01T00:00:00",
          "2012-03-01T00:00:00",
          "2012-04-01T00:00:00",
          "2012-05-01T00:00:00",
          "2012-06-01T00:00:00",
          "2012-07-01T00:00:00",
          "2012-08-01T00:00:00",
          "2012-09-01T00:00:00",
          "2012-10-01T00:00:00",
          "2012-11-01T00:00:00",
          "2012-12-01T00:00:00",
          "2013-01-01T00:00:00",
          "2013-02-01T00:00:00",
          "2013-03-01T00:00:00",
          "2013-04-01T00:00:00",
          "2013-05-01T00:00:00",
          "2013-06-01T00:00:00",
          "2013-07-01T00:00:00",
          "2013-08-01T00:00:00",
          "2013-09-01T00:00:00",
          "2013-10-01T00:00:00",
          "2013-11-01T00:00:00",
          "2013-12-01T00:00:00",
          "2014-01-01T00:00:00",
          "2014-02-01T00:00:00",
          "2014-03-01T00:00:00",
          "2014-04-01T00:00:00",
          "2014-05-01T00:00:00",
          "2014-06-01T00:00:00",
          "2014-07-01T00:00:00",
          "2014-08-01T00:00:00",
          "2014-09-01T00:00:00",
          "2014-10-01T00:00:00",
          "2014-11-01T00:00:00",
          "2014-12-01T00:00:00",
          "2015-01-01T00:00:00",
          "2015-02-01T00:00:00",
          "2015-03-01T00:00:00",
          "2015-04-01T00:00:00",
          "2015-05-01T00:00:00",
          "2015-06-01T00:00:00",
          "2015-07-01T00:00:00",
          "2015-08-01T00:00:00",
          "2015-09-01T00:00:00",
          "2015-10-01T00:00:00",
          "2015-11-01T00:00:00",
          "2015-12-01T00:00:00",
          "2016-01-01T00:00:00",
          "2016-02-01T00:00:00",
          "2016-03-01T00:00:00",
          "2016-04-01T00:00:00",
          "2016-05-01T00:00:00",
          "2016-06-01T00:00:00",
          "2016-07-01T00:00:00",
          "2016-08-01T00:00:00",
          "2016-09-01T00:00:00",
          "2016-10-01T00:00:00",
          "2016-11-01T00:00:00",
          "2016-12-01T00:00:00",
          "2017-01-01T00:00:00",
          "2017-02-01T00:00:00",
          "2017-03-01T00:00:00",
          "2017-04-01T00:00:00",
          "2017-05-01T00:00:00",
          "2017-06-01T00:00:00",
          "2017-07-01T00:00:00",
          "2017-08-01T00:00:00",
          "2017-09-01T00:00:00",
          "2017-10-01T00:00:00",
          "2017-11-01T00:00:00",
          "2017-12-01T00:00:00",
          "2018-01-01T00:00:00",
          "2018-02-01T00:00:00",
          "2018-03-01T00:00:00",
          "2018-04-01T00:00:00",
          "2018-05-01T00:00:00",
          "2018-06-01T00:00:00",
          "2018-07-01T00:00:00",
          "2018-08-01T00:00:00",
          "2018-09-01T00:00:00",
          "2018-10-01T00:00:00",
          "2018-11-01T00:00:00",
          "2018-12-01T00:00:00",
          "2019-01-01T00:00:00",
          "2019-02-01T00:00:00",
          "2019-03-01T00:00:00",
          "2019-04-01T00:00:00",
          "2019-05-01T00:00:00",
          "2019-06-01T00:00:00",
          "2019-07-01T00:00:00",
          "2019-08-01T00:00:00",
          "2019-09-01T00:00:00",
          "2019-10-01T00:00:00",
          "2019-11-01T00:00:00",
          "2019-12-01T00:00:00"
         ],
         "xaxis": "x",
         "y": [
          45448230,
          35380504,
          50872123,
          55724226,
          55332802,
          54006430,
          52582599,
          55761621,
          52634247,
          55397610,
          54682325,
          52898157,
          45173385,
          37022612,
          56334412,
          55307019,
          59059910,
          55548472,
          53362640,
          55454510,
          55233669,
          54837184,
          56719204,
          55886693,
          48582472,
          38537893,
          56133115,
          55006083,
          58452186,
          57281861,
          53747850,
          59418021,
          50206950,
          60361363,
          56398424,
          54609550,
          49428299,
          37857274,
          53879768,
          61155239,
          58684770,
          56713770,
          57579327,
          60470199,
          52071095,
          62958654,
          58514454,
          57562952,
          50444413,
          39210626,
          58273732,
          59724965,
          59190033,
          57295504,
          57096162,
          58149357,
          54544091,
          62063867,
          55608183,
          56048219,
          48334077,
          39204118,
          57924937,
          58423709,
          55574231,
          57802708,
          55839497,
          57435857,
          55741302,
          59674644,
          58883987,
          56333126,
          48265594,
          41465640,
          57555775,
          58650858,
          60916665,
          56493566,
          55126778,
          60438297,
          57651951,
          56906489,
          58827334,
          57774180,
          49506205,
          40285403,
          61441655,
          54590789,
          62400404,
          58478732,
          56934537,
          62249300,
          56689096,
          60779651,
          63047129,
          58661146,
          53259808,
          44018980,
          61856577,
          63938728,
          64357176,
          62334844,
          57652027,
          66671235,
          55538676,
          68241964,
          62652538,
          60484759,
          56829807,
          46556166,
          67032670,
          68402244,
          69029236,
          65651450,
          65657798,
          69943053,
          60511217,
          48853879,
          36798177,
          48407618
         ],
         "yaxis": "y"
        }
       ],
       "layout": {
        "legend": {
         "tracegroupgap": 0
        },
        "template": {
         "data": {
          "bar": [
           {
            "error_x": {
             "color": "#2a3f5f"
            },
            "error_y": {
             "color": "#2a3f5f"
            },
            "marker": {
             "line": {
              "color": "white",
              "width": 0.5
             },
             "pattern": {
              "fillmode": "overlay",
              "size": 10,
              "solidity": 0.2
             }
            },
            "type": "bar"
           }
          ],
          "barpolar": [
           {
            "marker": {
             "line": {
              "color": "white",
              "width": 0.5
             },
             "pattern": {
              "fillmode": "overlay",
              "size": 10,
              "solidity": 0.2
             }
            },
            "type": "barpolar"
           }
          ],
          "carpet": [
           {
            "aaxis": {
             "endlinecolor": "#2a3f5f",
             "gridcolor": "#C8D4E3",
             "linecolor": "#C8D4E3",
             "minorgridcolor": "#C8D4E3",
             "startlinecolor": "#2a3f5f"
            },
            "baxis": {
             "endlinecolor": "#2a3f5f",
             "gridcolor": "#C8D4E3",
             "linecolor": "#C8D4E3",
             "minorgridcolor": "#C8D4E3",
             "startlinecolor": "#2a3f5f"
            },
            "type": "carpet"
           }
          ],
          "choropleth": [
           {
            "colorbar": {
             "outlinewidth": 0,
             "ticks": ""
            },
            "type": "choropleth"
           }
          ],
          "contour": [
           {
            "colorbar": {
             "outlinewidth": 0,
             "ticks": ""
            },
            "colorscale": [
             [
              0,
              "#0d0887"
             ],
             [
              0.1111111111111111,
              "#46039f"
             ],
             [
              0.2222222222222222,
              "#7201a8"
             ],
             [
              0.3333333333333333,
              "#9c179e"
             ],
             [
              0.4444444444444444,
              "#bd3786"
             ],
             [
              0.5555555555555556,
              "#d8576b"
             ],
             [
              0.6666666666666666,
              "#ed7953"
             ],
             [
              0.7777777777777778,
              "#fb9f3a"
             ],
             [
              0.8888888888888888,
              "#fdca26"
             ],
             [
              1,
              "#f0f921"
             ]
            ],
            "type": "contour"
           }
          ],
          "contourcarpet": [
           {
            "colorbar": {
             "outlinewidth": 0,
             "ticks": ""
            },
            "type": "contourcarpet"
           }
          ],
          "heatmap": [
           {
            "colorbar": {
             "outlinewidth": 0,
             "ticks": ""
            },
            "colorscale": [
             [
              0,
              "#0d0887"
             ],
             [
              0.1111111111111111,
              "#46039f"
             ],
             [
              0.2222222222222222,
              "#7201a8"
             ],
             [
              0.3333333333333333,
              "#9c179e"
             ],
             [
              0.4444444444444444,
              "#bd3786"
             ],
             [
              0.5555555555555556,
              "#d8576b"
             ],
             [
              0.6666666666666666,
              "#ed7953"
             ],
             [
              0.7777777777777778,
              "#fb9f3a"
             ],
             [
              0.8888888888888888,
              "#fdca26"
             ],
             [
              1,
              "#f0f921"
             ]
            ],
            "type": "heatmap"
           }
          ],
          "heatmapgl": [
           {
            "colorbar": {
             "outlinewidth": 0,
             "ticks": ""
            },
            "colorscale": [
             [
              0,
              "#0d0887"
             ],
             [
              0.1111111111111111,
              "#46039f"
             ],
             [
              0.2222222222222222,
              "#7201a8"
             ],
             [
              0.3333333333333333,
              "#9c179e"
             ],
             [
              0.4444444444444444,
              "#bd3786"
             ],
             [
              0.5555555555555556,
              "#d8576b"
             ],
             [
              0.6666666666666666,
              "#ed7953"
             ],
             [
              0.7777777777777778,
              "#fb9f3a"
             ],
             [
              0.8888888888888888,
              "#fdca26"
             ],
             [
              1,
              "#f0f921"
             ]
            ],
            "type": "heatmapgl"
           }
          ],
          "histogram": [
           {
            "marker": {
             "pattern": {
              "fillmode": "overlay",
              "size": 10,
              "solidity": 0.2
             }
            },
            "type": "histogram"
           }
          ],
          "histogram2d": [
           {
            "colorbar": {
             "outlinewidth": 0,
             "ticks": ""
            },
            "colorscale": [
             [
              0,
              "#0d0887"
             ],
             [
              0.1111111111111111,
              "#46039f"
             ],
             [
              0.2222222222222222,
              "#7201a8"
             ],
             [
              0.3333333333333333,
              "#9c179e"
             ],
             [
              0.4444444444444444,
              "#bd3786"
             ],
             [
              0.5555555555555556,
              "#d8576b"
             ],
             [
              0.6666666666666666,
              "#ed7953"
             ],
             [
              0.7777777777777778,
              "#fb9f3a"
             ],
             [
              0.8888888888888888,
              "#fdca26"
             ],
             [
              1,
              "#f0f921"
             ]
            ],
            "type": "histogram2d"
           }
          ],
          "histogram2dcontour": [
           {
            "colorbar": {
             "outlinewidth": 0,
             "ticks": ""
            },
            "colorscale": [
             [
              0,
              "#0d0887"
             ],
             [
              0.1111111111111111,
              "#46039f"
             ],
             [
              0.2222222222222222,
              "#7201a8"
             ],
             [
              0.3333333333333333,
              "#9c179e"
             ],
             [
              0.4444444444444444,
              "#bd3786"
             ],
             [
              0.5555555555555556,
              "#d8576b"
             ],
             [
              0.6666666666666666,
              "#ed7953"
             ],
             [
              0.7777777777777778,
              "#fb9f3a"
             ],
             [
              0.8888888888888888,
              "#fdca26"
             ],
             [
              1,
              "#f0f921"
             ]
            ],
            "type": "histogram2dcontour"
           }
          ],
          "mesh3d": [
           {
            "colorbar": {
             "outlinewidth": 0,
             "ticks": ""
            },
            "type": "mesh3d"
           }
          ],
          "parcoords": [
           {
            "line": {
             "colorbar": {
              "outlinewidth": 0,
              "ticks": ""
             }
            },
            "type": "parcoords"
           }
          ],
          "pie": [
           {
            "automargin": true,
            "type": "pie"
           }
          ],
          "scatter": [
           {
            "fillpattern": {
             "fillmode": "overlay",
             "size": 10,
             "solidity": 0.2
            },
            "type": "scatter"
           }
          ],
          "scatter3d": [
           {
            "line": {
             "colorbar": {
              "outlinewidth": 0,
              "ticks": ""
             }
            },
            "marker": {
             "colorbar": {
              "outlinewidth": 0,
              "ticks": ""
             }
            },
            "type": "scatter3d"
           }
          ],
          "scattercarpet": [
           {
            "marker": {
             "colorbar": {
              "outlinewidth": 0,
              "ticks": ""
             }
            },
            "type": "scattercarpet"
           }
          ],
          "scattergeo": [
           {
            "marker": {
             "colorbar": {
              "outlinewidth": 0,
              "ticks": ""
             }
            },
            "type": "scattergeo"
           }
          ],
          "scattergl": [
           {
            "marker": {
             "colorbar": {
              "outlinewidth": 0,
              "ticks": ""
             }
            },
            "type": "scattergl"
           }
          ],
          "scattermapbox": [
           {
            "marker": {
             "colorbar": {
              "outlinewidth": 0,
              "ticks": ""
             }
            },
            "type": "scattermapbox"
           }
          ],
          "scatterpolar": [
           {
            "marker": {
             "colorbar": {
              "outlinewidth": 0,
              "ticks": ""
             }
            },
            "type": "scatterpolar"
           }
          ],
          "scatterpolargl": [
           {
            "marker": {
             "colorbar": {
              "outlinewidth": 0,
              "ticks": ""
             }
            },
            "type": "scatterpolargl"
           }
          ],
          "scatterternary": [
           {
            "marker": {
             "colorbar": {
              "outlinewidth": 0,
              "ticks": ""
             }
            },
            "type": "scatterternary"
           }
          ],
          "surface": [
           {
            "colorbar": {
             "outlinewidth": 0,
             "ticks": ""
            },
            "colorscale": [
             [
              0,
              "#0d0887"
             ],
             [
              0.1111111111111111,
              "#46039f"
             ],
             [
              0.2222222222222222,
              "#7201a8"
             ],
             [
              0.3333333333333333,
              "#9c179e"
             ],
             [
              0.4444444444444444,
              "#bd3786"
             ],
             [
              0.5555555555555556,
              "#d8576b"
             ],
             [
              0.6666666666666666,
              "#ed7953"
             ],
             [
              0.7777777777777778,
              "#fb9f3a"
             ],
             [
              0.8888888888888888,
              "#fdca26"
             ],
             [
              1,
              "#f0f921"
             ]
            ],
            "type": "surface"
           }
          ],
          "table": [
           {
            "cells": {
             "fill": {
              "color": "#EBF0F8"
             },
             "line": {
              "color": "white"
             }
            },
            "header": {
             "fill": {
              "color": "#C8D4E3"
             },
             "line": {
              "color": "white"
             }
            },
            "type": "table"
           }
          ]
         },
         "layout": {
          "annotationdefaults": {
           "arrowcolor": "#2a3f5f",
           "arrowhead": 0,
           "arrowwidth": 1
          },
          "autotypenumbers": "strict",
          "coloraxis": {
           "colorbar": {
            "outlinewidth": 0,
            "ticks": ""
           }
          },
          "colorscale": {
           "diverging": [
            [
             0,
             "#8e0152"
            ],
            [
             0.1,
             "#c51b7d"
            ],
            [
             0.2,
             "#de77ae"
            ],
            [
             0.3,
             "#f1b6da"
            ],
            [
             0.4,
             "#fde0ef"
            ],
            [
             0.5,
             "#f7f7f7"
            ],
            [
             0.6,
             "#e6f5d0"
            ],
            [
             0.7,
             "#b8e186"
            ],
            [
             0.8,
             "#7fbc41"
            ],
            [
             0.9,
             "#4d9221"
            ],
            [
             1,
             "#276419"
            ]
           ],
           "sequential": [
            [
             0,
             "#0d0887"
            ],
            [
             0.1111111111111111,
             "#46039f"
            ],
            [
             0.2222222222222222,
             "#7201a8"
            ],
            [
             0.3333333333333333,
             "#9c179e"
            ],
            [
             0.4444444444444444,
             "#bd3786"
            ],
            [
             0.5555555555555556,
             "#d8576b"
            ],
            [
             0.6666666666666666,
             "#ed7953"
            ],
            [
             0.7777777777777778,
             "#fb9f3a"
            ],
            [
             0.8888888888888888,
             "#fdca26"
            ],
            [
             1,
             "#f0f921"
            ]
           ],
           "sequentialminus": [
            [
             0,
             "#0d0887"
            ],
            [
             0.1111111111111111,
             "#46039f"
            ],
            [
             0.2222222222222222,
             "#7201a8"
            ],
            [
             0.3333333333333333,
             "#9c179e"
            ],
            [
             0.4444444444444444,
             "#bd3786"
            ],
            [
             0.5555555555555556,
             "#d8576b"
            ],
            [
             0.6666666666666666,
             "#ed7953"
            ],
            [
             0.7777777777777778,
             "#fb9f3a"
            ],
            [
             0.8888888888888888,
             "#fdca26"
            ],
            [
             1,
             "#f0f921"
            ]
           ]
          },
          "colorway": [
           "#636efa",
           "#EF553B",
           "#00cc96",
           "#ab63fa",
           "#FFA15A",
           "#19d3f3",
           "#FF6692",
           "#B6E880",
           "#FF97FF",
           "#FECB52"
          ],
          "font": {
           "color": "#2a3f5f"
          },
          "geo": {
           "bgcolor": "white",
           "lakecolor": "white",
           "landcolor": "white",
           "showlakes": true,
           "showland": true,
           "subunitcolor": "#C8D4E3"
          },
          "hoverlabel": {
           "align": "left"
          },
          "hovermode": "closest",
          "mapbox": {
           "style": "light"
          },
          "paper_bgcolor": "white",
          "plot_bgcolor": "white",
          "polar": {
           "angularaxis": {
            "gridcolor": "#EBF0F8",
            "linecolor": "#EBF0F8",
            "ticks": ""
           },
           "bgcolor": "white",
           "radialaxis": {
            "gridcolor": "#EBF0F8",
            "linecolor": "#EBF0F8",
            "ticks": ""
           }
          },
          "scene": {
           "xaxis": {
            "backgroundcolor": "white",
            "gridcolor": "#DFE8F3",
            "gridwidth": 2,
            "linecolor": "#EBF0F8",
            "showbackground": true,
            "ticks": "",
            "zerolinecolor": "#EBF0F8"
           },
           "yaxis": {
            "backgroundcolor": "white",
            "gridcolor": "#DFE8F3",
            "gridwidth": 2,
            "linecolor": "#EBF0F8",
            "showbackground": true,
            "ticks": "",
            "zerolinecolor": "#EBF0F8"
           },
           "zaxis": {
            "backgroundcolor": "white",
            "gridcolor": "#DFE8F3",
            "gridwidth": 2,
            "linecolor": "#EBF0F8",
            "showbackground": true,
            "ticks": "",
            "zerolinecolor": "#EBF0F8"
           }
          },
          "shapedefaults": {
           "line": {
            "color": "#2a3f5f"
           }
          },
          "ternary": {
           "aaxis": {
            "gridcolor": "#DFE8F3",
            "linecolor": "#A2B1C6",
            "ticks": ""
           },
           "baxis": {
            "gridcolor": "#DFE8F3",
            "linecolor": "#A2B1C6",
            "ticks": ""
           },
           "bgcolor": "white",
           "caxis": {
            "gridcolor": "#DFE8F3",
            "linecolor": "#A2B1C6",
            "ticks": ""
           }
          },
          "title": {
           "x": 0.05
          },
          "xaxis": {
           "automargin": true,
           "gridcolor": "#EBF0F8",
           "linecolor": "#EBF0F8",
           "ticks": "",
           "title": {
            "standoff": 15
           },
           "zerolinecolor": "#EBF0F8",
           "zerolinewidth": 2
          },
          "yaxis": {
           "automargin": true,
           "gridcolor": "#EBF0F8",
           "linecolor": "#EBF0F8",
           "ticks": "",
           "title": {
            "standoff": 15
           },
           "zerolinecolor": "#EBF0F8",
           "zerolinewidth": 2
          }
         }
        },
        "title": {
         "text": "Total Red por Mes de cada Año hasta 2019"
        },
        "xaxis": {
         "anchor": "y",
         "domain": [
          0,
          1
         ],
         "title": {
          "text": "Fecha"
         }
        },
        "yaxis": {
         "anchor": "x",
         "domain": [
          0,
          1
         ],
         "title": {
          "text": "Total Red (Pasajeros)"
         }
        }
       }
      }
     },
     "metadata": {},
     "output_type": "display_data"
    }
   ],
   "source": [
    "# Paso 1: Crear una nueva columna de fecha con el formato adecuado para Plotly\n",
    "df_ml[\"Fecha\"] = pd.to_datetime(df_ml[\"Año\"].astype(str) + \"-\" + df_ml[\"Mes\"].astype(str) + \"-01\")\n",
    "\n",
    "# Paso 2: Filtrar los datos hasta el año 2019\n",
    "df_ml_2019 = df_ml[df_ml[\"Año\"] <= 2019]\n",
    "\n",
    "# Paso 3: Ordenar el DataFrame por la columna \"Fecha\" para asegurar el orden correcto en la gráfica\n",
    "df_ml_2019.sort_values(by=\"Fecha\", inplace=True)\n",
    "\n",
    "# Paso 4: Crear la gráfica de línea con Plotly\n",
    "fig = px.line(df_ml_2019, x=\"Fecha\", y=\"Total Red\", title=\"Total Red por Mes de cada Año hasta 2019\",\n",
    "              labels={\"Fecha\": \"Fecha\", \"Total Red\": \"Total Red (Pasajeros)\"},\n",
    "              template=\"plotly_white\")\n",
    "\n",
    "# Paso 5: Mostrar la gráfica\n",
    "fig.show()\n"
   ]
  },
  {
   "cell_type": "markdown",
   "metadata": {},
   "source": [
    "### Calculo de la prueba de Dickey-Fuller hasta 2019"
   ]
  },
  {
   "cell_type": "code",
   "execution_count": 35,
   "metadata": {},
   "outputs": [
    {
     "name": "stdout",
     "output_type": "stream",
     "text": [
      "Resultado de la prueba de Dickey-Fuller hasta 2019:\n",
      "Estadística de prueba: -1.4240431454495606\n",
      "Valor p: 0.5706968099673339\n",
      "Valores críticos:\n",
      "   1%: -3.492995948509562\n",
      "   5%: -2.888954648057252\n",
      "   10%: -2.58139291903223\n"
     ]
    },
    {
     "name": "stderr",
     "output_type": "stream",
     "text": [
      "C:\\Users\\simon\\AppData\\Local\\Temp\\ipykernel_4056\\4180567543.py:2: SettingWithCopyWarning:\n",
      "\n",
      "\n",
      "A value is trying to be set on a copy of a slice from a DataFrame.\n",
      "Try using .loc[row_indexer,col_indexer] = value instead\n",
      "\n",
      "See the caveats in the documentation: https://pandas.pydata.org/pandas-docs/stable/user_guide/indexing.html#returning-a-view-versus-a-copy\n",
      "\n"
     ]
    }
   ],
   "source": [
    "# Vamos a combinar la columna \"Año\" y \"Mes\" en una nueva columna \"Fecha\" para tener una serie de tiempo completa\n",
    "df_ml['Fecha'] = pd.to_datetime(df_ml['Año'].astype(str) + '-' + df_ml['Mes'].astype(str))\n",
    "df_ml.set_index('Fecha', inplace=True)\n",
    "\n",
    "# Limitamos los datos hasta el año 2019\n",
    "serie_tiempo = df_ml['Total Red'][:'2019']\n",
    "\n",
    "# Realizamos la prueba de Dickey-Fuller\n",
    "resultado = sm.tsa.adfuller(serie_tiempo)\n",
    "\n",
    "# Imprimimos los resultados\n",
    "print('Resultado de la prueba de Dickey-Fuller hasta 2019:')\n",
    "print('Estadística de prueba:', resultado[0])\n",
    "print('Valor p:', resultado[1])\n",
    "print('Valores críticos:')\n",
    "for key, value in resultado[4].items():\n",
    "    print(f'   {key}: {value}')\n"
   ]
  },
  {
   "cell_type": "markdown",
   "metadata": {},
   "source": [
    "### Gráficos de autocorrelación hasta 2019"
   ]
  },
  {
   "cell_type": "code",
   "execution_count": 36,
   "metadata": {},
   "outputs": [
    {
     "name": "stderr",
     "output_type": "stream",
     "text": [
      "C:\\Users\\simon\\AppData\\Local\\Temp\\ipykernel_4056\\1559377101.py:2: SettingWithCopyWarning:\n",
      "\n",
      "\n",
      "A value is trying to be set on a copy of a slice from a DataFrame.\n",
      "Try using .loc[row_indexer,col_indexer] = value instead\n",
      "\n",
      "See the caveats in the documentation: https://pandas.pydata.org/pandas-docs/stable/user_guide/indexing.html#returning-a-view-versus-a-copy\n",
      "\n"
     ]
    },
    {
     "data": {
      "image/png": "[encoded data removed]",
      "text/plain": [
       "<Figure size 1200x1000 with 6 Axes>"
      ]
     },
     "metadata": {},
     "output_type": "display_data"
    }
   ],
   "source": [
    "# Vamos a combinar la columna \"Año\" y \"Mes\" en una nueva columna \"Fecha\" para tener una serie de tiempo completa\n",
    "df_ml['Fecha'] = pd.to_datetime(df_ml['Año'].astype(str) + '-' + df_ml['Mes'].astype(str))\n",
    "df_ml.set_index('Fecha', inplace=True)\n",
    "\n",
    "# Limitamos los datos hasta el año 2019\n",
    "serie_tiempo = df_ml['Total Red'][:'2019']\n",
    "\n",
    "# Gráfico de la serie de tiempo original y su autocorrelación hasta 2019\n",
    "plt.figure(figsize=(12, 10))\n",
    "plt.subplot(321)\n",
    "plt.plot(serie_tiempo)\n",
    "plt.title('Serie de tiempo original hasta 2019')\n",
    "plt.subplot(322)\n",
    "sm.graphics.tsa.plot_acf(serie_tiempo, lags=50, ax=plt.gca())\n",
    "plt.title('Autocorrelación - Serie de tiempo original hasta 2019')\n",
    "\n",
    "# Realizamos la primera diferenciación\n",
    "serie_diferenciada_1 = serie_tiempo.diff().dropna()\n",
    "\n",
    "# Gráfico de la primera diferenciación y su autocorrelación hasta 2019\n",
    "plt.subplot(323)\n",
    "plt.plot(serie_diferenciada_1)\n",
    "plt.title('Primera diferenciación hasta 2019')\n",
    "plt.subplot(324)\n",
    "sm.graphics.tsa.plot_acf(serie_diferenciada_1, lags=50, ax=plt.gca())\n",
    "plt.title('Autocorrelación - Primera diferenciación hasta 2019')\n",
    "\n",
    "# Realizamos la segunda diferenciación\n",
    "serie_diferenciada_2 = serie_diferenciada_1.diff().dropna()\n",
    "\n",
    "# Gráfico de la segunda diferenciación y su autocorrelación hasta 2019\n",
    "plt.subplot(325)\n",
    "plt.plot(serie_diferenciada_2)\n",
    "plt.title('Segunda diferenciación hasta 2019')\n",
    "plt.subplot(326)\n",
    "sm.graphics.tsa.plot_acf(serie_diferenciada_2, lags=50, ax=plt.gca())\n",
    "plt.title('Autocorrelación - Segunda diferenciación hasta 2019')\n",
    "\n",
    "plt.tight_layout()\n",
    "plt.show()\n"
   ]
  },
  {
   "cell_type": "markdown",
   "metadata": {},
   "source": [
    "### Resultado de la prueba de Dickey-Fuller para la primera y segunda diferenciación"
   ]
  },
  {
   "cell_type": "code",
   "execution_count": 37,
   "metadata": {},
   "outputs": [
    {
     "name": "stdout",
     "output_type": "stream",
     "text": [
      "Resultado de la prueba de Dickey-Fuller para la primera diferenciación:\n",
      "Estadística de prueba: -5.132636030045514\n",
      "Valor p: 0.00001204833162756075\n",
      "Valores críticos:\n",
      "   1%: -3.492995948509562\n",
      "   5%: -2.888954648057252\n",
      "   10%: -2.58139291903223\n",
      "\n",
      "Resultado de la prueba de Dickey-Fuller para la segunda diferenciación:\n",
      "Estadística de prueba: -8.716964846721098\n",
      "Valor p: 0.00000000000003467334\n",
      "Valores críticos:\n",
      "   1%: -3.4942202045135513\n",
      "   5%: -2.889485291005291\n",
      "   10%: -2.5816762131519275\n"
     ]
    },
    {
     "name": "stderr",
     "output_type": "stream",
     "text": [
      "C:\\Users\\simon\\AppData\\Local\\Temp\\ipykernel_4056\\4151984818.py:3: SettingWithCopyWarning:\n",
      "\n",
      "\n",
      "A value is trying to be set on a copy of a slice from a DataFrame.\n",
      "Try using .loc[row_indexer,col_indexer] = value instead\n",
      "\n",
      "See the caveats in the documentation: https://pandas.pydata.org/pandas-docs/stable/user_guide/indexing.html#returning-a-view-versus-a-copy\n",
      "\n"
     ]
    }
   ],
   "source": [
    "# Primero, asegúrate de tener los datos en el formato adecuado para el análisis de series de tiempo\n",
    "# Vamos a combinar la columna \"Año\" y \"Mes\" en una nueva columna \"Fecha\" para tener una serie de tiempo completa\n",
    "df_ml['Fecha'] = pd.to_datetime(df_ml['Año'].astype(str) + '-' + df_ml['Mes'].astype(str))\n",
    "df_ml.set_index('Fecha', inplace=True)\n",
    "\n",
    "# Limitamos los datos hasta el año 2019\n",
    "serie_tiempo = df_ml['Total Red'][:'2019']\n",
    "\n",
    "# Realizamos la primera diferenciación\n",
    "serie_diferenciada_1 = serie_tiempo.diff().dropna()\n",
    "\n",
    "# Realizamos la prueba de Dickey-Fuller para la primera diferenciación\n",
    "resultado_diferenciacion_1 = sm.tsa.adfuller(serie_diferenciada_1)\n",
    "\n",
    "# Formateamos los valores de p para mostrar más decimales\n",
    "p_valor_diferenciacion_1 = \"{:.20f}\".format(resultado_diferenciacion_1[1])\n",
    "\n",
    "# Imprimimos los resultados para la primera diferenciación\n",
    "print('Resultado de la prueba de Dickey-Fuller para la primera diferenciación:')\n",
    "print('Estadística de prueba:', resultado_diferenciacion_1[0])\n",
    "print('Valor p:', p_valor_diferenciacion_1)\n",
    "print('Valores críticos:')\n",
    "for key, value in resultado_diferenciacion_1[4].items():\n",
    "    print(f'   {key}: {value}')\n",
    "\n",
    "# Realizamos la segunda diferenciación\n",
    "serie_diferenciada_2 = serie_diferenciada_1.diff().dropna()\n",
    "\n",
    "# Realizamos la prueba de Dickey-Fuller para la segunda diferenciación\n",
    "resultado_diferenciacion_2 = sm.tsa.adfuller(serie_diferenciada_2)\n",
    "\n",
    "# Formateamos los valores de p para mostrar más decimales\n",
    "p_valor_diferenciacion_2 = \"{:.20f}\".format(resultado_diferenciacion_2[1])\n",
    "\n",
    "# Imprimimos los resultados para la segunda diferenciación\n",
    "print('\\nResultado de la prueba de Dickey-Fuller para la segunda diferenciación:')\n",
    "print('Estadística de prueba:', resultado_diferenciacion_2[0])\n",
    "print('Valor p:', p_valor_diferenciacion_2)\n",
    "print('Valores críticos:')\n",
    "for key, value in resultado_diferenciacion_2[4].items():\n",
    "    print(f'   {key}: {value}')\n"
   ]
  },
  {
   "cell_type": "markdown",
   "metadata": {},
   "source": [
    "### Gráfica de PACF Segunda diferenciación"
   ]
  },
  {
   "cell_type": "code",
   "execution_count": 38,
   "metadata": {},
   "outputs": [
    {
     "name": "stderr",
     "output_type": "stream",
     "text": [
      "C:\\Users\\simon\\AppData\\Local\\Temp\\ipykernel_4056\\3358425645.py:3: SettingWithCopyWarning:\n",
      "\n",
      "\n",
      "A value is trying to be set on a copy of a slice from a DataFrame.\n",
      "Try using .loc[row_indexer,col_indexer] = value instead\n",
      "\n",
      "See the caveats in the documentation: https://pandas.pydata.org/pandas-docs/stable/user_guide/indexing.html#returning-a-view-versus-a-copy\n",
      "\n"
     ]
    },
    {
     "data": {
      "text/plain": [
       "<Figure size 800x500 with 0 Axes>"
      ]
     },
     "metadata": {},
     "output_type": "display_data"
    },
    {
     "data": {
      "image/png": "[encoded data removed]",
      "text/plain": [
       "<Figure size 640x480 with 1 Axes>"
      ]
     },
     "metadata": {},
     "output_type": "display_data"
    }
   ],
   "source": [
    "# Primero, asegúrate de tener los datos en el formato adecuado para el análisis de series de tiempo\n",
    "# Vamos a combinar la columna \"Año\" y \"Mes\" en una nueva columna \"Fecha\" para tener una serie de tiempo completa\n",
    "df_ml['Fecha'] = pd.to_datetime(df_ml['Año'].astype(str) + '-' + df_ml['Mes'].astype(str))\n",
    "df_ml.set_index('Fecha', inplace=True)\n",
    "\n",
    "# Limitamos los datos hasta el año 2019\n",
    "serie_tiempo = df_ml['Total Red'][:'2019']\n",
    "\n",
    "# Realizamos la segunda diferenciación\n",
    "serie_diferenciada_1 = serie_tiempo.diff().dropna()\n",
    "serie_diferenciada_2 = serie_diferenciada_1.diff().dropna()\n",
    "\n",
    "# Graficamos la PACF para la segunda diferenciación\n",
    "plt.figure(figsize=(8, 5))\n",
    "sm.graphics.tsa.plot_pacf(serie_diferenciada_2, lags=20, alpha=0.05)\n",
    "plt.title('Gráfica de PACF - Segunda diferenciación')\n",
    "plt.xlabel('Lags')\n",
    "plt.ylabel('Autocorrelación parcial')\n",
    "plt.show()"
   ]
  },
  {
   "cell_type": "markdown",
   "metadata": {},
   "source": [
    "### Gráfica de ACF - Segunda diferenciación"
   ]
  },
  {
   "cell_type": "code",
   "execution_count": 39,
   "metadata": {},
   "outputs": [
    {
     "name": "stderr",
     "output_type": "stream",
     "text": [
      "C:\\Users\\simon\\AppData\\Local\\Temp\\ipykernel_4056\\690726683.py:3: SettingWithCopyWarning:\n",
      "\n",
      "\n",
      "A value is trying to be set on a copy of a slice from a DataFrame.\n",
      "Try using .loc[row_indexer,col_indexer] = value instead\n",
      "\n",
      "See the caveats in the documentation: https://pandas.pydata.org/pandas-docs/stable/user_guide/indexing.html#returning-a-view-versus-a-copy\n",
      "\n"
     ]
    },
    {
     "data": {
      "text/plain": [
       "<Figure size 800x500 with 0 Axes>"
      ]
     },
     "metadata": {},
     "output_type": "display_data"
    },
    {
     "data": {
      "image/png": "[encoded data removed]",
      "text/plain": [
       "<Figure size 640x480 with 1 Axes>"
      ]
     },
     "metadata": {},
     "output_type": "display_data"
    }
   ],
   "source": [
    "# Primero, asegúrate de tener los datos en el formato adecuado para el análisis de series de tiempo\n",
    "# Vamos a combinar la columna \"Año\" y \"Mes\" en una nueva columna \"Fecha\" para tener una serie de tiempo completa\n",
    "df_ml['Fecha'] = pd.to_datetime(df_ml['Año'].astype(str) + '-' + df_ml['Mes'].astype(str))\n",
    "df_ml.set_index('Fecha', inplace=True)\n",
    "\n",
    "# Limitamos los datos hasta el año 2019\n",
    "serie_tiempo = df_ml['Total Red'][:'2019']\n",
    "\n",
    "# Realizamos la segunda diferenciación\n",
    "serie_diferenciada_1 = serie_tiempo.diff().dropna()\n",
    "serie_diferenciada_2 = serie_diferenciada_1.diff().dropna()\n",
    "\n",
    "# Graficamos la ACF para la segunda diferenciación\n",
    "plt.figure(figsize=(8, 5))\n",
    "sm.graphics.tsa.plot_acf(serie_diferenciada_2, lags=20, alpha=0.05)\n",
    "plt.title('Gráfica de ACF - Segunda diferenciación')\n",
    "plt.xlabel('Lags')\n",
    "plt.ylabel('Autocorrelación')\n",
    "plt.show()\n"
   ]
  },
  {
   "cell_type": "markdown",
   "metadata": {},
   "source": [
    "## Conclusion sobre la estacionalidad del modelo.\n",
    "\n",
    "\n"
   ]
  },
  {
   "cell_type": "markdown",
   "metadata": {},
   "source": [
    "\n",
    "Después de realizar un análisis exhaustivo de la serie temporal de los datos de \"Red Total\", pudimos obtener conclusiones importantes para poder aplicar modelos predictivos adecuados. A continuación, presentamos las conclusiones de la exploración de datos:\n",
    "\n",
    "1. Estacionalidad de los datos: Utilizando el método de Dickey-Fuller, determinamos que la serie temporal de \"Red Total\" no presenta estacionalidad significativa, ya que el valor p obtenido (0.57) supera el límite crítico de 0.05. Por lo tanto, podemos concluir que los datos principales no son estacionales.\n",
    "\n",
    "2. Transformación para estacionalidad: Dado que nuestros datos no son estacionales, aplicamos técnicas de diferenciación para convertir la serie temporal en una secuencia estacionaria. Realizamos dos diferenciaciones sucesivas y examinamos los valores p resultantes. En la primera diferenciación, el valor p fue de 0.000012, y en la segunda diferenciación, el valor p fue aún menor, de 0.000000000000034. Estos valores confirman que hemos logrado convertir la serie en una secuencia estacionaria.\n",
    "\n",
    "3. Selección de parámetros para ARIMA: Utilizamos las funciones de autocorrelación parcial (PACF) y autocorrelación (ACF) para determinar los parámetros de orden autoregresivo (AR) y de promedio móvil (MA) para el modelo ARIMA. Identificamos los rezagos significativos que sobresalen de la línea de importancia en ambas gráficas.\n",
    "\n",
    "Concluida esta exploración de datos y selección de componentes para el modelo ARIMA, procederemos a graficar y evaluar su rendimiento. Además, realizaremos un benchmarking con otros modelos, como SARIMA y Prophet de Facebook, para comparar su capacidad predictiva y seleccionar el modelo más adecuado para nuestras necesidades.\n",
    "\n",
    "After conducting a comprehensive analysis of the time series data for \"Total Red,\" we have arrived at significant conclusions to apply suitable predictive models. Here are the key findings from the data exploration:\n",
    "\n",
    "1. Seasonality of the data: Using the Dickey-Fuller test, we determined that the \"Total Red\" time series does not exhibit significant seasonality, as the obtained p-value (0.57) exceeds the critical threshold of 0.05. Hence, we can conclude that the primary data is non-seasonal.\n",
    "\n",
    "2. Transformation for seasonality: Given the non-seasonality of the data, we applied differencing techniques to convert the time series into a stationary sequence. We performed two successive differencing operations and examined the resulting p-values. The first differencing yielded a p-value of 0.000012, and the second differencing further reduced it to 0.000000000000034. These values confirm the successful conversion of the series into a stationary one.\n",
    "\n",
    "3. Selection of ARIMA parameters: To determine the autoregressive (AR) and moving average (MA) parameters for the ARIMA model, we utilized the partial autocorrelation function (PACF) and autocorrelation function (ACF) plots. By identifying the significant lags that extend beyond the significance line in both plots, we obtained the appropriate AR and MA orders.\n",
    "\n",
    "With the data exploration and component selection for the ARIMA model concluded, we will proceed to visualize and evaluate its performance. Additionally, we will conduct benchmarking with other models, such as SARIMA and Facebook's Prophet, to compare their predictive capabilities and select the most suitable model for our needs.\n"
   ]
  },
  {
   "cell_type": "markdown",
   "metadata": {},
   "source": [
    "### Modelo ARIMA"
   ]
  },
  {
   "cell_type": "code",
   "execution_count": 40,
   "metadata": {},
   "outputs": [
    {
     "name": "stderr",
     "output_type": "stream",
     "text": [
      "c:\\Users\\simon\\AppData\\Local\\Programs\\Python\\Python311\\Lib\\site-packages\\statsmodels\\tsa\\base\\tsa_model.py:473: ValueWarning:\n",
      "\n",
      "No frequency information was provided, so inferred frequency MS will be used.\n",
      "\n",
      "c:\\Users\\simon\\AppData\\Local\\Programs\\Python\\Python311\\Lib\\site-packages\\statsmodels\\tsa\\base\\tsa_model.py:473: ValueWarning:\n",
      "\n",
      "No frequency information was provided, so inferred frequency MS will be used.\n",
      "\n",
      "c:\\Users\\simon\\AppData\\Local\\Programs\\Python\\Python311\\Lib\\site-packages\\statsmodels\\tsa\\base\\tsa_model.py:473: ValueWarning:\n",
      "\n",
      "No frequency information was provided, so inferred frequency MS will be used.\n",
      "\n",
      "c:\\Users\\simon\\AppData\\Local\\Programs\\Python\\Python311\\Lib\\site-packages\\statsmodels\\tsa\\statespace\\sarimax.py:978: UserWarning:\n",
      "\n",
      "Non-invertible starting MA parameters found. Using zeros as starting parameters.\n",
      "\n",
      "c:\\Users\\simon\\AppData\\Local\\Programs\\Python\\Python311\\Lib\\site-packages\\statsmodels\\base\\model.py:607: ConvergenceWarning:\n",
      "\n",
      "Maximum Likelihood optimization failed to converge. Check mle_retvals\n",
      "\n"
     ]
    },
    {
     "data": {
      "application/vnd.plotly.v1+json": {
       "config": {
        "plotlyServerURL": "https://plot.ly"
       },
       "data": [
        {
         "mode": "lines",
         "name": "Datos de entrenamiento",
         "type": "scatter",
         "x": [
          "2010-01-01T00:00:00",
          "2010-02-01T00:00:00",
          "2010-03-01T00:00:00",
          "2010-04-01T00:00:00",
          "2010-05-01T00:00:00",
          "2010-06-01T00:00:00",
          "2010-07-01T00:00:00",
          "2010-08-01T00:00:00",
          "2010-09-01T00:00:00",
          "2010-10-01T00:00:00",
          "2010-11-01T00:00:00",
          "2010-12-01T00:00:00",
          "2011-01-01T00:00:00",
          "2011-02-01T00:00:00",
          "2011-03-01T00:00:00",
          "2011-04-01T00:00:00",
          "2011-05-01T00:00:00",
          "2011-06-01T00:00:00",
          "2011-07-01T00:00:00",
          "2011-08-01T00:00:00",
          "2011-09-01T00:00:00",
          "2011-10-01T00:00:00",
          "2011-11-01T00:00:00",
          "2011-12-01T00:00:00",
          "2012-01-01T00:00:00",
          "2012-02-01T00:00:00",
          "2012-03-01T00:00:00",
          "2012-04-01T00:00:00",
          "2012-05-01T00:00:00",
          "2012-06-01T00:00:00",
          "2012-07-01T00:00:00",
          "2012-08-01T00:00:00",
          "2012-09-01T00:00:00",
          "2012-10-01T00:00:00",
          "2012-11-01T00:00:00",
          "2012-12-01T00:00:00",
          "2013-01-01T00:00:00",
          "2013-02-01T00:00:00",
          "2013-03-01T00:00:00",
          "2013-04-01T00:00:00",
          "2013-05-01T00:00:00",
          "2013-06-01T00:00:00",
          "2013-07-01T00:00:00",
          "2013-08-01T00:00:00",
          "2013-09-01T00:00:00",
          "2013-10-01T00:00:00",
          "2013-11-01T00:00:00",
          "2013-12-01T00:00:00",
          "2014-01-01T00:00:00",
          "2014-02-01T00:00:00",
          "2014-03-01T00:00:00",
          "2014-04-01T00:00:00",
          "2014-05-01T00:00:00",
          "2014-06-01T00:00:00",
          "2014-07-01T00:00:00",
          "2014-08-01T00:00:00",
          "2014-09-01T00:00:00",
          "2014-10-01T00:00:00",
          "2014-11-01T00:00:00",
          "2014-12-01T00:00:00",
          "2015-01-01T00:00:00",
          "2015-02-01T00:00:00",
          "2015-03-01T00:00:00",
          "2015-04-01T00:00:00",
          "2015-05-01T00:00:00",
          "2015-06-01T00:00:00",
          "2015-07-01T00:00:00",
          "2015-08-01T00:00:00",
          "2015-09-01T00:00:00",
          "2015-10-01T00:00:00",
          "2015-11-01T00:00:00",
          "2015-12-01T00:00:00",
          "2016-01-01T00:00:00",
          "2016-02-01T00:00:00",
          "2016-03-01T00:00:00",
          "2016-04-01T00:00:00",
          "2016-05-01T00:00:00",
          "2016-06-01T00:00:00",
          "2016-07-01T00:00:00",
          "2016-08-01T00:00:00",
          "2016-09-01T00:00:00",
          "2016-10-01T00:00:00",
          "2016-11-01T00:00:00",
          "2016-12-01T00:00:00",
          "2017-01-01T00:00:00",
          "2017-02-01T00:00:00",
          "2017-03-01T00:00:00",
          "2017-04-01T00:00:00",
          "2017-05-01T00:00:00",
          "2017-06-01T00:00:00",
          "2017-07-01T00:00:00",
          "2017-08-01T00:00:00",
          "2017-09-01T00:00:00",
          "2017-10-01T00:00:00",
          "2017-11-01T00:00:00",
          "2017-12-01T00:00:00",
          "2018-01-01T00:00:00",
          "2018-02-01T00:00:00",
          "2018-03-01T00:00:00",
          "2018-04-01T00:00:00",
          "2018-05-01T00:00:00",
          "2018-06-01T00:00:00",
          "2018-07-01T00:00:00",
          "2018-08-01T00:00:00",
          "2018-09-01T00:00:00",
          "2018-10-01T00:00:00",
          "2018-11-01T00:00:00",
          "2018-12-01T00:00:00"
         ],
         "y": [
          45448230,
          35380504,
          50872123,
          55724226,
          55332802,
          54006430,
          52582599,
          55761621,
          52634247,
          55397610,
          54682325,
          52898157,
          45173385,
          37022612,
          56334412,
          55307019,
          59059910,
          55548472,
          53362640,
          55454510,
          55233669,
          54837184,
          56719204,
          55886693,
          48582472,
          38537893,
          56133115,
          55006083,
          58452186,
          57281861,
          53747850,
          59418021,
          50206950,
          60361363,
          56398424,
          54609550,
          49428299,
          37857274,
          53879768,
          61155239,
          58684770,
          56713770,
          57579327,
          60470199,
          52071095,
          62958654,
          58514454,
          57562952,
          50444413,
          39210626,
          58273732,
          59724965,
          59190033,
          57295504,
          57096162,
          58149357,
          54544091,
          62063867,
          55608183,
          56048219,
          48334077,
          39204118,
          57924937,
          58423709,
          55574231,
          57802708,
          55839497,
          57435857,
          55741302,
          59674644,
          58883987,
          56333126,
          48265594,
          41465640,
          57555775,
          58650858,
          60916665,
          56493566,
          55126778,
          60438297,
          57651951,
          56906489,
          58827334,
          57774180,
          49506205,
          40285403,
          61441655,
          54590789,
          62400404,
          58478732,
          56934537,
          62249300,
          56689096,
          60779651,
          63047129,
          58661146,
          53259808,
          44018980,
          61856577,
          63938728,
          64357176,
          62334844,
          57652027,
          66671235,
          55538676,
          68241964,
          62652538,
          60484759
         ]
        },
        {
         "line": {
          "color": "orange"
         },
         "mode": "lines",
         "name": "Datos de prueba",
         "type": "scatter",
         "x": [
          "2019-01-01T00:00:00",
          "2019-02-01T00:00:00",
          "2019-03-01T00:00:00",
          "2019-04-01T00:00:00",
          "2019-05-01T00:00:00",
          "2019-06-01T00:00:00",
          "2019-07-01T00:00:00",
          "2019-08-01T00:00:00",
          "2019-09-01T00:00:00",
          "2019-10-01T00:00:00",
          "2019-11-01T00:00:00",
          "2019-12-01T00:00:00"
         ],
         "y": [
          56829807,
          46556166,
          67032670,
          68402244,
          69029236,
          65651450,
          65657798,
          69943053,
          60511217,
          48853879,
          36798177,
          48407618
         ]
        },
        {
         "line": {
          "color": "green"
         },
         "mode": "lines",
         "name": "Pronósticos",
         "type": "scatter",
         "x": [
          "2019-01-01T00:00:00",
          "2019-02-01T00:00:00",
          "2019-03-01T00:00:00",
          "2019-04-01T00:00:00",
          "2019-05-01T00:00:00",
          "2019-06-01T00:00:00",
          "2019-07-01T00:00:00",
          "2019-08-01T00:00:00",
          "2019-09-01T00:00:00",
          "2019-10-01T00:00:00",
          "2019-11-01T00:00:00",
          "2019-12-01T00:00:00",
          "2020-01-01T00:00:00"
         ],
         "y": [
          60242712.58924531,
          56784740.37816765,
          65078915.422878206,
          61838097.354963206,
          66913385.65224159,
          64237795.73545815,
          61673411.68065662,
          65823780.94956554,
          61897634.77298767,
          69846892.39857805,
          66641582.54656737,
          68244666.05343616,
          68608218.1489298
         ]
        }
       ],
       "layout": {
        "legend": {
         "x": 0.02,
         "y": 0.98
        },
        "template": {
         "data": {
          "bar": [
           {
            "error_x": {
             "color": "#2a3f5f"
            },
            "error_y": {
             "color": "#2a3f5f"
            },
            "marker": {
             "line": {
              "color": "white",
              "width": 0.5
             },
             "pattern": {
              "fillmode": "overlay",
              "size": 10,
              "solidity": 0.2
             }
            },
            "type": "bar"
           }
          ],
          "barpolar": [
           {
            "marker": {
             "line": {
              "color": "white",
              "width": 0.5
             },
             "pattern": {
              "fillmode": "overlay",
              "size": 10,
              "solidity": 0.2
             }
            },
            "type": "barpolar"
           }
          ],
          "carpet": [
           {
            "aaxis": {
             "endlinecolor": "#2a3f5f",
             "gridcolor": "#C8D4E3",
             "linecolor": "#C8D4E3",
             "minorgridcolor": "#C8D4E3",
             "startlinecolor": "#2a3f5f"
            },
            "baxis": {
             "endlinecolor": "#2a3f5f",
             "gridcolor": "#C8D4E3",
             "linecolor": "#C8D4E3",
             "minorgridcolor": "#C8D4E3",
             "startlinecolor": "#2a3f5f"
            },
            "type": "carpet"
           }
          ],
          "choropleth": [
           {
            "colorbar": {
             "outlinewidth": 0,
             "ticks": ""
            },
            "type": "choropleth"
           }
          ],
          "contour": [
           {
            "colorbar": {
             "outlinewidth": 0,
             "ticks": ""
            },
            "colorscale": [
             [
              0,
              "#0d0887"
             ],
             [
              0.1111111111111111,
              "#46039f"
             ],
             [
              0.2222222222222222,
              "#7201a8"
             ],
             [
              0.3333333333333333,
              "#9c179e"
             ],
             [
              0.4444444444444444,
              "#bd3786"
             ],
             [
              0.5555555555555556,
              "#d8576b"
             ],
             [
              0.6666666666666666,
              "#ed7953"
             ],
             [
              0.7777777777777778,
              "#fb9f3a"
             ],
             [
              0.8888888888888888,
              "#fdca26"
             ],
             [
              1,
              "#f0f921"
             ]
            ],
            "type": "contour"
           }
          ],
          "contourcarpet": [
           {
            "colorbar": {
             "outlinewidth": 0,
             "ticks": ""
            },
            "type": "contourcarpet"
           }
          ],
          "heatmap": [
           {
            "colorbar": {
             "outlinewidth": 0,
             "ticks": ""
            },
            "colorscale": [
             [
              0,
              "#0d0887"
             ],
             [
              0.1111111111111111,
              "#46039f"
             ],
             [
              0.2222222222222222,
              "#7201a8"
             ],
             [
              0.3333333333333333,
              "#9c179e"
             ],
             [
              0.4444444444444444,
              "#bd3786"
             ],
             [
              0.5555555555555556,
              "#d8576b"
             ],
             [
              0.6666666666666666,
              "#ed7953"
             ],
             [
              0.7777777777777778,
              "#fb9f3a"
             ],
             [
              0.8888888888888888,
              "#fdca26"
             ],
             [
              1,
              "#f0f921"
             ]
            ],
            "type": "heatmap"
           }
          ],
          "heatmapgl": [
           {
            "colorbar": {
             "outlinewidth": 0,
             "ticks": ""
            },
            "colorscale": [
             [
              0,
              "#0d0887"
             ],
             [
              0.1111111111111111,
              "#46039f"
             ],
             [
              0.2222222222222222,
              "#7201a8"
             ],
             [
              0.3333333333333333,
              "#9c179e"
             ],
             [
              0.4444444444444444,
              "#bd3786"
             ],
             [
              0.5555555555555556,
              "#d8576b"
             ],
             [
              0.6666666666666666,
              "#ed7953"
             ],
             [
              0.7777777777777778,
              "#fb9f3a"
             ],
             [
              0.8888888888888888,
              "#fdca26"
             ],
             [
              1,
              "#f0f921"
             ]
            ],
            "type": "heatmapgl"
           }
          ],
          "histogram": [
           {
            "marker": {
             "pattern": {
              "fillmode": "overlay",
              "size": 10,
              "solidity": 0.2
             }
            },
            "type": "histogram"
           }
          ],
          "histogram2d": [
           {
            "colorbar": {
             "outlinewidth": 0,
             "ticks": ""
            },
            "colorscale": [
             [
              0,
              "#0d0887"
             ],
             [
              0.1111111111111111,
              "#46039f"
             ],
             [
              0.2222222222222222,
              "#7201a8"
             ],
             [
              0.3333333333333333,
              "#9c179e"
             ],
             [
              0.4444444444444444,
              "#bd3786"
             ],
             [
              0.5555555555555556,
              "#d8576b"
             ],
             [
              0.6666666666666666,
              "#ed7953"
             ],
             [
              0.7777777777777778,
              "#fb9f3a"
             ],
             [
              0.8888888888888888,
              "#fdca26"
             ],
             [
              1,
              "#f0f921"
             ]
            ],
            "type": "histogram2d"
           }
          ],
          "histogram2dcontour": [
           {
            "colorbar": {
             "outlinewidth": 0,
             "ticks": ""
            },
            "colorscale": [
             [
              0,
              "#0d0887"
             ],
             [
              0.1111111111111111,
              "#46039f"
             ],
             [
              0.2222222222222222,
              "#7201a8"
             ],
             [
              0.3333333333333333,
              "#9c179e"
             ],
             [
              0.4444444444444444,
              "#bd3786"
             ],
             [
              0.5555555555555556,
              "#d8576b"
             ],
             [
              0.6666666666666666,
              "#ed7953"
             ],
             [
              0.7777777777777778,
              "#fb9f3a"
             ],
             [
              0.8888888888888888,
              "#fdca26"
             ],
             [
              1,
              "#f0f921"
             ]
            ],
            "type": "histogram2dcontour"
           }
          ],
          "mesh3d": [
           {
            "colorbar": {
             "outlinewidth": 0,
             "ticks": ""
            },
            "type": "mesh3d"
           }
          ],
          "parcoords": [
           {
            "line": {
             "colorbar": {
              "outlinewidth": 0,
              "ticks": ""
             }
            },
            "type": "parcoords"
           }
          ],
          "pie": [
           {
            "automargin": true,
            "type": "pie"
           }
          ],
          "scatter": [
           {
            "fillpattern": {
             "fillmode": "overlay",
             "size": 10,
             "solidity": 0.2
            },
            "type": "scatter"
           }
          ],
          "scatter3d": [
           {
            "line": {
             "colorbar": {
              "outlinewidth": 0,
              "ticks": ""
             }
            },
            "marker": {
             "colorbar": {
              "outlinewidth": 0,
              "ticks": ""
             }
            },
            "type": "scatter3d"
           }
          ],
          "scattercarpet": [
           {
            "marker": {
             "colorbar": {
              "outlinewidth": 0,
              "ticks": ""
             }
            },
            "type": "scattercarpet"
           }
          ],
          "scattergeo": [
           {
            "marker": {
             "colorbar": {
              "outlinewidth": 0,
              "ticks": ""
             }
            },
            "type": "scattergeo"
           }
          ],
          "scattergl": [
           {
            "marker": {
             "colorbar": {
              "outlinewidth": 0,
              "ticks": ""
             }
            },
            "type": "scattergl"
           }
          ],
          "scattermapbox": [
           {
            "marker": {
             "colorbar": {
              "outlinewidth": 0,
              "ticks": ""
             }
            },
            "type": "scattermapbox"
           }
          ],
          "scatterpolar": [
           {
            "marker": {
             "colorbar": {
              "outlinewidth": 0,
              "ticks": ""
             }
            },
            "type": "scatterpolar"
           }
          ],
          "scatterpolargl": [
           {
            "marker": {
             "colorbar": {
              "outlinewidth": 0,
              "ticks": ""
             }
            },
            "type": "scatterpolargl"
           }
          ],
          "scatterternary": [
           {
            "marker": {
             "colorbar": {
              "outlinewidth": 0,
              "ticks": ""
             }
            },
            "type": "scatterternary"
           }
          ],
          "surface": [
           {
            "colorbar": {
             "outlinewidth": 0,
             "ticks": ""
            },
            "colorscale": [
             [
              0,
              "#0d0887"
             ],
             [
              0.1111111111111111,
              "#46039f"
             ],
             [
              0.2222222222222222,
              "#7201a8"
             ],
             [
              0.3333333333333333,
              "#9c179e"
             ],
             [
              0.4444444444444444,
              "#bd3786"
             ],
             [
              0.5555555555555556,
              "#d8576b"
             ],
             [
              0.6666666666666666,
              "#ed7953"
             ],
             [
              0.7777777777777778,
              "#fb9f3a"
             ],
             [
              0.8888888888888888,
              "#fdca26"
             ],
             [
              1,
              "#f0f921"
             ]
            ],
            "type": "surface"
           }
          ],
          "table": [
           {
            "cells": {
             "fill": {
              "color": "#EBF0F8"
             },
             "line": {
              "color": "white"
             }
            },
            "header": {
             "fill": {
              "color": "#C8D4E3"
             },
             "line": {
              "color": "white"
             }
            },
            "type": "table"
           }
          ]
         },
         "layout": {
          "annotationdefaults": {
           "arrowcolor": "#2a3f5f",
           "arrowhead": 0,
           "arrowwidth": 1
          },
          "autotypenumbers": "strict",
          "coloraxis": {
           "colorbar": {
            "outlinewidth": 0,
            "ticks": ""
           }
          },
          "colorscale": {
           "diverging": [
            [
             0,
             "#8e0152"
            ],
            [
             0.1,
             "#c51b7d"
            ],
            [
             0.2,
             "#de77ae"
            ],
            [
             0.3,
             "#f1b6da"
            ],
            [
             0.4,
             "#fde0ef"
            ],
            [
             0.5,
             "#f7f7f7"
            ],
            [
             0.6,
             "#e6f5d0"
            ],
            [
             0.7,
             "#b8e186"
            ],
            [
             0.8,
             "#7fbc41"
            ],
            [
             0.9,
             "#4d9221"
            ],
            [
             1,
             "#276419"
            ]
           ],
           "sequential": [
            [
             0,
             "#0d0887"
            ],
            [
             0.1111111111111111,
             "#46039f"
            ],
            [
             0.2222222222222222,
             "#7201a8"
            ],
            [
             0.3333333333333333,
             "#9c179e"
            ],
            [
             0.4444444444444444,
             "#bd3786"
            ],
            [
             0.5555555555555556,
             "#d8576b"
            ],
            [
             0.6666666666666666,
             "#ed7953"
            ],
            [
             0.7777777777777778,
             "#fb9f3a"
            ],
            [
             0.8888888888888888,
             "#fdca26"
            ],
            [
             1,
             "#f0f921"
            ]
           ],
           "sequentialminus": [
            [
             0,
             "#0d0887"
            ],
            [
             0.1111111111111111,
             "#46039f"
            ],
            [
             0.2222222222222222,
             "#7201a8"
            ],
            [
             0.3333333333333333,
             "#9c179e"
            ],
            [
             0.4444444444444444,
             "#bd3786"
            ],
            [
             0.5555555555555556,
             "#d8576b"
            ],
            [
             0.6666666666666666,
             "#ed7953"
            ],
            [
             0.7777777777777778,
             "#fb9f3a"
            ],
            [
             0.8888888888888888,
             "#fdca26"
            ],
            [
             1,
             "#f0f921"
            ]
           ]
          },
          "colorway": [
           "#636efa",
           "#EF553B",
           "#00cc96",
           "#ab63fa",
           "#FFA15A",
           "#19d3f3",
           "#FF6692",
           "#B6E880",
           "#FF97FF",
           "#FECB52"
          ],
          "font": {
           "color": "#2a3f5f"
          },
          "geo": {
           "bgcolor": "white",
           "lakecolor": "white",
           "landcolor": "white",
           "showlakes": true,
           "showland": true,
           "subunitcolor": "#C8D4E3"
          },
          "hoverlabel": {
           "align": "left"
          },
          "hovermode": "closest",
          "mapbox": {
           "style": "light"
          },
          "paper_bgcolor": "white",
          "plot_bgcolor": "white",
          "polar": {
           "angularaxis": {
            "gridcolor": "#EBF0F8",
            "linecolor": "#EBF0F8",
            "ticks": ""
           },
           "bgcolor": "white",
           "radialaxis": {
            "gridcolor": "#EBF0F8",
            "linecolor": "#EBF0F8",
            "ticks": ""
           }
          },
          "scene": {
           "xaxis": {
            "backgroundcolor": "white",
            "gridcolor": "#DFE8F3",
            "gridwidth": 2,
            "linecolor": "#EBF0F8",
            "showbackground": true,
            "ticks": "",
            "zerolinecolor": "#EBF0F8"
           },
           "yaxis": {
            "backgroundcolor": "white",
            "gridcolor": "#DFE8F3",
            "gridwidth": 2,
            "linecolor": "#EBF0F8",
            "showbackground": true,
            "ticks": "",
            "zerolinecolor": "#EBF0F8"
           },
           "zaxis": {
            "backgroundcolor": "white",
            "gridcolor": "#DFE8F3",
            "gridwidth": 2,
            "linecolor": "#EBF0F8",
            "showbackground": true,
            "ticks": "",
            "zerolinecolor": "#EBF0F8"
           }
          },
          "shapedefaults": {
           "line": {
            "color": "#2a3f5f"
           }
          },
          "ternary": {
           "aaxis": {
            "gridcolor": "#DFE8F3",
            "linecolor": "#A2B1C6",
            "ticks": ""
           },
           "baxis": {
            "gridcolor": "#DFE8F3",
            "linecolor": "#A2B1C6",
            "ticks": ""
           },
           "bgcolor": "white",
           "caxis": {
            "gridcolor": "#DFE8F3",
            "linecolor": "#A2B1C6",
            "ticks": ""
           }
          },
          "title": {
           "x": 0.05
          },
          "xaxis": {
           "automargin": true,
           "gridcolor": "#EBF0F8",
           "linecolor": "#EBF0F8",
           "ticks": "",
           "title": {
            "standoff": 15
           },
           "zerolinecolor": "#EBF0F8",
           "zerolinewidth": 2
          },
          "yaxis": {
           "automargin": true,
           "gridcolor": "#EBF0F8",
           "linecolor": "#EBF0F8",
           "ticks": "",
           "title": {
            "standoff": 15
           },
           "zerolinecolor": "#EBF0F8",
           "zerolinewidth": 2
          }
         }
        },
        "title": {
         "text": "Pronóstico de Total Red con ARIMA"
        },
        "xaxis": {
         "title": {
          "text": "Fecha"
         }
        },
        "yaxis": {
         "title": {
          "text": "Cantidad de Pasajeros"
         }
        }
       }
      }
     },
     "metadata": {},
     "output_type": "display_data"
    }
   ],
   "source": [
    "# Paso 4: Dividir los datos en conjuntos de entrenamiento y prueba\n",
    "# Usamos los datos hasta diciembre de 2018 para entrenar el modelo\n",
    "# y el resto (todo el año 2019) para probar el rendimiento del modelo.\n",
    "train_data = serie_tiempo[\"2010-01-01\":\"2018-12-31\"]\n",
    "test_data = serie_tiempo[\"2019-01-01\":\"2019-12-31\"]\n",
    "\n",
    "# Paso 5: Implementar el modelo ARIMA para entrenamiento\n",
    "# NOTA: En esta etapa, deberás seleccionar los órdenes del modelo ARIMA (p, d, q) y ajustar el modelo a los datos de entrenamiento.\n",
    "\n",
    "# Por ejemplo, para un modelo ARIMA con órdenes (1, 1, 1):\n",
    "modelo = sm.tsa.ARIMA(train_data, order=(4,2,6))\n",
    "resultado = modelo.fit()\n",
    "\n",
    "# Paso 6: Hacer pronósticos con el modelo entrenado\n",
    "pronosticos = resultado.predict(start=\"2019-01-01\", end=\"2019-12-31\", dynamic=True)\n",
    "\n",
    "# Paso 7: Crear la gráfica utilizando Plotly\n",
    "fig = go.Figure()\n",
    "\n",
    "# Datos de entrenamiento y prueba\n",
    "fig.add_trace(go.Scatter(x=train_data.index, y=train_data.values, mode=\"lines\", name=\"Datos de entrenamiento\"))\n",
    "fig.add_trace(go.Scatter(x=test_data.index, y=test_data.values, mode=\"lines\", name=\"Datos de prueba\", line=dict(color=\"orange\")))\n",
    "\n",
    "# Predicciones para el año 2019\n",
    "fig.add_trace(go.Scatter(x=pronosticos.index, y=pronosticos.values, mode=\"lines\", name=\"Pronósticos\", line=dict(color=\"green\")))\n",
    "\n",
    "# Personalizar la figura\n",
    "fig.update_layout(title=\"Pronóstico de Total Red con ARIMA\",\n",
    "                  xaxis_title=\"Fecha\",\n",
    "                  yaxis_title=\"Cantidad de Pasajeros\",\n",
    "                  legend=dict(x=0.02, y=0.98),\n",
    "                  template=\"plotly_white\")\n",
    "\n",
    "# Mostrar la figura\n",
    "fig.show()"
   ]
  },
  {
   "cell_type": "markdown",
   "metadata": {},
   "source": [
    "### Modelo SARIMA"
   ]
  },
  {
   "cell_type": "code",
   "execution_count": 41,
   "metadata": {},
   "outputs": [
    {
     "name": "stderr",
     "output_type": "stream",
     "text": [
      "C:\\Users\\simon\\AppData\\Local\\Temp\\ipykernel_4056\\3143828513.py:3: SettingWithCopyWarning:\n",
      "\n",
      "\n",
      "A value is trying to be set on a copy of a slice from a DataFrame.\n",
      "Try using .loc[row_indexer,col_indexer] = value instead\n",
      "\n",
      "See the caveats in the documentation: https://pandas.pydata.org/pandas-docs/stable/user_guide/indexing.html#returning-a-view-versus-a-copy\n",
      "\n"
     ]
    },
    {
     "data": {
      "text/plain": [
       "<Figure size 800x500 with 0 Axes>"
      ]
     },
     "metadata": {},
     "output_type": "display_data"
    },
    {
     "data": {
      "image/png": "[encoded data removed]",
      "text/plain": [
       "<Figure size 640x480 with 1 Axes>"
      ]
     },
     "metadata": {},
     "output_type": "display_data"
    }
   ],
   "source": [
    "# Primero, asegúrate de tener los datos en el formato adecuado para el análisis de series de tiempo\n",
    "# Vamos a combinar la columna \"Año\" y \"Mes\" en una nueva columna \"Fecha\" para tener una serie de tiempo completa\n",
    "df_ml['Fecha'] = pd.to_datetime(df_ml['Año'].astype(str) + '-' + df_ml['Mes'].astype(str))\n",
    "df_ml.set_index('Fecha', inplace=True)\n",
    "\n",
    "# Limitamos los datos hasta el año 2019\n",
    "serie_tiempo = df_ml['Total Red'][:'2019']\n",
    "\n",
    "# Graficamos solo la PACF de los datos originales hasta el año 2019\n",
    "plt.figure(figsize=(8, 5))\n",
    "plot_pacf(serie_tiempo, lags=20, alpha=0.05)\n",
    "plt.title('Gráfica de PACF - Datos Originales (Hasta 2019)')\n",
    "plt.xlabel('Lags')\n",
    "plt.ylabel('Autocorrelación parcial')\n",
    "plt.show()\n"
   ]
  },
  {
   "cell_type": "code",
   "execution_count": 42,
   "metadata": {},
   "outputs": [
    {
     "name": "stderr",
     "output_type": "stream",
     "text": [
      "C:\\Users\\simon\\AppData\\Local\\Temp\\ipykernel_4056\\1603036791.py:3: SettingWithCopyWarning:\n",
      "\n",
      "\n",
      "A value is trying to be set on a copy of a slice from a DataFrame.\n",
      "Try using .loc[row_indexer,col_indexer] = value instead\n",
      "\n",
      "See the caveats in the documentation: https://pandas.pydata.org/pandas-docs/stable/user_guide/indexing.html#returning-a-view-versus-a-copy\n",
      "\n"
     ]
    },
    {
     "data": {
      "text/plain": [
       "<Figure size 800x500 with 0 Axes>"
      ]
     },
     "metadata": {},
     "output_type": "display_data"
    },
    {
     "data": {
      "image/png": "[encoded data removed]",
      "text/plain": [
       "<Figure size 640x480 with 1 Axes>"
      ]
     },
     "metadata": {},
     "output_type": "display_data"
    }
   ],
   "source": [
    "# Primero, asegúrate de tener los datos en el formato adecuado para el análisis de series de tiempo\n",
    "# Vamos a combinar la columna \"Año\" y \"Mes\" en una nueva columna \"Fecha\" para tener una serie de tiempo completa\n",
    "df_ml['Fecha'] = pd.to_datetime(df_ml['Año'].astype(str) + '-' + df_ml['Mes'].astype(str))\n",
    "df_ml.set_index('Fecha', inplace=True)\n",
    "\n",
    "# Limitamos los datos hasta el año 2019\n",
    "serie_tiempo = df_ml['Total Red'][:'2019']\n",
    "\n",
    "# Graficamos solo la ACF de los datos originales hasta el año 2019\n",
    "plt.figure(figsize=(8, 5))\n",
    "plot_acf(serie_tiempo, lags=20, alpha=0.05)\n",
    "plt.title('Gráfica de ACF - Datos Originales (Hasta 2019)')\n",
    "plt.xlabel('Lags')\n",
    "plt.ylabel('Autocorrelación')\n",
    "plt.show()\n"
   ]
  },
  {
   "cell_type": "code",
   "execution_count": 43,
   "metadata": {},
   "outputs": [
    {
     "name": "stderr",
     "output_type": "stream",
     "text": [
      "C:\\Users\\simon\\AppData\\Local\\Temp\\ipykernel_4056\\310910499.py:2: SettingWithCopyWarning:\n",
      "\n",
      "\n",
      "A value is trying to be set on a copy of a slice from a DataFrame.\n",
      "Try using .loc[row_indexer,col_indexer] = value instead\n",
      "\n",
      "See the caveats in the documentation: https://pandas.pydata.org/pandas-docs/stable/user_guide/indexing.html#returning-a-view-versus-a-copy\n",
      "\n",
      "c:\\Users\\simon\\AppData\\Local\\Programs\\Python\\Python311\\Lib\\site-packages\\statsmodels\\tsa\\base\\tsa_model.py:473: ValueWarning:\n",
      "\n",
      "No frequency information was provided, so inferred frequency MS will be used.\n",
      "\n",
      "c:\\Users\\simon\\AppData\\Local\\Programs\\Python\\Python311\\Lib\\site-packages\\statsmodels\\tsa\\base\\tsa_model.py:473: ValueWarning:\n",
      "\n",
      "No frequency information was provided, so inferred frequency MS will be used.\n",
      "\n",
      "c:\\Users\\simon\\AppData\\Local\\Programs\\Python\\Python311\\Lib\\site-packages\\statsmodels\\tsa\\statespace\\sarimax.py:978: UserWarning:\n",
      "\n",
      "Non-invertible starting MA parameters found. Using zeros as starting parameters.\n",
      "\n",
      "c:\\Users\\simon\\AppData\\Local\\Programs\\Python\\Python311\\Lib\\site-packages\\statsmodels\\tsa\\statespace\\sarimax.py:866: UserWarning:\n",
      "\n",
      "Too few observations to estimate starting parameters for seasonal ARMA. All parameters except for variances will be set to zeros.\n",
      "\n",
      "c:\\Users\\simon\\AppData\\Local\\Programs\\Python\\Python311\\Lib\\site-packages\\statsmodels\\base\\model.py:607: ConvergenceWarning:\n",
      "\n",
      "Maximum Likelihood optimization failed to converge. Check mle_retvals\n",
      "\n"
     ]
    },
    {
     "data": {
      "application/vnd.plotly.v1+json": {
       "config": {
        "plotlyServerURL": "https://plot.ly"
       },
       "data": [
        {
         "mode": "lines",
         "name": "Datos de entrenamiento",
         "type": "scatter",
         "x": [
          "2010-01-01T00:00:00",
          "2010-02-01T00:00:00",
          "2010-03-01T00:00:00",
          "2010-04-01T00:00:00",
          "2010-05-01T00:00:00",
          "2010-06-01T00:00:00",
          "2010-07-01T00:00:00",
          "2010-08-01T00:00:00",
          "2010-09-01T00:00:00",
          "2010-10-01T00:00:00",
          "2010-11-01T00:00:00",
          "2010-12-01T00:00:00",
          "2011-01-01T00:00:00",
          "2011-02-01T00:00:00",
          "2011-03-01T00:00:00",
          "2011-04-01T00:00:00",
          "2011-05-01T00:00:00",
          "2011-06-01T00:00:00",
          "2011-07-01T00:00:00",
          "2011-08-01T00:00:00",
          "2011-09-01T00:00:00",
          "2011-10-01T00:00:00",
          "2011-11-01T00:00:00",
          "2011-12-01T00:00:00",
          "2012-01-01T00:00:00",
          "2012-02-01T00:00:00",
          "2012-03-01T00:00:00",
          "2012-04-01T00:00:00",
          "2012-05-01T00:00:00",
          "2012-06-01T00:00:00",
          "2012-07-01T00:00:00",
          "2012-08-01T00:00:00",
          "2012-09-01T00:00:00",
          "2012-10-01T00:00:00",
          "2012-11-01T00:00:00",
          "2012-12-01T00:00:00",
          "2013-01-01T00:00:00",
          "2013-02-01T00:00:00",
          "2013-03-01T00:00:00",
          "2013-04-01T00:00:00",
          "2013-05-01T00:00:00",
          "2013-06-01T00:00:00",
          "2013-07-01T00:00:00",
          "2013-08-01T00:00:00",
          "2013-09-01T00:00:00",
          "2013-10-01T00:00:00",
          "2013-11-01T00:00:00",
          "2013-12-01T00:00:00",
          "2014-01-01T00:00:00",
          "2014-02-01T00:00:00",
          "2014-03-01T00:00:00",
          "2014-04-01T00:00:00",
          "2014-05-01T00:00:00",
          "2014-06-01T00:00:00",
          "2014-07-01T00:00:00",
          "2014-08-01T00:00:00",
          "2014-09-01T00:00:00",
          "2014-10-01T00:00:00",
          "2014-11-01T00:00:00",
          "2014-12-01T00:00:00",
          "2015-01-01T00:00:00",
          "2015-02-01T00:00:00",
          "2015-03-01T00:00:00",
          "2015-04-01T00:00:00",
          "2015-05-01T00:00:00",
          "2015-06-01T00:00:00",
          "2015-07-01T00:00:00",
          "2015-08-01T00:00:00",
          "2015-09-01T00:00:00",
          "2015-10-01T00:00:00",
          "2015-11-01T00:00:00",
          "2015-12-01T00:00:00",
          "2016-01-01T00:00:00",
          "2016-02-01T00:00:00",
          "2016-03-01T00:00:00",
          "2016-04-01T00:00:00",
          "2016-05-01T00:00:00",
          "2016-06-01T00:00:00",
          "2016-07-01T00:00:00",
          "2016-08-01T00:00:00",
          "2016-09-01T00:00:00",
          "2016-10-01T00:00:00",
          "2016-11-01T00:00:00",
          "2016-12-01T00:00:00",
          "2017-01-01T00:00:00",
          "2017-02-01T00:00:00",
          "2017-03-01T00:00:00",
          "2017-04-01T00:00:00",
          "2017-05-01T00:00:00",
          "2017-06-01T00:00:00",
          "2017-07-01T00:00:00",
          "2017-08-01T00:00:00",
          "2017-09-01T00:00:00",
          "2017-10-01T00:00:00",
          "2017-11-01T00:00:00",
          "2017-12-01T00:00:00",
          "2018-01-01T00:00:00",
          "2018-02-01T00:00:00",
          "2018-03-01T00:00:00",
          "2018-04-01T00:00:00",
          "2018-05-01T00:00:00",
          "2018-06-01T00:00:00",
          "2018-07-01T00:00:00",
          "2018-08-01T00:00:00",
          "2018-09-01T00:00:00",
          "2018-10-01T00:00:00",
          "2018-11-01T00:00:00",
          "2018-12-01T00:00:00"
         ],
         "y": [
          45448230,
          35380504,
          50872123,
          55724226,
          55332802,
          54006430,
          52582599,
          55761621,
          52634247,
          55397610,
          54682325,
          52898157,
          45173385,
          37022612,
          56334412,
          55307019,
          59059910,
          55548472,
          53362640,
          55454510,
          55233669,
          54837184,
          56719204,
          55886693,
          48582472,
          38537893,
          56133115,
          55006083,
          58452186,
          57281861,
          53747850,
          59418021,
          50206950,
          60361363,
          56398424,
          54609550,
          49428299,
          37857274,
          53879768,
          61155239,
          58684770,
          56713770,
          57579327,
          60470199,
          52071095,
          62958654,
          58514454,
          57562952,
          50444413,
          39210626,
          58273732,
          59724965,
          59190033,
          57295504,
          57096162,
          58149357,
          54544091,
          62063867,
          55608183,
          56048219,
          48334077,
          39204118,
          57924937,
          58423709,
          55574231,
          57802708,
          55839497,
          57435857,
          55741302,
          59674644,
          58883987,
          56333126,
          48265594,
          41465640,
          57555775,
          58650858,
          60916665,
          56493566,
          55126778,
          60438297,
          57651951,
          56906489,
          58827334,
          57774180,
          49506205,
          40285403,
          61441655,
          54590789,
          62400404,
          58478732,
          56934537,
          62249300,
          56689096,
          60779651,
          63047129,
          58661146,
          53259808,
          44018980,
          61856577,
          63938728,
          64357176,
          62334844,
          57652027,
          66671235,
          55538676,
          68241964,
          62652538,
          60484759
         ]
        },
        {
         "line": {
          "color": "orange"
         },
         "mode": "lines",
         "name": "Datos de prueba",
         "type": "scatter",
         "x": [
          "2019-01-01T00:00:00",
          "2019-02-01T00:00:00",
          "2019-03-01T00:00:00",
          "2019-04-01T00:00:00",
          "2019-05-01T00:00:00",
          "2019-06-01T00:00:00",
          "2019-07-01T00:00:00",
          "2019-08-01T00:00:00",
          "2019-09-01T00:00:00",
          "2019-10-01T00:00:00",
          "2019-11-01T00:00:00",
          "2019-12-01T00:00:00"
         ],
         "y": [
          56829807,
          46556166,
          67032670,
          68402244,
          69029236,
          65651450,
          65657798,
          69943053,
          60511217,
          48853879,
          36798177,
          48407618
         ]
        },
        {
         "line": {
          "color": "green"
         },
         "mode": "lines",
         "name": "Pronósticos",
         "type": "scatter",
         "x": [
          "2019-01-01T00:00:00",
          "2019-02-01T00:00:00",
          "2019-03-01T00:00:00",
          "2019-04-01T00:00:00",
          "2019-05-01T00:00:00",
          "2019-06-01T00:00:00",
          "2019-07-01T00:00:00",
          "2019-08-01T00:00:00",
          "2019-09-01T00:00:00",
          "2019-10-01T00:00:00",
          "2019-11-01T00:00:00",
          "2019-12-01T00:00:00"
         ],
         "y": [
          54320847.40657619,
          45308179.254228845,
          62136177.45666267,
          65329659.563183144,
          64693087.0186256,
          63478359.53453406,
          57694575.980966695,
          67391503.58328305,
          55966630.12033284,
          68703305.60536045,
          62162839.25358179,
          61183258.043825865
         ]
        }
       ],
       "layout": {
        "legend": {
         "x": 0.02,
         "y": -0.48
        },
        "shapes": [
         {
          "line": {
           "color": "gray",
           "width": 2
          },
          "type": "line",
          "x0": "2018-12-31",
          "x1": "2018-12-31",
          "y0": 0,
          "y1": 68241964
         }
        ],
        "template": {
         "data": {
          "bar": [
           {
            "error_x": {
             "color": "#2a3f5f"
            },
            "error_y": {
             "color": "#2a3f5f"
            },
            "marker": {
             "line": {
              "color": "white",
              "width": 0.5
             },
             "pattern": {
              "fillmode": "overlay",
              "size": 10,
              "solidity": 0.2
             }
            },
            "type": "bar"
           }
          ],
          "barpolar": [
           {
            "marker": {
             "line": {
              "color": "white",
              "width": 0.5
             },
             "pattern": {
              "fillmode": "overlay",
              "size": 10,
              "solidity": 0.2
             }
            },
            "type": "barpolar"
           }
          ],
          "carpet": [
           {
            "aaxis": {
             "endlinecolor": "#2a3f5f",
             "gridcolor": "#C8D4E3",
             "linecolor": "#C8D4E3",
             "minorgridcolor": "#C8D4E3",
             "startlinecolor": "#2a3f5f"
            },
            "baxis": {
             "endlinecolor": "#2a3f5f",
             "gridcolor": "#C8D4E3",
             "linecolor": "#C8D4E3",
             "minorgridcolor": "#C8D4E3",
             "startlinecolor": "#2a3f5f"
            },
            "type": "carpet"
           }
          ],
          "choropleth": [
           {
            "colorbar": {
             "outlinewidth": 0,
             "ticks": ""
            },
            "type": "choropleth"
           }
          ],
          "contour": [
           {
            "colorbar": {
             "outlinewidth": 0,
             "ticks": ""
            },
            "colorscale": [
             [
              0,
              "#0d0887"
             ],
             [
              0.1111111111111111,
              "#46039f"
             ],
             [
              0.2222222222222222,
              "#7201a8"
             ],
             [
              0.3333333333333333,
              "#9c179e"
             ],
             [
              0.4444444444444444,
              "#bd3786"
             ],
             [
              0.5555555555555556,
              "#d8576b"
             ],
             [
              0.6666666666666666,
              "#ed7953"
             ],
             [
              0.7777777777777778,
              "#fb9f3a"
             ],
             [
              0.8888888888888888,
              "#fdca26"
             ],
             [
              1,
              "#f0f921"
             ]
            ],
            "type": "contour"
           }
          ],
          "contourcarpet": [
           {
            "colorbar": {
             "outlinewidth": 0,
             "ticks": ""
            },
            "type": "contourcarpet"
           }
          ],
          "heatmap": [
           {
            "colorbar": {
             "outlinewidth": 0,
             "ticks": ""
            },
            "colorscale": [
             [
              0,
              "#0d0887"
             ],
             [
              0.1111111111111111,
              "#46039f"
             ],
             [
              0.2222222222222222,
              "#7201a8"
             ],
             [
              0.3333333333333333,
              "#9c179e"
             ],
             [
              0.4444444444444444,
              "#bd3786"
             ],
             [
              0.5555555555555556,
              "#d8576b"
             ],
             [
              0.6666666666666666,
              "#ed7953"
             ],
             [
              0.7777777777777778,
              "#fb9f3a"
             ],
             [
              0.8888888888888888,
              "#fdca26"
             ],
             [
              1,
              "#f0f921"
             ]
            ],
            "type": "heatmap"
           }
          ],
          "heatmapgl": [
           {
            "colorbar": {
             "outlinewidth": 0,
             "ticks": ""
            },
            "colorscale": [
             [
              0,
              "#0d0887"
             ],
             [
              0.1111111111111111,
              "#46039f"
             ],
             [
              0.2222222222222222,
              "#7201a8"
             ],
             [
              0.3333333333333333,
              "#9c179e"
             ],
             [
              0.4444444444444444,
              "#bd3786"
             ],
             [
              0.5555555555555556,
              "#d8576b"
             ],
             [
              0.6666666666666666,
              "#ed7953"
             ],
             [
              0.7777777777777778,
              "#fb9f3a"
             ],
             [
              0.8888888888888888,
              "#fdca26"
             ],
             [
              1,
              "#f0f921"
             ]
            ],
            "type": "heatmapgl"
           }
          ],
          "histogram": [
           {
            "marker": {
             "pattern": {
              "fillmode": "overlay",
              "size": 10,
              "solidity": 0.2
             }
            },
            "type": "histogram"
           }
          ],
          "histogram2d": [
           {
            "colorbar": {
             "outlinewidth": 0,
             "ticks": ""
            },
            "colorscale": [
             [
              0,
              "#0d0887"
             ],
             [
              0.1111111111111111,
              "#46039f"
             ],
             [
              0.2222222222222222,
              "#7201a8"
             ],
             [
              0.3333333333333333,
              "#9c179e"
             ],
             [
              0.4444444444444444,
              "#bd3786"
             ],
             [
              0.5555555555555556,
              "#d8576b"
             ],
             [
              0.6666666666666666,
              "#ed7953"
             ],
             [
              0.7777777777777778,
              "#fb9f3a"
             ],
             [
              0.8888888888888888,
              "#fdca26"
             ],
             [
              1,
              "#f0f921"
             ]
            ],
            "type": "histogram2d"
           }
          ],
          "histogram2dcontour": [
           {
            "colorbar": {
             "outlinewidth": 0,
             "ticks": ""
            },
            "colorscale": [
             [
              0,
              "#0d0887"
             ],
             [
              0.1111111111111111,
              "#46039f"
             ],
             [
              0.2222222222222222,
              "#7201a8"
             ],
             [
              0.3333333333333333,
              "#9c179e"
             ],
             [
              0.4444444444444444,
              "#bd3786"
             ],
             [
              0.5555555555555556,
              "#d8576b"
             ],
             [
              0.6666666666666666,
              "#ed7953"
             ],
             [
              0.7777777777777778,
              "#fb9f3a"
             ],
             [
              0.8888888888888888,
              "#fdca26"
             ],
             [
              1,
              "#f0f921"
             ]
            ],
            "type": "histogram2dcontour"
           }
          ],
          "mesh3d": [
           {
            "colorbar": {
             "outlinewidth": 0,
             "ticks": ""
            },
            "type": "mesh3d"
           }
          ],
          "parcoords": [
           {
            "line": {
             "colorbar": {
              "outlinewidth": 0,
              "ticks": ""
             }
            },
            "type": "parcoords"
           }
          ],
          "pie": [
           {
            "automargin": true,
            "type": "pie"
           }
          ],
          "scatter": [
           {
            "fillpattern": {
             "fillmode": "overlay",
             "size": 10,
             "solidity": 0.2
            },
            "type": "scatter"
           }
          ],
          "scatter3d": [
           {
            "line": {
             "colorbar": {
              "outlinewidth": 0,
              "ticks": ""
             }
            },
            "marker": {
             "colorbar": {
              "outlinewidth": 0,
              "ticks": ""
             }
            },
            "type": "scatter3d"
           }
          ],
          "scattercarpet": [
           {
            "marker": {
             "colorbar": {
              "outlinewidth": 0,
              "ticks": ""
             }
            },
            "type": "scattercarpet"
           }
          ],
          "scattergeo": [
           {
            "marker": {
             "colorbar": {
              "outlinewidth": 0,
              "ticks": ""
             }
            },
            "type": "scattergeo"
           }
          ],
          "scattergl": [
           {
            "marker": {
             "colorbar": {
              "outlinewidth": 0,
              "ticks": ""
             }
            },
            "type": "scattergl"
           }
          ],
          "scattermapbox": [
           {
            "marker": {
             "colorbar": {
              "outlinewidth": 0,
              "ticks": ""
             }
            },
            "type": "scattermapbox"
           }
          ],
          "scatterpolar": [
           {
            "marker": {
             "colorbar": {
              "outlinewidth": 0,
              "ticks": ""
             }
            },
            "type": "scatterpolar"
           }
          ],
          "scatterpolargl": [
           {
            "marker": {
             "colorbar": {
              "outlinewidth": 0,
              "ticks": ""
             }
            },
            "type": "scatterpolargl"
           }
          ],
          "scatterternary": [
           {
            "marker": {
             "colorbar": {
              "outlinewidth": 0,
              "ticks": ""
             }
            },
            "type": "scatterternary"
           }
          ],
          "surface": [
           {
            "colorbar": {
             "outlinewidth": 0,
             "ticks": ""
            },
            "colorscale": [
             [
              0,
              "#0d0887"
             ],
             [
              0.1111111111111111,
              "#46039f"
             ],
             [
              0.2222222222222222,
              "#7201a8"
             ],
             [
              0.3333333333333333,
              "#9c179e"
             ],
             [
              0.4444444444444444,
              "#bd3786"
             ],
             [
              0.5555555555555556,
              "#d8576b"
             ],
             [
              0.6666666666666666,
              "#ed7953"
             ],
             [
              0.7777777777777778,
              "#fb9f3a"
             ],
             [
              0.8888888888888888,
              "#fdca26"
             ],
             [
              1,
              "#f0f921"
             ]
            ],
            "type": "surface"
           }
          ],
          "table": [
           {
            "cells": {
             "fill": {
              "color": "#EBF0F8"
             },
             "line": {
              "color": "white"
             }
            },
            "header": {
             "fill": {
              "color": "#C8D4E3"
             },
             "line": {
              "color": "white"
             }
            },
            "type": "table"
           }
          ]
         },
         "layout": {
          "annotationdefaults": {
           "arrowcolor": "#2a3f5f",
           "arrowhead": 0,
           "arrowwidth": 1
          },
          "autotypenumbers": "strict",
          "coloraxis": {
           "colorbar": {
            "outlinewidth": 0,
            "ticks": ""
           }
          },
          "colorscale": {
           "diverging": [
            [
             0,
             "#8e0152"
            ],
            [
             0.1,
             "#c51b7d"
            ],
            [
             0.2,
             "#de77ae"
            ],
            [
             0.3,
             "#f1b6da"
            ],
            [
             0.4,
             "#fde0ef"
            ],
            [
             0.5,
             "#f7f7f7"
            ],
            [
             0.6,
             "#e6f5d0"
            ],
            [
             0.7,
             "#b8e186"
            ],
            [
             0.8,
             "#7fbc41"
            ],
            [
             0.9,
             "#4d9221"
            ],
            [
             1,
             "#276419"
            ]
           ],
           "sequential": [
            [
             0,
             "#0d0887"
            ],
            [
             0.1111111111111111,
             "#46039f"
            ],
            [
             0.2222222222222222,
             "#7201a8"
            ],
            [
             0.3333333333333333,
             "#9c179e"
            ],
            [
             0.4444444444444444,
             "#bd3786"
            ],
            [
             0.5555555555555556,
             "#d8576b"
            ],
            [
             0.6666666666666666,
             "#ed7953"
            ],
            [
             0.7777777777777778,
             "#fb9f3a"
            ],
            [
             0.8888888888888888,
             "#fdca26"
            ],
            [
             1,
             "#f0f921"
            ]
           ],
           "sequentialminus": [
            [
             0,
             "#0d0887"
            ],
            [
             0.1111111111111111,
             "#46039f"
            ],
            [
             0.2222222222222222,
             "#7201a8"
            ],
            [
             0.3333333333333333,
             "#9c179e"
            ],
            [
             0.4444444444444444,
             "#bd3786"
            ],
            [
             0.5555555555555556,
             "#d8576b"
            ],
            [
             0.6666666666666666,
             "#ed7953"
            ],
            [
             0.7777777777777778,
             "#fb9f3a"
            ],
            [
             0.8888888888888888,
             "#fdca26"
            ],
            [
             1,
             "#f0f921"
            ]
           ]
          },
          "colorway": [
           "#636efa",
           "#EF553B",
           "#00cc96",
           "#ab63fa",
           "#FFA15A",
           "#19d3f3",
           "#FF6692",
           "#B6E880",
           "#FF97FF",
           "#FECB52"
          ],
          "font": {
           "color": "#2a3f5f"
          },
          "geo": {
           "bgcolor": "white",
           "lakecolor": "white",
           "landcolor": "white",
           "showlakes": true,
           "showland": true,
           "subunitcolor": "#C8D4E3"
          },
          "hoverlabel": {
           "align": "left"
          },
          "hovermode": "closest",
          "mapbox": {
           "style": "light"
          },
          "paper_bgcolor": "white",
          "plot_bgcolor": "white",
          "polar": {
           "angularaxis": {
            "gridcolor": "#EBF0F8",
            "linecolor": "#EBF0F8",
            "ticks": ""
           },
           "bgcolor": "white",
           "radialaxis": {
            "gridcolor": "#EBF0F8",
            "linecolor": "#EBF0F8",
            "ticks": ""
           }
          },
          "scene": {
           "xaxis": {
            "backgroundcolor": "white",
            "gridcolor": "#DFE8F3",
            "gridwidth": 2,
            "linecolor": "#EBF0F8",
            "showbackground": true,
            "ticks": "",
            "zerolinecolor": "#EBF0F8"
           },
           "yaxis": {
            "backgroundcolor": "white",
            "gridcolor": "#DFE8F3",
            "gridwidth": 2,
            "linecolor": "#EBF0F8",
            "showbackground": true,
            "ticks": "",
            "zerolinecolor": "#EBF0F8"
           },
           "zaxis": {
            "backgroundcolor": "white",
            "gridcolor": "#DFE8F3",
            "gridwidth": 2,
            "linecolor": "#EBF0F8",
            "showbackground": true,
            "ticks": "",
            "zerolinecolor": "#EBF0F8"
           }
          },
          "shapedefaults": {
           "line": {
            "color": "#2a3f5f"
           }
          },
          "ternary": {
           "aaxis": {
            "gridcolor": "#DFE8F3",
            "linecolor": "#A2B1C6",
            "ticks": ""
           },
           "baxis": {
            "gridcolor": "#DFE8F3",
            "linecolor": "#A2B1C6",
            "ticks": ""
           },
           "bgcolor": "white",
           "caxis": {
            "gridcolor": "#DFE8F3",
            "linecolor": "#A2B1C6",
            "ticks": ""
           }
          },
          "title": {
           "x": 0.05
          },
          "xaxis": {
           "automargin": true,
           "gridcolor": "#EBF0F8",
           "linecolor": "#EBF0F8",
           "ticks": "",
           "title": {
            "standoff": 15
           },
           "zerolinecolor": "#EBF0F8",
           "zerolinewidth": 2
          },
          "yaxis": {
           "automargin": true,
           "gridcolor": "#EBF0F8",
           "linecolor": "#EBF0F8",
           "ticks": "",
           "title": {
            "standoff": 15
           },
           "zerolinecolor": "#EBF0F8",
           "zerolinewidth": 2
          }
         }
        },
        "title": {
         "text": "Pronóstico de Total Red con SARIMA"
        },
        "xaxis": {
         "title": {
          "text": "Mes y año"
         }
        },
        "yaxis": {
         "title": {
          "text": "Cantidad de Pasajeros"
         }
        }
       }
      }
     },
     "metadata": {},
     "output_type": "display_data"
    }
   ],
   "source": [
    "# Paso 1: Convertir la columna \"Mes y año\" al formato de fecha\n",
    "df_totales[\"Mes y año\"] = pd.to_datetime(df_totales[\"Mes y año\"], format=\"%Y.%m.%d\")\n",
    "\n",
    "# Paso 2: Configurar la columna \"Mes y año\" como índice para el análisis de series temporales\n",
    "df_totales.set_index(\"Mes y año\", inplace=True)\n",
    "\n",
    "# Paso 3: Crear una serie de tiempo para \"Total Red\" (selecciona la columna que desees pronosticar)\n",
    "serie_tiempo = df_totales[\"Total Red\"]\n",
    "\n",
    "# Paso 4: Dividir los datos en conjuntos de entrenamiento y prueba\n",
    "# Aquí usaremos los datos hasta diciembre de 2018 para entrenar el modelo y el resto para probar el rendimiento del modelo.\n",
    "train_data = serie_tiempo[\"2010-01-01\":\"2018-12-31\"]\n",
    "test_data = serie_tiempo[\"2019-01-01\": \"2019-12-01\"]\n",
    "\n",
    "# Paso 5: Implementar el modelo SARIMA para entrenamiento\n",
    "# NOTA: En esta etapa, deberás seleccionar los órdenes del modelo SARIMA (p, d, q, P, D, Q, s) y ajustar el modelo a los datos de entrenamiento.\n",
    "\n",
    "# Por ejemplo, para un modelo SARIMA con órdenes (1,1,1), (1,1,1,12):\n",
    "modelo = sm.tsa.SARIMAX(train_data, order=(5, 2, 4), seasonal_order=(6, 1, 3, 12))\n",
    "resultado = modelo.fit()\n",
    "\n",
    "# Paso 6: Hacer pronósticos con el modelo entrenado\n",
    "pronosticos = resultado.predict(start=\"2019-01-01\", end=\"2019-12-01\", dynamic=True)\n",
    "\n",
    "# Paso 7: Crear la gráfica utilizando Plotly\n",
    "fig = go.Figure()\n",
    "\n",
    "# Agregar los datos de entrenamiento y prueba a la figura\n",
    "fig.add_trace(go.Scatter(x=train_data.index, y=train_data, mode=\"lines\", name=\"Datos de entrenamiento\"))\n",
    "fig.add_trace(go.Scatter(x=test_data.index, y=test_data, mode=\"lines\", name=\"Datos de prueba\", line=dict(color=\"orange\")))\n",
    "fig.add_trace(go.Scatter(x=pronosticos.index, y=pronosticos, mode=\"lines\", name=\"Pronósticos\", line=dict(color=\"green\")))\n",
    "\n",
    "# Agregar línea vertical para indicar el fin de los datos de entrenamiento\n",
    "fig.add_shape(dict(type=\"line\", x0=\"2018-12-31\", x1=\"2018-12-31\", y0=0, y1=max(train_data), line=dict(color=\"gray\", width=2)))\n",
    "\n",
    "# Personalizar la figura\n",
    "fig.update_layout(title=\"Pronóstico de Total Red con SARIMA\",\n",
    "                  xaxis_title=\"Mes y año\",\n",
    "                  yaxis_title=\"Cantidad de Pasajeros\",\n",
    "                  legend=dict(x=0.02, y=-0.48),\n",
    "                  template=\"plotly_white\")\n",
    "\n",
    "# Mostrar la figura\n",
    "fig.show()"
   ]
  },
  {
   "cell_type": "markdown",
   "metadata": {},
   "source": [
    "### Conclusión del modelo SARIMA\n",
    "\n",
    "Para preparar la gráfica del modelo SARIMA, es fundamental asegurarse de que los datos de la serie de tiempo sean estacionarios. Durante nuestro análisis exploratorio de datos, observamos la presencia de estacionalidad, especialmente con valores más altos de abril a enero y valores más bajos en febrero. Esto nos motivó a considerar el uso del modelo SARIMA, el cual tiene en cuenta el componente estacional.\n",
    "\n",
    "Procedimos a calcular los componentes AR y MA para los datos originales sin diferenciar, lo cual reveló un patrón distinto en comparación con el modelo ARIMA. Sin embargo, para mejorar el rendimiento del modelo y obtener mejores resultados en comparación con los datos de prueba, decidimos aplicar una diferenciación de primer orden (D=1).\n",
    "\n",
    "Al incorporar la diferenciación, pudimos estabilizar la varianza y hacer que la serie de tiempo fuera estacionaria, lo cual resultó beneficioso para el modelo SARIMA. Esto nos permitió capturar los patrones estacionales de manera más efectiva y lograr predicciones precisas.\n",
    "\n",
    "En resumen, el modelo SARIMA con diferenciación de primer orden (D=1) tuvo un buen desempeño y mostró una buena alineación con los datos de prueba, lo que lo convierte en una opción adecuada para predecir valores futuros en la serie de tiempo. La gráfica resultante mostrará los valores predichos junto con los datos históricos, brindando información valiosa sobre el rendimiento del modelo."
   ]
  },
  {
   "cell_type": "markdown",
   "metadata": {},
   "source": [
    "### Modelo Prophet "
   ]
  },
  {
   "cell_type": "code",
   "execution_count": 44,
   "metadata": {},
   "outputs": [
    {
     "name": "stderr",
     "output_type": "stream",
     "text": [
      "15:52:57 - cmdstanpy - INFO - Chain [1] start processing\n",
      "15:52:58 - cmdstanpy - INFO - Chain [1] done processing\n"
     ]
    },
    {
     "data": {
      "application/vnd.plotly.v1+json": {
       "config": {
        "plotlyServerURL": "https://plot.ly"
       },
       "data": [
        {
         "mode": "lines",
         "name": "Datos de entrenamiento",
         "type": "scatter",
         "x": [
          "2010-01-01T00:00:00",
          "2010-02-01T00:00:00",
          "2010-03-01T00:00:00",
          "2010-04-01T00:00:00",
          "2010-05-01T00:00:00",
          "2010-06-01T00:00:00",
          "2010-07-01T00:00:00",
          "2010-08-01T00:00:00",
          "2010-09-01T00:00:00",
          "2010-10-01T00:00:00",
          "2010-11-01T00:00:00",
          "2010-12-01T00:00:00",
          "2011-01-01T00:00:00",
          "2011-02-01T00:00:00",
          "2011-03-01T00:00:00",
          "2011-04-01T00:00:00",
          "2011-05-01T00:00:00",
          "2011-06-01T00:00:00",
          "2011-07-01T00:00:00",
          "2011-08-01T00:00:00",
          "2011-09-01T00:00:00",
          "2011-10-01T00:00:00",
          "2011-11-01T00:00:00",
          "2011-12-01T00:00:00",
          "2012-01-01T00:00:00",
          "2012-02-01T00:00:00",
          "2012-03-01T00:00:00",
          "2012-04-01T00:00:00",
          "2012-05-01T00:00:00",
          "2012-06-01T00:00:00",
          "2012-07-01T00:00:00",
          "2012-08-01T00:00:00",
          "2012-09-01T00:00:00",
          "2012-10-01T00:00:00",
          "2012-11-01T00:00:00",
          "2012-12-01T00:00:00",
          "2013-01-01T00:00:00",
          "2013-02-01T00:00:00",
          "2013-03-01T00:00:00",
          "2013-04-01T00:00:00",
          "2013-05-01T00:00:00",
          "2013-06-01T00:00:00",
          "2013-07-01T00:00:00",
          "2013-08-01T00:00:00",
          "2013-09-01T00:00:00",
          "2013-10-01T00:00:00",
          "2013-11-01T00:00:00",
          "2013-12-01T00:00:00",
          "2014-01-01T00:00:00",
          "2014-02-01T00:00:00",
          "2014-03-01T00:00:00",
          "2014-04-01T00:00:00",
          "2014-05-01T00:00:00",
          "2014-06-01T00:00:00",
          "2014-07-01T00:00:00",
          "2014-08-01T00:00:00",
          "2014-09-01T00:00:00",
          "2014-10-01T00:00:00",
          "2014-11-01T00:00:00",
          "2014-12-01T00:00:00",
          "2015-01-01T00:00:00",
          "2015-02-01T00:00:00",
          "2015-03-01T00:00:00",
          "2015-04-01T00:00:00",
          "2015-05-01T00:00:00",
          "2015-06-01T00:00:00",
          "2015-07-01T00:00:00",
          "2015-08-01T00:00:00",
          "2015-09-01T00:00:00",
          "2015-10-01T00:00:00",
          "2015-11-01T00:00:00",
          "2015-12-01T00:00:00",
          "2016-01-01T00:00:00",
          "2016-02-01T00:00:00",
          "2016-03-01T00:00:00",
          "2016-04-01T00:00:00",
          "2016-05-01T00:00:00",
          "2016-06-01T00:00:00",
          "2016-07-01T00:00:00",
          "2016-08-01T00:00:00",
          "2016-09-01T00:00:00",
          "2016-10-01T00:00:00",
          "2016-11-01T00:00:00",
          "2016-12-01T00:00:00",
          "2017-01-01T00:00:00",
          "2017-02-01T00:00:00",
          "2017-03-01T00:00:00",
          "2017-04-01T00:00:00",
          "2017-05-01T00:00:00",
          "2017-06-01T00:00:00",
          "2017-07-01T00:00:00",
          "2017-08-01T00:00:00",
          "2017-09-01T00:00:00",
          "2017-10-01T00:00:00",
          "2017-11-01T00:00:00",
          "2017-12-01T00:00:00",
          "2018-01-01T00:00:00",
          "2018-02-01T00:00:00",
          "2018-03-01T00:00:00",
          "2018-04-01T00:00:00",
          "2018-05-01T00:00:00",
          "2018-06-01T00:00:00",
          "2018-07-01T00:00:00",
          "2018-08-01T00:00:00",
          "2018-09-01T00:00:00",
          "2018-10-01T00:00:00",
          "2018-11-01T00:00:00",
          "2018-12-01T00:00:00"
         ],
         "y": [
          45448230,
          35380504,
          50872123,
          55724226,
          55332802,
          54006430,
          52582599,
          55761621,
          52634247,
          55397610,
          54682325,
          52898157,
          45173385,
          37022612,
          56334412,
          55307019,
          59059910,
          55548472,
          53362640,
          55454510,
          55233669,
          54837184,
          56719204,
          55886693,
          48582472,
          38537893,
          56133115,
          55006083,
          58452186,
          57281861,
          53747850,
          59418021,
          50206950,
          60361363,
          56398424,
          54609550,
          49428299,
          37857274,
          53879768,
          61155239,
          58684770,
          56713770,
          57579327,
          60470199,
          52071095,
          62958654,
          58514454,
          57562952,
          50444413,
          39210626,
          58273732,
          59724965,
          59190033,
          57295504,
          57096162,
          58149357,
          54544091,
          62063867,
          55608183,
          56048219,
          48334077,
          39204118,
          57924937,
          58423709,
          55574231,
          57802708,
          55839497,
          57435857,
          55741302,
          59674644,
          58883987,
          56333126,
          48265594,
          41465640,
          57555775,
          58650858,
          60916665,
          56493566,
          55126778,
          60438297,
          57651951,
          56906489,
          58827334,
          57774180,
          49506205,
          40285403,
          61441655,
          54590789,
          62400404,
          58478732,
          56934537,
          62249300,
          56689096,
          60779651,
          63047129,
          58661146,
          53259808,
          44018980,
          61856577,
          63938728,
          64357176,
          62334844,
          57652027,
          66671235,
          55538676,
          68241964,
          62652538,
          60484759
         ]
        },
        {
         "line": {
          "color": "orange"
         },
         "mode": "lines",
         "name": "Datos de prueba",
         "type": "scatter",
         "x": [
          "2019-01-01T00:00:00",
          "2019-02-01T00:00:00",
          "2019-03-01T00:00:00",
          "2019-04-01T00:00:00",
          "2019-05-01T00:00:00",
          "2019-06-01T00:00:00",
          "2019-07-01T00:00:00",
          "2019-08-01T00:00:00",
          "2019-09-01T00:00:00",
          "2019-10-01T00:00:00",
          "2019-11-01T00:00:00",
          "2019-12-01T00:00:00"
         ],
         "y": [
          56829807,
          46556166,
          67032670,
          68402244,
          69029236,
          65651450,
          65657798,
          69943053,
          60511217,
          48853879,
          36798177,
          48407618
         ]
        },
        {
         "line": {
          "color": "green"
         },
         "mode": "lines",
         "name": "Pronósticos",
         "type": "scatter",
         "x": [
          "2010-01-01T00:00:00",
          "2010-02-01T00:00:00",
          "2010-03-01T00:00:00",
          "2010-04-01T00:00:00",
          "2010-05-01T00:00:00",
          "2010-06-01T00:00:00",
          "2010-07-01T00:00:00",
          "2010-08-01T00:00:00",
          "2010-09-01T00:00:00",
          "2010-10-01T00:00:00",
          "2010-11-01T00:00:00",
          "2010-12-01T00:00:00",
          "2011-01-01T00:00:00",
          "2011-02-01T00:00:00",
          "2011-03-01T00:00:00",
          "2011-04-01T00:00:00",
          "2011-05-01T00:00:00",
          "2011-06-01T00:00:00",
          "2011-07-01T00:00:00",
          "2011-08-01T00:00:00",
          "2011-09-01T00:00:00",
          "2011-10-01T00:00:00",
          "2011-11-01T00:00:00",
          "2011-12-01T00:00:00",
          "2012-01-01T00:00:00",
          "2012-02-01T00:00:00",
          "2012-03-01T00:00:00",
          "2012-04-01T00:00:00",
          "2012-05-01T00:00:00",
          "2012-06-01T00:00:00",
          "2012-07-01T00:00:00",
          "2012-08-01T00:00:00",
          "2012-09-01T00:00:00",
          "2012-10-01T00:00:00",
          "2012-11-01T00:00:00",
          "2012-12-01T00:00:00",
          "2013-01-01T00:00:00",
          "2013-02-01T00:00:00",
          "2013-03-01T00:00:00",
          "2013-04-01T00:00:00",
          "2013-05-01T00:00:00",
          "2013-06-01T00:00:00",
          "2013-07-01T00:00:00",
          "2013-08-01T00:00:00",
          "2013-09-01T00:00:00",
          "2013-10-01T00:00:00",
          "2013-11-01T00:00:00",
          "2013-12-01T00:00:00",
          "2014-01-01T00:00:00",
          "2014-02-01T00:00:00",
          "2014-03-01T00:00:00",
          "2014-04-01T00:00:00",
          "2014-05-01T00:00:00",
          "2014-06-01T00:00:00",
          "2014-07-01T00:00:00",
          "2014-08-01T00:00:00",
          "2014-09-01T00:00:00",
          "2014-10-01T00:00:00",
          "2014-11-01T00:00:00",
          "2014-12-01T00:00:00",
          "2015-01-01T00:00:00",
          "2015-02-01T00:00:00",
          "2015-03-01T00:00:00",
          "2015-04-01T00:00:00",
          "2015-05-01T00:00:00",
          "2015-06-01T00:00:00",
          "2015-07-01T00:00:00",
          "2015-08-01T00:00:00",
          "2015-09-01T00:00:00",
          "2015-10-01T00:00:00",
          "2015-11-01T00:00:00",
          "2015-12-01T00:00:00",
          "2016-01-01T00:00:00",
          "2016-02-01T00:00:00",
          "2016-03-01T00:00:00",
          "2016-04-01T00:00:00",
          "2016-05-01T00:00:00",
          "2016-06-01T00:00:00",
          "2016-07-01T00:00:00",
          "2016-08-01T00:00:00",
          "2016-09-01T00:00:00",
          "2016-10-01T00:00:00",
          "2016-11-01T00:00:00",
          "2016-12-01T00:00:00",
          "2017-01-01T00:00:00",
          "2017-02-01T00:00:00",
          "2017-03-01T00:00:00",
          "2017-04-01T00:00:00",
          "2017-05-01T00:00:00",
          "2017-06-01T00:00:00",
          "2017-07-01T00:00:00",
          "2017-08-01T00:00:00",
          "2017-09-01T00:00:00",
          "2017-10-01T00:00:00",
          "2017-11-01T00:00:00",
          "2017-12-01T00:00:00",
          "2018-01-01T00:00:00",
          "2018-02-01T00:00:00",
          "2018-03-01T00:00:00",
          "2018-04-01T00:00:00",
          "2018-05-01T00:00:00",
          "2018-06-01T00:00:00",
          "2018-07-01T00:00:00",
          "2018-08-01T00:00:00",
          "2018-09-01T00:00:00",
          "2018-10-01T00:00:00",
          "2018-11-01T00:00:00",
          "2018-12-01T00:00:00",
          "2018-12-31T00:00:00",
          "2019-01-31T00:00:00",
          "2019-02-28T00:00:00",
          "2019-03-31T00:00:00",
          "2019-04-30T00:00:00",
          "2019-05-31T00:00:00",
          "2019-06-30T00:00:00",
          "2019-07-31T00:00:00",
          "2019-08-31T00:00:00",
          "2019-09-30T00:00:00",
          "2019-10-31T00:00:00",
          "2019-11-30T00:00:00"
         ],
         "y": [
          45266667.647423975,
          35479085.77372672,
          53541180.60946509,
          54636668.34940376,
          55493067.02288151,
          53885153.777999595,
          52120563.846446194,
          55700840.70149279,
          51318476.33793798,
          56658087.09005208,
          54887586.756474115,
          53241580.67215774,
          46139431.184826985,
          37065565.89974565,
          54823784.989678055,
          56266275.951093055,
          56161324.16150843,
          55415735.0304911,
          53608034.880332746,
          56193530.927366726,
          53350172.54599109,
          57872472.512066215,
          56046202.67861331,
          54426561.84250511,
          46906210.79596211,
          38537889.610626206,
          56038437.609283544,
          56405134.4881228,
          59188754.365922436,
          55870282.78986248,
          54101692.74404953,
          59665161.32521552,
          52172793.00518343,
          59030183.81265344,
          57340666.594564535,
          55594782.687419966,
          49315942.04523271,
          38807289.541809976,
          57139721.27597703,
          57865572.58994592,
          59674432.24741109,
          57197614.87328784,
          55423668.05614404,
          59973703.83723352,
          54018085.7792979,
          60057409.608416475,
          58251144.55356706,
          56484290.178469315,
          49714632.58595634,
          39787963.907816015,
          57724431.95243868,
          58680832.887923844,
          59402628.67606142,
          57655625.78299052,
          55756432.96609399,
          59197620.144788325,
          54676166.119679496,
          59881173.97351961,
          57971583.978392996,
          56190975.2183954,
          48949736.29952822,
          39736781.582912736,
          57380086.343952954,
          58696239.900059395,
          58469026.10532291,
          57597099.568993,
          55722925.40788573,
          58239731.64360832,
          55327683.4509146,
          59797684.845619485,
          57917373.15508172,
          56245433.74759937,
          48671040.8474728,
          40248717.029713884,
          57698746.43675128,
          58011440.68317481,
          60742800.025314264,
          57370325.89573729,
          55549475.31426492,
          61090161.547909915,
          53575010.91203322,
          60410354.31707336,
          58698054.78314044,
          56993866.428288564,
          50758111.190142766,
          40292544.09075446,
          58729255.91062529,
          59570560.17663034,
          61491148.497342594,
          59129784.07525545,
          57474513.774886884,
          62147181.95664212,
          56314196.29938169,
          62528476.20796757,
          60902999.101906545,
          59311100.80628258,
          52722231.162559666,
          43033978.73040951,
          61185790.481097884,
          62380607.662579864,
          63333131.543305784,
          61824547.67925628,
          60156082.95495555,
          63835689.19082528,
          59552654.222903535,
          64988390.19659627,
          63317219.25864659,
          61767338.409020744,
          53102154.30810964,
          47053677.852815434,
          63496504.004438184,
          66375428.2594109,
          62618333.571557015,
          65515720.00262529,
          63560091.372745484,
          62496723.2796852,
          66006964.413322225,
          67213247.15577485,
          65409326.559059635,
          64071124.71490354
         ]
        }
       ],
       "layout": {
        "legend": {
         "x": 0.02,
         "y": 0.98
        },
        "template": {
         "data": {
          "bar": [
           {
            "error_x": {
             "color": "#2a3f5f"
            },
            "error_y": {
             "color": "#2a3f5f"
            },
            "marker": {
             "line": {
              "color": "white",
              "width": 0.5
             },
             "pattern": {
              "fillmode": "overlay",
              "size": 10,
              "solidity": 0.2
             }
            },
            "type": "bar"
           }
          ],
          "barpolar": [
           {
            "marker": {
             "line": {
              "color": "white",
              "width": 0.5
             },
             "pattern": {
              "fillmode": "overlay",
              "size": 10,
              "solidity": 0.2
             }
            },
            "type": "barpolar"
           }
          ],
          "carpet": [
           {
            "aaxis": {
             "endlinecolor": "#2a3f5f",
             "gridcolor": "#C8D4E3",
             "linecolor": "#C8D4E3",
             "minorgridcolor": "#C8D4E3",
             "startlinecolor": "#2a3f5f"
            },
            "baxis": {
             "endlinecolor": "#2a3f5f",
             "gridcolor": "#C8D4E3",
             "linecolor": "#C8D4E3",
             "minorgridcolor": "#C8D4E3",
             "startlinecolor": "#2a3f5f"
            },
            "type": "carpet"
           }
          ],
          "choropleth": [
           {
            "colorbar": {
             "outlinewidth": 0,
             "ticks": ""
            },
            "type": "choropleth"
           }
          ],
          "contour": [
           {
            "colorbar": {
             "outlinewidth": 0,
             "ticks": ""
            },
            "colorscale": [
             [
              0,
              "#0d0887"
             ],
             [
              0.1111111111111111,
              "#46039f"
             ],
             [
              0.2222222222222222,
              "#7201a8"
             ],
             [
              0.3333333333333333,
              "#9c179e"
             ],
             [
              0.4444444444444444,
              "#bd3786"
             ],
             [
              0.5555555555555556,
              "#d8576b"
             ],
             [
              0.6666666666666666,
              "#ed7953"
             ],
             [
              0.7777777777777778,
              "#fb9f3a"
             ],
             [
              0.8888888888888888,
              "#fdca26"
             ],
             [
              1,
              "#f0f921"
             ]
            ],
            "type": "contour"
           }
          ],
          "contourcarpet": [
           {
            "colorbar": {
             "outlinewidth": 0,
             "ticks": ""
            },
            "type": "contourcarpet"
           }
          ],
          "heatmap": [
           {
            "colorbar": {
             "outlinewidth": 0,
             "ticks": ""
            },
            "colorscale": [
             [
              0,
              "#0d0887"
             ],
             [
              0.1111111111111111,
              "#46039f"
             ],
             [
              0.2222222222222222,
              "#7201a8"
             ],
             [
              0.3333333333333333,
              "#9c179e"
             ],
             [
              0.4444444444444444,
              "#bd3786"
             ],
             [
              0.5555555555555556,
              "#d8576b"
             ],
             [
              0.6666666666666666,
              "#ed7953"
             ],
             [
              0.7777777777777778,
              "#fb9f3a"
             ],
             [
              0.8888888888888888,
              "#fdca26"
             ],
             [
              1,
              "#f0f921"
             ]
            ],
            "type": "heatmap"
           }
          ],
          "heatmapgl": [
           {
            "colorbar": {
             "outlinewidth": 0,
             "ticks": ""
            },
            "colorscale": [
             [
              0,
              "#0d0887"
             ],
             [
              0.1111111111111111,
              "#46039f"
             ],
             [
              0.2222222222222222,
              "#7201a8"
             ],
             [
              0.3333333333333333,
              "#9c179e"
             ],
             [
              0.4444444444444444,
              "#bd3786"
             ],
             [
              0.5555555555555556,
              "#d8576b"
             ],
             [
              0.6666666666666666,
              "#ed7953"
             ],
             [
              0.7777777777777778,
              "#fb9f3a"
             ],
             [
              0.8888888888888888,
              "#fdca26"
             ],
             [
              1,
              "#f0f921"
             ]
            ],
            "type": "heatmapgl"
           }
          ],
          "histogram": [
           {
            "marker": {
             "pattern": {
              "fillmode": "overlay",
              "size": 10,
              "solidity": 0.2
             }
            },
            "type": "histogram"
           }
          ],
          "histogram2d": [
           {
            "colorbar": {
             "outlinewidth": 0,
             "ticks": ""
            },
            "colorscale": [
             [
              0,
              "#0d0887"
             ],
             [
              0.1111111111111111,
              "#46039f"
             ],
             [
              0.2222222222222222,
              "#7201a8"
             ],
             [
              0.3333333333333333,
              "#9c179e"
             ],
             [
              0.4444444444444444,
              "#bd3786"
             ],
             [
              0.5555555555555556,
              "#d8576b"
             ],
             [
              0.6666666666666666,
              "#ed7953"
             ],
             [
              0.7777777777777778,
              "#fb9f3a"
             ],
             [
              0.8888888888888888,
              "#fdca26"
             ],
             [
              1,
              "#f0f921"
             ]
            ],
            "type": "histogram2d"
           }
          ],
          "histogram2dcontour": [
           {
            "colorbar": {
             "outlinewidth": 0,
             "ticks": ""
            },
            "colorscale": [
             [
              0,
              "#0d0887"
             ],
             [
              0.1111111111111111,
              "#46039f"
             ],
             [
              0.2222222222222222,
              "#7201a8"
             ],
             [
              0.3333333333333333,
              "#9c179e"
             ],
             [
              0.4444444444444444,
              "#bd3786"
             ],
             [
              0.5555555555555556,
              "#d8576b"
             ],
             [
              0.6666666666666666,
              "#ed7953"
             ],
             [
              0.7777777777777778,
              "#fb9f3a"
             ],
             [
              0.8888888888888888,
              "#fdca26"
             ],
             [
              1,
              "#f0f921"
             ]
            ],
            "type": "histogram2dcontour"
           }
          ],
          "mesh3d": [
           {
            "colorbar": {
             "outlinewidth": 0,
             "ticks": ""
            },
            "type": "mesh3d"
           }
          ],
          "parcoords": [
           {
            "line": {
             "colorbar": {
              "outlinewidth": 0,
              "ticks": ""
             }
            },
            "type": "parcoords"
           }
          ],
          "pie": [
           {
            "automargin": true,
            "type": "pie"
           }
          ],
          "scatter": [
           {
            "fillpattern": {
             "fillmode": "overlay",
             "size": 10,
             "solidity": 0.2
            },
            "type": "scatter"
           }
          ],
          "scatter3d": [
           {
            "line": {
             "colorbar": {
              "outlinewidth": 0,
              "ticks": ""
             }
            },
            "marker": {
             "colorbar": {
              "outlinewidth": 0,
              "ticks": ""
             }
            },
            "type": "scatter3d"
           }
          ],
          "scattercarpet": [
           {
            "marker": {
             "colorbar": {
              "outlinewidth": 0,
              "ticks": ""
             }
            },
            "type": "scattercarpet"
           }
          ],
          "scattergeo": [
           {
            "marker": {
             "colorbar": {
              "outlinewidth": 0,
              "ticks": ""
             }
            },
            "type": "scattergeo"
           }
          ],
          "scattergl": [
           {
            "marker": {
             "colorbar": {
              "outlinewidth": 0,
              "ticks": ""
             }
            },
            "type": "scattergl"
           }
          ],
          "scattermapbox": [
           {
            "marker": {
             "colorbar": {
              "outlinewidth": 0,
              "ticks": ""
             }
            },
            "type": "scattermapbox"
           }
          ],
          "scatterpolar": [
           {
            "marker": {
             "colorbar": {
              "outlinewidth": 0,
              "ticks": ""
             }
            },
            "type": "scatterpolar"
           }
          ],
          "scatterpolargl": [
           {
            "marker": {
             "colorbar": {
              "outlinewidth": 0,
              "ticks": ""
             }
            },
            "type": "scatterpolargl"
           }
          ],
          "scatterternary": [
           {
            "marker": {
             "colorbar": {
              "outlinewidth": 0,
              "ticks": ""
             }
            },
            "type": "scatterternary"
           }
          ],
          "surface": [
           {
            "colorbar": {
             "outlinewidth": 0,
             "ticks": ""
            },
            "colorscale": [
             [
              0,
              "#0d0887"
             ],
             [
              0.1111111111111111,
              "#46039f"
             ],
             [
              0.2222222222222222,
              "#7201a8"
             ],
             [
              0.3333333333333333,
              "#9c179e"
             ],
             [
              0.4444444444444444,
              "#bd3786"
             ],
             [
              0.5555555555555556,
              "#d8576b"
             ],
             [
              0.6666666666666666,
              "#ed7953"
             ],
             [
              0.7777777777777778,
              "#fb9f3a"
             ],
             [
              0.8888888888888888,
              "#fdca26"
             ],
             [
              1,
              "#f0f921"
             ]
            ],
            "type": "surface"
           }
          ],
          "table": [
           {
            "cells": {
             "fill": {
              "color": "#EBF0F8"
             },
             "line": {
              "color": "white"
             }
            },
            "header": {
             "fill": {
              "color": "#C8D4E3"
             },
             "line": {
              "color": "white"
             }
            },
            "type": "table"
           }
          ]
         },
         "layout": {
          "annotationdefaults": {
           "arrowcolor": "#2a3f5f",
           "arrowhead": 0,
           "arrowwidth": 1
          },
          "autotypenumbers": "strict",
          "coloraxis": {
           "colorbar": {
            "outlinewidth": 0,
            "ticks": ""
           }
          },
          "colorscale": {
           "diverging": [
            [
             0,
             "#8e0152"
            ],
            [
             0.1,
             "#c51b7d"
            ],
            [
             0.2,
             "#de77ae"
            ],
            [
             0.3,
             "#f1b6da"
            ],
            [
             0.4,
             "#fde0ef"
            ],
            [
             0.5,
             "#f7f7f7"
            ],
            [
             0.6,
             "#e6f5d0"
            ],
            [
             0.7,
             "#b8e186"
            ],
            [
             0.8,
             "#7fbc41"
            ],
            [
             0.9,
             "#4d9221"
            ],
            [
             1,
             "#276419"
            ]
           ],
           "sequential": [
            [
             0,
             "#0d0887"
            ],
            [
             0.1111111111111111,
             "#46039f"
            ],
            [
             0.2222222222222222,
             "#7201a8"
            ],
            [
             0.3333333333333333,
             "#9c179e"
            ],
            [
             0.4444444444444444,
             "#bd3786"
            ],
            [
             0.5555555555555556,
             "#d8576b"
            ],
            [
             0.6666666666666666,
             "#ed7953"
            ],
            [
             0.7777777777777778,
             "#fb9f3a"
            ],
            [
             0.8888888888888888,
             "#fdca26"
            ],
            [
             1,
             "#f0f921"
            ]
           ],
           "sequentialminus": [
            [
             0,
             "#0d0887"
            ],
            [
             0.1111111111111111,
             "#46039f"
            ],
            [
             0.2222222222222222,
             "#7201a8"
            ],
            [
             0.3333333333333333,
             "#9c179e"
            ],
            [
             0.4444444444444444,
             "#bd3786"
            ],
            [
             0.5555555555555556,
             "#d8576b"
            ],
            [
             0.6666666666666666,
             "#ed7953"
            ],
            [
             0.7777777777777778,
             "#fb9f3a"
            ],
            [
             0.8888888888888888,
             "#fdca26"
            ],
            [
             1,
             "#f0f921"
            ]
           ]
          },
          "colorway": [
           "#636efa",
           "#EF553B",
           "#00cc96",
           "#ab63fa",
           "#FFA15A",
           "#19d3f3",
           "#FF6692",
           "#B6E880",
           "#FF97FF",
           "#FECB52"
          ],
          "font": {
           "color": "#2a3f5f"
          },
          "geo": {
           "bgcolor": "white",
           "lakecolor": "white",
           "landcolor": "white",
           "showlakes": true,
           "showland": true,
           "subunitcolor": "#C8D4E3"
          },
          "hoverlabel": {
           "align": "left"
          },
          "hovermode": "closest",
          "mapbox": {
           "style": "light"
          },
          "paper_bgcolor": "white",
          "plot_bgcolor": "white",
          "polar": {
           "angularaxis": {
            "gridcolor": "#EBF0F8",
            "linecolor": "#EBF0F8",
            "ticks": ""
           },
           "bgcolor": "white",
           "radialaxis": {
            "gridcolor": "#EBF0F8",
            "linecolor": "#EBF0F8",
            "ticks": ""
           }
          },
          "scene": {
           "xaxis": {
            "backgroundcolor": "white",
            "gridcolor": "#DFE8F3",
            "gridwidth": 2,
            "linecolor": "#EBF0F8",
            "showbackground": true,
            "ticks": "",
            "zerolinecolor": "#EBF0F8"
           },
           "yaxis": {
            "backgroundcolor": "white",
            "gridcolor": "#DFE8F3",
            "gridwidth": 2,
            "linecolor": "#EBF0F8",
            "showbackground": true,
            "ticks": "",
            "zerolinecolor": "#EBF0F8"
           },
           "zaxis": {
            "backgroundcolor": "white",
            "gridcolor": "#DFE8F3",
            "gridwidth": 2,
            "linecolor": "#EBF0F8",
            "showbackground": true,
            "ticks": "",
            "zerolinecolor": "#EBF0F8"
           }
          },
          "shapedefaults": {
           "line": {
            "color": "#2a3f5f"
           }
          },
          "ternary": {
           "aaxis": {
            "gridcolor": "#DFE8F3",
            "linecolor": "#A2B1C6",
            "ticks": ""
           },
           "baxis": {
            "gridcolor": "#DFE8F3",
            "linecolor": "#A2B1C6",
            "ticks": ""
           },
           "bgcolor": "white",
           "caxis": {
            "gridcolor": "#DFE8F3",
            "linecolor": "#A2B1C6",
            "ticks": ""
           }
          },
          "title": {
           "x": 0.05
          },
          "xaxis": {
           "automargin": true,
           "gridcolor": "#EBF0F8",
           "linecolor": "#EBF0F8",
           "ticks": "",
           "title": {
            "standoff": 15
           },
           "zerolinecolor": "#EBF0F8",
           "zerolinewidth": 2
          },
          "yaxis": {
           "automargin": true,
           "gridcolor": "#EBF0F8",
           "linecolor": "#EBF0F8",
           "ticks": "",
           "title": {
            "standoff": 15
           },
           "zerolinecolor": "#EBF0F8",
           "zerolinewidth": 2
          }
         }
        },
        "title": {
         "text": "Pronóstico de Total Red con Prophet"
        },
        "xaxis": {
         "title": {
          "text": "Fecha"
         }
        },
        "yaxis": {
         "title": {
          "text": "Cantidad de Pasajeros"
         }
        }
       }
      }
     },
     "metadata": {},
     "output_type": "display_data"
    }
   ],
   "source": [
    "# Paso 1: Dividir los datos en conjuntos de entrenamiento y prueba\n",
    "# Usamos los datos hasta diciembre de 2018 para entrenar el modelo\n",
    "# y el resto (todo el año 2019) para probar el rendimiento del modelo.\n",
    "train_data = serie_tiempo[\"2010-01-01\":\"2018-12-31\"]\n",
    "test_data = serie_tiempo[\"2019-01-01\":\"2019-12-31\"]\n",
    "\n",
    "# Paso 2: Preparar los datos para Prophet\n",
    "train_df = pd.DataFrame({\"ds\": train_data.index, \"y\": train_data.values})\n",
    "test_df = pd.DataFrame({\"ds\": test_data.index, \"y\": test_data.values})\n",
    "\n",
    "# Paso 3: Crear y entrenar el modelo Prophet\n",
    "model = Prophet(changepoint_prior_scale=0.2,       # Configurar el prior de changepoints\n",
    "                seasonality_prior_scale=50,        # Configurar el prior de estacionalidad\n",
    "                holidays_prior_scale=30,)          # Configurar el prior de vacaciones\n",
    "                  \n",
    "model.fit(train_df)\n",
    "\n",
    "# Paso 4: Hacer predicciones mensuales para el año 2019\n",
    "future = model.make_future_dataframe(periods=12, freq='M')  # 12 meses para el año 2019\n",
    "forecast = model.predict(future)\n",
    "\n",
    "# Paso 5: Graficar las predicciones junto con los datos históricos\n",
    "fig = go.Figure()\n",
    "\n",
    "# Datos de entrenamiento y prueba\n",
    "fig.add_trace(go.Scatter(x=train_data.index, y=train_data.values, mode=\"lines\", name=\"Datos de entrenamiento\"))\n",
    "fig.add_trace(go.Scatter(x=test_data.index, y=test_data.values, mode=\"lines\", name=\"Datos de prueba\", line=dict(color=\"orange\")))\n",
    "\n",
    "# Predicciones mensuales para el año 2019\n",
    "fig.add_trace(go.Scatter(x=forecast[\"ds\"], y=forecast[\"yhat\"], mode=\"lines\", name=\"Pronósticos\", line=dict(color=\"green\")))\n",
    "\n",
    "# Personalizar la figura\n",
    "fig.update_layout(title=\"Pronóstico de Total Red con Prophet\",\n",
    "                  xaxis_title=\"Fecha\",\n",
    "                  yaxis_title=\"Cantidad de Pasajeros\",\n",
    "                  legend=dict(x=0.02, y=0.98),\n",
    "                  template=\"plotly_white\")\n",
    "\n",
    "# Mostrar la figura\n",
    "fig.show()\n"
   ]
  },
  {
   "cell_type": "markdown",
   "metadata": {},
   "source": [
    "### Conclusión del modelo Prophet\n",
    "\n",
    "El modelo Prophet surge como una herramienta útil para realizar un benchmark, ya que es relativamente sencillo de utilizar y no requiere de ajuste de hiperparámetros complicados. Sin embargo, esto no significa que sea menos efectivo en su capacidad para identificar relaciones y similitudes con otros modelos.\n",
    "\n",
    "En este caso, el modelo Prophet ofrece parámetros interactivos que permiten ajustar su rendimiento. Durante el proceso de implementación, realizamos modificaciones en estos parámetros para evitar problemas de overfitting, es decir, que el modelo se ajuste demasiado a los datos de entrenamiento y no pueda generalizar correctamente con datos nuevos. Asimismo, ajustamos los parámetros para evitar sesgos que puedan afectar la calidad de las predicciones.\n",
    "\n",
    "El resultado final del modelo Prophet mostró un rendimiento afinado, logrando un equilibrio entre la capacidad de capturar patrones estacionales y tendencias en los datos, y al mismo tiempo evitando problemas de sobreajuste. Esto nos permitió obtener predicciones precisas y confiables, lo que lo convierte en una herramienta valiosa para nuestro análisis de series de tiempo.\n",
    "\n",
    "En conclusión, el modelo Prophet es una opción eficiente para realizar pronósticos y análisis exploratorios de series de tiempo, y con una configuración adecuada de sus parámetros, puede brindar resultados muy útiles para la toma de decisiones y la planificación futura."
   ]
  },
  {
   "cell_type": "markdown",
   "metadata": {},
   "source": [
    "## Conclusiones generales\n",
    "\n",
    "tras realizar el análisis exploratorio y el modelado de series de tiempo utilizando diferentes enfoques, podemos obtener las siguientes conclusiones:\n",
    "\n",
    "Análisis de estacionalidad: Durante el análisis exploratorio de los datos, identificamos la presencia de estacionalidad en la serie de tiempo. Esto nos llevó a considerar modelos que pudieran capturar esta característica y ajustarse adecuadamente a los patrones estacionales presentes en los datos.\n",
    "\n",
    "1. Modelo ARIMA: El modelo ARIMA fue utilizado como punto de partida para realizar predicciones en la serie de tiempo. Sin embargo, encontramos que este modelo no se ajustaba bien a los datos, lo que sugiere que el componente estacional no estaba siendo adecuadamente capturado.\n",
    "\n",
    "2. Diferenciación: Para abordar el problema de la estacionalidad, aplicamos diferenciación a la serie de tiempo, lo que nos permitió convertirla en estacionaria y reducir la presencia de tendencias y patrones estacionales.\n",
    "\n",
    "3. Modelo SARIMA: El modelo SARIMA, que incluye términos de estacionalidad junto con los términos ARIMA, fue una mejor opción para modelar la serie de tiempo, ya que pudo capturar adecuadamente la estacionalidad y ofrecer mejores predicciones.\n",
    "\n",
    "4. Modelo Prophet: Como parte de un benchmarking, utilizamos el modelo Prophet, que demostró ser una herramienta eficiente y sencilla de implementar. Ajustamos los parámetros para evitar problemas de overfitting y sesgos, lo que nos permitió obtener predicciones precisas y confiables.\n",
    "\n",
    "5. Predicciones y resultados: El proyecto se originó con la idea de implementarlo a partir del año 2023, debido a que los años 2020, 2021 y 2022 estuvieron marcados por eventos caóticos como el estallido social y la pandemia de COVID-19. Aunque se contaba con datos hasta abril de 2023, se optó por enfocarse inicialmente en los datos estables y consistentes de los años 2010 a 2019. El objetivo principal fue evaluar si los modelos desarrollados podían funcionar adecuadamente con datos históricos y luego aplicarlos al año 2023 para realizar pronósticos y planificación futura.\n",
    "\n",
    "Ahora, con modelos validados y afinados, se tiene la confianza de aplicarlos al año 2023 y realizar predicciones para poder planificar estratégicamente. Estos modelos pueden ser una herramienta valiosa para enfrentar los desafíos futuros y tomar decisiones informadas en áreas clave de interés, brindando una mayor visibilidad sobre las tendencias y comportamientos esperados en la serie de tiempo.\n",
    "\n",
    "En conclusión, el enfoque adoptado de trabajar con datos estables y evaluar modelos en datos históricos antes de aplicarlos al año 2023, ha permitido desarrollar un proyecto sólido y confiable para el pronóstico y planificación futura, lo que puede tener un impacto significativo en la toma de decisiones estratégicas y en la preparación para eventos futuros."
   ]
  }
 ],
 "metadata": {
  "kernelspec": {
   "display_name": "Python 3",
   "language": "python",
   "name": "python3"
  },
  "language_info": {
   "codemirror_mode": {
    "name": "ipython",
    "version": 3
   },
   "file_extension": ".py",
   "mimetype": "text/x-python",
   "name": "python",
   "nbconvert_exporter": "python",
   "pygments_lexer": "ipython3",
   "version": "3.11.1"
  },
  "orig_nbformat": 4
 },
 "nbformat": 4,
 "nbformat_minor": 2
}
